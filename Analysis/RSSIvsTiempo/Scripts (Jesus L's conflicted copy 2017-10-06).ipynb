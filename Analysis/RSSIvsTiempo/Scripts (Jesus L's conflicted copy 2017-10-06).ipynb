{
 "cells": [
  {
   "cell_type": "markdown",
   "metadata": {},
   "source": [
    "# RSSI vs Tiempo"
   ]
  },
  {
   "cell_type": "code",
   "execution_count": 1,
   "metadata": {},
   "outputs": [],
   "source": [
    "# Imports\n",
    "import pandas as pd\n",
    "import numpy as np\n",
    "import matplotlib.pyplot as plt\n",
    "import math\n",
    "%matplotlib inline"
   ]
  },
  {
   "cell_type": "markdown",
   "metadata": {},
   "source": [
    "## Con raspberry Pi 2 , usando Ruta 2 (de datos simulacion en tiempo real)"
   ]
  },
  {
   "cell_type": "code",
   "execution_count": 2,
   "metadata": {
    "collapsed": true
   },
   "outputs": [],
   "source": [
    "#Leer CSV posicion 1 Tx 0x01 toma 1\n",
    "t01_t1 = pd.read_csv('./raspRutas/Tx0x01/Ruta2/t1/t1', delim_whitespace=True, names=['Fecha','Hora','Be07','Be08','Be09','Be10','Be11'])"
   ]
  },
  {
   "cell_type": "code",
   "execution_count": 3,
   "metadata": {
    "collapsed": true
   },
   "outputs": [],
   "source": [
    "#Leer CSV posicion 1 Tx 0x01 toma 2\n",
    "t01_t2 = pd.read_csv('./raspRutas/Tx0x01/Ruta2/t2/t1', delim_whitespace=True, names=['Fecha','Hora','Be07','Be08','Be09','Be10','Be11'])"
   ]
  },
  {
   "cell_type": "code",
   "execution_count": 18,
   "metadata": {
    "collapsed": true
   },
   "outputs": [
    {
     "data": {
      "text/plain": [
       "0     -56.313433\n",
       "1     -56.313433\n",
       "2     -56.313433\n",
       "3     -56.313433\n",
       "4     -56.313433\n",
       "5     -56.313433\n",
       "6     -56.313433\n",
       "7     -56.313433\n",
       "8     -56.313433\n",
       "9     -56.313433\n",
       "10    -56.313433\n",
       "11    -56.313433\n",
       "12    -56.313433\n",
       "13    -56.313433\n",
       "14    -56.313433\n",
       "15    -56.313433\n",
       "16    -56.313433\n",
       "17    -56.313433\n",
       "18    -56.313433\n",
       "19    -56.313433\n",
       "20    -56.313433\n",
       "21    -56.313433\n",
       "22    -56.313433\n",
       "23    -56.313433\n",
       "24    -56.313433\n",
       "25    -56.313433\n",
       "26    -56.313433\n",
       "27    -56.313433\n",
       "28    -56.313433\n",
       "29    -56.313433\n",
       "         ...    \n",
       "220   -56.313433\n",
       "221   -56.313433\n",
       "222   -56.313433\n",
       "223   -56.313433\n",
       "224   -56.313433\n",
       "225   -56.313433\n",
       "226   -56.313433\n",
       "227   -56.313433\n",
       "228   -56.313433\n",
       "229   -56.313433\n",
       "230   -56.313433\n",
       "231   -56.313433\n",
       "232   -56.313433\n",
       "233   -56.313433\n",
       "234   -56.313433\n",
       "235   -56.313433\n",
       "236   -56.313433\n",
       "237   -56.313433\n",
       "238   -56.313433\n",
       "239   -56.313433\n",
       "240   -56.313433\n",
       "241   -56.313433\n",
       "242   -56.313433\n",
       "243   -56.313433\n",
       "244   -56.313433\n",
       "245   -56.313433\n",
       "246   -56.313433\n",
       "247   -56.313433\n",
       "248   -56.313433\n",
       "249   -56.313433\n",
       "dtype: float64"
      ]
     },
     "execution_count": 18,
     "metadata": {},
     "output_type": "execute_result"
    }
   ],
   "source": []
  },
  {
   "cell_type": "code",
   "execution_count": 4,
   "metadata": {},
   "outputs": [
    {
     "data": {
      "text/html": [
       "<div>\n",
       "<table border=\"1\" class=\"dataframe\">\n",
       "  <thead>\n",
       "    <tr style=\"text-align: right;\">\n",
       "      <th></th>\n",
       "      <th>Fecha</th>\n",
       "      <th>Hora</th>\n",
       "      <th>Be07</th>\n",
       "      <th>Be08</th>\n",
       "      <th>Be09</th>\n",
       "      <th>Be10</th>\n",
       "      <th>Be11</th>\n",
       "    </tr>\n",
       "  </thead>\n",
       "  <tbody>\n",
       "    <tr>\n",
       "      <th>0</th>\n",
       "      <td>2016-05-19</td>\n",
       "      <td>23:38:16.918718</td>\n",
       "      <td>-51.0</td>\n",
       "      <td>-55.0</td>\n",
       "      <td>-61.0</td>\n",
       "      <td>-59.0</td>\n",
       "      <td>-53.0</td>\n",
       "    </tr>\n",
       "    <tr>\n",
       "      <th>1</th>\n",
       "      <td>2016-05-19</td>\n",
       "      <td>23:38:17.121748</td>\n",
       "      <td>-52.0</td>\n",
       "      <td>-59.0</td>\n",
       "      <td>-67.0</td>\n",
       "      <td>-58.0</td>\n",
       "      <td>-50.0</td>\n",
       "    </tr>\n",
       "    <tr>\n",
       "      <th>2</th>\n",
       "      <td>2016-05-19</td>\n",
       "      <td>23:38:17.224758</td>\n",
       "      <td>-60.0</td>\n",
       "      <td>-54.0</td>\n",
       "      <td>-62.0</td>\n",
       "      <td>-59.0</td>\n",
       "      <td>-57.0</td>\n",
       "    </tr>\n",
       "    <tr>\n",
       "      <th>3</th>\n",
       "      <td>2016-05-19</td>\n",
       "      <td>23:38:17.329772</td>\n",
       "      <td>-67.0</td>\n",
       "      <td>-62.0</td>\n",
       "      <td>-65.0</td>\n",
       "      <td>-56.0</td>\n",
       "      <td>-56.0</td>\n",
       "    </tr>\n",
       "    <tr>\n",
       "      <th>4</th>\n",
       "      <td>2016-05-19</td>\n",
       "      <td>23:38:17.544800</td>\n",
       "      <td>-52.0</td>\n",
       "      <td>-64.0</td>\n",
       "      <td>-65.0</td>\n",
       "      <td>-64.0</td>\n",
       "      <td>-60.0</td>\n",
       "    </tr>\n",
       "    <tr>\n",
       "      <th>5</th>\n",
       "      <td>2016-05-19</td>\n",
       "      <td>23:38:17.648873</td>\n",
       "      <td>-65.0</td>\n",
       "      <td>-63.0</td>\n",
       "      <td>-62.0</td>\n",
       "      <td>-51.0</td>\n",
       "      <td>-52.0</td>\n",
       "    </tr>\n",
       "    <tr>\n",
       "      <th>6</th>\n",
       "      <td>2016-05-19</td>\n",
       "      <td>23:38:17.752823</td>\n",
       "      <td>-50.0</td>\n",
       "      <td>-61.0</td>\n",
       "      <td>-75.0</td>\n",
       "      <td>-55.0</td>\n",
       "      <td>-52.0</td>\n",
       "    </tr>\n",
       "    <tr>\n",
       "      <th>7</th>\n",
       "      <td>2016-05-19</td>\n",
       "      <td>23:38:17.857838</td>\n",
       "      <td>-63.0</td>\n",
       "      <td>-50.0</td>\n",
       "      <td>-64.0</td>\n",
       "      <td>-59.0</td>\n",
       "      <td>-60.0</td>\n",
       "    </tr>\n",
       "    <tr>\n",
       "      <th>8</th>\n",
       "      <td>2016-05-19</td>\n",
       "      <td>23:38:17.967853</td>\n",
       "      <td>-66.0</td>\n",
       "      <td>-54.0</td>\n",
       "      <td>-75.0</td>\n",
       "      <td>-63.0</td>\n",
       "      <td>-59.0</td>\n",
       "    </tr>\n",
       "    <tr>\n",
       "      <th>9</th>\n",
       "      <td>2016-05-19</td>\n",
       "      <td>23:38:18.165880</td>\n",
       "      <td>-54.0</td>\n",
       "      <td>-63.0</td>\n",
       "      <td>-63.0</td>\n",
       "      <td>-63.0</td>\n",
       "      <td>-52.0</td>\n",
       "    </tr>\n",
       "  </tbody>\n",
       "</table>\n",
       "</div>"
      ],
      "text/plain": [
       "        Fecha             Hora  Be07  Be08  Be09  Be10  Be11\n",
       "0  2016-05-19  23:38:16.918718 -51.0 -55.0 -61.0 -59.0 -53.0\n",
       "1  2016-05-19  23:38:17.121748 -52.0 -59.0 -67.0 -58.0 -50.0\n",
       "2  2016-05-19  23:38:17.224758 -60.0 -54.0 -62.0 -59.0 -57.0\n",
       "3  2016-05-19  23:38:17.329772 -67.0 -62.0 -65.0 -56.0 -56.0\n",
       "4  2016-05-19  23:38:17.544800 -52.0 -64.0 -65.0 -64.0 -60.0\n",
       "5  2016-05-19  23:38:17.648873 -65.0 -63.0 -62.0 -51.0 -52.0\n",
       "6  2016-05-19  23:38:17.752823 -50.0 -61.0 -75.0 -55.0 -52.0\n",
       "7  2016-05-19  23:38:17.857838 -63.0 -50.0 -64.0 -59.0 -60.0\n",
       "8  2016-05-19  23:38:17.967853 -66.0 -54.0 -75.0 -63.0 -59.0\n",
       "9  2016-05-19  23:38:18.165880 -54.0 -63.0 -63.0 -63.0 -52.0"
      ]
     },
     "execution_count": 4,
     "metadata": {},
     "output_type": "execute_result"
    }
   ],
   "source": [
    "t01_t2.head(10)"
   ]
  },
  {
   "cell_type": "code",
   "execution_count": 14,
   "metadata": {
    "collapsed": true
   },
   "outputs": [],
   "source": [
    "# Plotear datos\n",
    "# t01_t1['Be07']\n",
    "#t01_t2['Be07'].plot()\n",
    "tavg = pd.Series([t01_t1['Be07'].mean() for i in range(250)])\n",
    "t2avg = pd.Series([t01_t2['Be07'].mean() for i in range(250)])\n",
    "df = pd.concat([t01_t1['Be07'],tavg, t01_t2['Be07'], t2avg], axis=1, keys=['Take 1','Take 1 avg', 'Take 2', 'Take 2 avg'])\n"
   ]
  },
  {
   "cell_type": "code",
   "execution_count": 28,
   "metadata": {},
   "outputs": [
    {
     "data": {
      "text/plain": [
       "<matplotlib.figure.Figure at 0x7f8ab9459fd0>"
      ]
     },
     "metadata": {},
     "output_type": "display_data"
    },
    {
     "data": {
      "image/png": "[encoded data removed]",
      "text/plain": [
       "<matplotlib.figure.Figure at 0x7f8ab93dcba8>"
      ]
     },
     "metadata": {},
     "output_type": "display_data"
    }
   ],
   "source": [
    "plt.figure();\n",
    "fig = df.plot(lw=0.5, markersize=0.5, title='', style=['b','b--','g','g--']);\n",
    "fig.set_xlabel(\"# of samples\");\n",
    "fig.set_ylabel(\"RSSI values (dBm)\");\n",
    "fig.set_ylim(-90,-40)\n",
    "fig.set_xlim(0,250)\n",
    "plt.savefig('test.png',format='png',dpi=1000)"
   ]
  },
  {
   "cell_type": "code",
   "execution_count": 2,
   "metadata": {
    "collapsed": true
   },
   "outputs": [],
   "source": [
    "def mkdir_p(mypath):\n",
    "    '''Creates a directory. equivalent to using mkdir -p on the command line'''\n",
    "\n",
    "    from errno import EEXIST\n",
    "    from os import makedirs,path\n",
    "\n",
    "    try:\n",
    "        makedirs(mypath)\n",
    "    except OSError as exc: # Python >2.5\n",
    "        if exc.errno == EEXIST and path.isdir(mypath):\n",
    "            pass\n",
    "        else: raise"
   ]
  },
  {
   "cell_type": "code",
   "execution_count": 31,
   "metadata": {
    "collapsed": true
   },
   "outputs": [],
   "source": [
    "### Funcion para plotear datos de 5 Beacons\n",
    "def plotAllBeacons(pot, pos, take1, take2):\n",
    "    all_beacons = ['Be07','Be08','Be09','Be10','Be11']\n",
    "    for beacon in all_beacons:\n",
    "        tk1 = take1[beacon][0:250]\n",
    "        tk2 = take2[beacon][0:250]\n",
    "        tk1avg = pd.Series([tk1.mean() for i in range(250)])\n",
    "        tk2avg = pd.Series([tk2.mean() for i in range(250)])\n",
    "        df = pd.concat([tk1,tk1avg,tk2, tk2avg], axis=1, keys=['Take 1','Take 1 avg','Take 2','Take 2 avg'])\n",
    "        plt.figure()\n",
    "        fig = df.plot(lw=0.5, markersize=0.5, title='', style=['b','b--','g','g--']);\n",
    "        fig2 = fig.get_figure()\n",
    "        #fig.set_xlabel(\"Time (s)\");\n",
    "        fig.set_xlabel(\"# of samples\");\n",
    "        fig.set_ylabel(\"RSSI values (dBm)\");\n",
    "        fig.set_ylim(-100,-50)\n",
    "        fig.set_xlim(0,250)\n",
    "        output_dir = 'resulsRaspberry/'+pot+'/'+pos \n",
    "        mkdir_p(output_dir)\n",
    "        plt.savefig(output_dir+'/'+beacon+'.eps',format='eps',dpi=1000)\n",
    "        plt.close(fig2)\n",
    "        "
   ]
  },
  {
   "cell_type": "code",
   "execution_count": 71,
   "metadata": {
    "collapsed": true
   },
   "outputs": [
    {
     "data": {
      "text/plain": [
       "<matplotlib.figure.Figure at 0x7f90dfd60f60>"
      ]
     },
     "metadata": {},
     "output_type": "display_data"
    },
    {
     "data": {
      "image/png": "[encoded data removed]",
      "text/plain": [
       "<matplotlib.figure.Figure at 0x7f90df9b9898>"
      ]
     },
     "metadata": {},
     "output_type": "display_data"
    },
    {
     "data": {
      "text/plain": [
       "<matplotlib.figure.Figure at 0x7f90dfd3a6d8>"
      ]
     },
     "metadata": {},
     "output_type": "display_data"
    },
    {
     "data": {
      "image/png": "[encoded data removed]",
      "text/plain": [
       "<matplotlib.figure.Figure at 0x7f90df95d940>"
      ]
     },
     "metadata": {},
     "output_type": "display_data"
    },
    {
     "data": {
      "text/plain": [
       "<matplotlib.figure.Figure at 0x7f90df8d8e80>"
      ]
     },
     "metadata": {},
     "output_type": "display_data"
    },
    {
     "data": {
      "image/png": "[encoded data removed]",
      "text/plain": [
       "<matplotlib.figure.Figure at 0x7f90df88c2e8>"
      ]
     },
     "metadata": {},
     "output_type": "display_data"
    },
    {
     "data": {
      "text/plain": [
       "<matplotlib.figure.Figure at 0x7f90df8ac9e8>"
      ]
     },
     "metadata": {},
     "output_type": "display_data"
    },
    {
     "data": {
      "image/png": "[encoded data removed]",
      "text/plain": [
       "<matplotlib.figure.Figure at 0x7f90df7d7438>"
      ]
     },
     "metadata": {},
     "output_type": "display_data"
    },
    {
     "data": {
      "text/plain": [
       "<matplotlib.figure.Figure at 0x7f90df821ba8>"
      ]
     },
     "metadata": {},
     "output_type": "display_data"
    },
    {
     "data": {
      "image/png": "[encoded data removed]",
      "text/plain": [
       "<matplotlib.figure.Figure at 0x7f90df753898>"
      ]
     },
     "metadata": {},
     "output_type": "display_data"
    }
   ],
   "source": [
    "plotAllBeacons('Tx0x01', 't1', t01_t1,t01_t2)"
   ]
  },
  {
   "cell_type": "code",
   "execution_count": 32,
   "metadata": {},
   "outputs": [
    {
     "name": "stderr",
     "output_type": "stream",
     "text": [
      "/home/jeslev/anaconda3/lib/python3.6/site-packages/matplotlib/pyplot.py:524: RuntimeWarning: More than 20 figures have been opened. Figures created through the pyplot interface (`matplotlib.pyplot.figure`) are retained until explicitly closed and may consume too much memory. (To control this warning, see the rcParam `figure.max_open_warning`).\n",
      "  max_open_warning, RuntimeWarning)\n"
     ]
    },
    {
     "data": {
      "text/plain": [
       "<matplotlib.figure.Figure at 0x7f8ab9322cc0>"
      ]
     },
     "metadata": {},
     "output_type": "display_data"
    },
    {
     "data": {
      "text/plain": [
       "<matplotlib.figure.Figure at 0x7f8ab9322eb8>"
      ]
     },
     "metadata": {},
     "output_type": "display_data"
    },
    {
     "data": {
      "text/plain": [
       "<matplotlib.figure.Figure at 0x7f8ab96ba8d0>"
      ]
     },
     "metadata": {},
     "output_type": "display_data"
    },
    {
     "data": {
      "text/plain": [
       "<matplotlib.figure.Figure at 0x7f8ab9384f28>"
      ]
     },
     "metadata": {},
     "output_type": "display_data"
    },
    {
     "data": {
      "text/plain": [
       "<matplotlib.figure.Figure at 0x7f8ab9384780>"
      ]
     },
     "metadata": {},
     "output_type": "display_data"
    },
    {
     "data": {
      "text/plain": [
       "<matplotlib.figure.Figure at 0x7f8abf5da550>"
      ]
     },
     "metadata": {},
     "output_type": "display_data"
    },
    {
     "data": {
      "text/plain": [
       "<matplotlib.figure.Figure at 0x7f8abf808320>"
      ]
     },
     "metadata": {},
     "output_type": "display_data"
    },
    {
     "data": {
      "text/plain": [
       "<matplotlib.figure.Figure at 0x7f8abf56cf98>"
      ]
     },
     "metadata": {},
     "output_type": "display_data"
    },
    {
     "data": {
      "text/plain": [
       "<matplotlib.figure.Figure at 0x7f8abf515be0>"
      ]
     },
     "metadata": {},
     "output_type": "display_data"
    },
    {
     "data": {
      "text/plain": [
       "<matplotlib.figure.Figure at 0x7f8abf355a90>"
      ]
     },
     "metadata": {},
     "output_type": "display_data"
    },
    {
     "data": {
      "text/plain": [
       "<matplotlib.figure.Figure at 0x7f8abf138240>"
      ]
     },
     "metadata": {},
     "output_type": "display_data"
    },
    {
     "data": {
      "text/plain": [
       "<matplotlib.figure.Figure at 0x7f8abf138cc0>"
      ]
     },
     "metadata": {},
     "output_type": "display_data"
    },
    {
     "data": {
      "text/plain": [
       "<matplotlib.figure.Figure at 0x7f8abf14a7f0>"
      ]
     },
     "metadata": {},
     "output_type": "display_data"
    },
    {
     "data": {
      "text/plain": [
       "<matplotlib.figure.Figure at 0x7f8abefb79e8>"
      ]
     },
     "metadata": {},
     "output_type": "display_data"
    },
    {
     "data": {
      "text/plain": [
       "<matplotlib.figure.Figure at 0x7f8abf342860>"
      ]
     },
     "metadata": {},
     "output_type": "display_data"
    },
    {
     "data": {
      "text/plain": [
       "<matplotlib.figure.Figure at 0x7f8abed330f0>"
      ]
     },
     "metadata": {},
     "output_type": "display_data"
    },
    {
     "data": {
      "text/plain": [
       "<matplotlib.figure.Figure at 0x7f8abed41198>"
      ]
     },
     "metadata": {},
     "output_type": "display_data"
    },
    {
     "data": {
      "text/plain": [
       "<matplotlib.figure.Figure at 0x7f8abec84668>"
      ]
     },
     "metadata": {},
     "output_type": "display_data"
    },
    {
     "data": {
      "text/plain": [
       "<matplotlib.figure.Figure at 0x7f8abebedba8>"
      ]
     },
     "metadata": {},
     "output_type": "display_data"
    },
    {
     "data": {
      "text/plain": [
       "<matplotlib.figure.Figure at 0x7f8abeab14a8>"
      ]
     },
     "metadata": {},
     "output_type": "display_data"
    },
    {
     "data": {
      "text/plain": [
       "<matplotlib.figure.Figure at 0x7f8abea53e48>"
      ]
     },
     "metadata": {},
     "output_type": "display_data"
    },
    {
     "data": {
      "text/plain": [
       "<matplotlib.figure.Figure at 0x7f8abebe2748>"
      ]
     },
     "metadata": {},
     "output_type": "display_data"
    },
    {
     "data": {
      "text/plain": [
       "<matplotlib.figure.Figure at 0x7f8abead2198>"
      ]
     },
     "metadata": {},
     "output_type": "display_data"
    },
    {
     "data": {
      "text/plain": [
       "<matplotlib.figure.Figure at 0x7f8abe831898>"
      ]
     },
     "metadata": {},
     "output_type": "display_data"
    },
    {
     "data": {
      "text/plain": [
       "<matplotlib.figure.Figure at 0x7f8abe71eac8>"
      ]
     },
     "metadata": {},
     "output_type": "display_data"
    },
    {
     "data": {
      "text/plain": [
       "<matplotlib.figure.Figure at 0x7f8abe99c358>"
      ]
     },
     "metadata": {},
     "output_type": "display_data"
    },
    {
     "data": {
      "text/plain": [
       "<matplotlib.figure.Figure at 0x7f8abe88a9b0>"
      ]
     },
     "metadata": {},
     "output_type": "display_data"
    },
    {
     "data": {
      "text/plain": [
       "<matplotlib.figure.Figure at 0x7f8abe4a6c88>"
      ]
     },
     "metadata": {},
     "output_type": "display_data"
    },
    {
     "data": {
      "text/plain": [
       "<matplotlib.figure.Figure at 0x7f8abe3d4208>"
      ]
     },
     "metadata": {},
     "output_type": "display_data"
    },
    {
     "data": {
      "text/plain": [
       "<matplotlib.figure.Figure at 0x7f8abe65ccc0>"
      ]
     },
     "metadata": {},
     "output_type": "display_data"
    },
    {
     "data": {
      "text/plain": [
       "<matplotlib.figure.Figure at 0x7f8abe1ad0b8>"
      ]
     },
     "metadata": {},
     "output_type": "display_data"
    },
    {
     "data": {
      "text/plain": [
       "<matplotlib.figure.Figure at 0x7f8abe108c88>"
      ]
     },
     "metadata": {},
     "output_type": "display_data"
    },
    {
     "data": {
      "text/plain": [
       "<matplotlib.figure.Figure at 0x7f8abe019e10>"
      ]
     },
     "metadata": {},
     "output_type": "display_data"
    },
    {
     "data": {
      "text/plain": [
       "<matplotlib.figure.Figure at 0x7f8abe140748>"
      ]
     },
     "metadata": {},
     "output_type": "display_data"
    },
    {
     "data": {
      "text/plain": [
       "<matplotlib.figure.Figure at 0x7f8abe0192e8>"
      ]
     },
     "metadata": {},
     "output_type": "display_data"
    },
    {
     "data": {
      "text/plain": [
       "<matplotlib.figure.Figure at 0x7f8abdf79978>"
      ]
     },
     "metadata": {},
     "output_type": "display_data"
    },
    {
     "data": {
      "text/plain": [
       "<matplotlib.figure.Figure at 0x7f8abdcbc9e8>"
      ]
     },
     "metadata": {},
     "output_type": "display_data"
    },
    {
     "data": {
      "text/plain": [
       "<matplotlib.figure.Figure at 0x7f8abde475f8>"
      ]
     },
     "metadata": {},
     "output_type": "display_data"
    },
    {
     "data": {
      "text/plain": [
       "<matplotlib.figure.Figure at 0x7f8abdb9da90>"
      ]
     },
     "metadata": {},
     "output_type": "display_data"
    },
    {
     "data": {
      "text/plain": [
       "<matplotlib.figure.Figure at 0x7f8abda339e8>"
      ]
     },
     "metadata": {},
     "output_type": "display_data"
    },
    {
     "data": {
      "text/plain": [
       "<matplotlib.figure.Figure at 0x7f8abd9cba90>"
      ]
     },
     "metadata": {},
     "output_type": "display_data"
    },
    {
     "data": {
      "text/plain": [
       "<matplotlib.figure.Figure at 0x7f8abdccf080>"
      ]
     },
     "metadata": {},
     "output_type": "display_data"
    },
    {
     "data": {
      "text/plain": [
       "<matplotlib.figure.Figure at 0x7f8abd9cb780>"
      ]
     },
     "metadata": {},
     "output_type": "display_data"
    },
    {
     "data": {
      "text/plain": [
       "<matplotlib.figure.Figure at 0x7f8abd72c0f0>"
      ]
     },
     "metadata": {},
     "output_type": "display_data"
    },
    {
     "data": {
      "text/plain": [
       "<matplotlib.figure.Figure at 0x7f8abd662470>"
      ]
     },
     "metadata": {},
     "output_type": "display_data"
    },
    {
     "data": {
      "text/plain": [
       "<matplotlib.figure.Figure at 0x7f8abd87c358>"
      ]
     },
     "metadata": {},
     "output_type": "display_data"
    },
    {
     "data": {
      "text/plain": [
       "<matplotlib.figure.Figure at 0x7f8abd87c5c0>"
      ]
     },
     "metadata": {},
     "output_type": "display_data"
    },
    {
     "data": {
      "text/plain": [
       "<matplotlib.figure.Figure at 0x7f8abd426d30>"
      ]
     },
     "metadata": {},
     "output_type": "display_data"
    },
    {
     "data": {
      "text/plain": [
       "<matplotlib.figure.Figure at 0x7f8abd64f358>"
      ]
     },
     "metadata": {},
     "output_type": "display_data"
    },
    {
     "data": {
      "text/plain": [
       "<matplotlib.figure.Figure at 0x7f8abd730358>"
      ]
     },
     "metadata": {},
     "output_type": "display_data"
    },
    {
     "data": {
      "text/plain": [
       "<matplotlib.figure.Figure at 0x7f8abd2a3978>"
      ]
     },
     "metadata": {},
     "output_type": "display_data"
    },
    {
     "data": {
      "text/plain": [
       "<matplotlib.figure.Figure at 0x7f8abd289278>"
      ]
     },
     "metadata": {},
     "output_type": "display_data"
    },
    {
     "data": {
      "text/plain": [
       "<matplotlib.figure.Figure at 0x7f8abd2a3f98>"
      ]
     },
     "metadata": {},
     "output_type": "display_data"
    },
    {
     "data": {
      "text/plain": [
       "<matplotlib.figure.Figure at 0x7f8abcf01390>"
      ]
     },
     "metadata": {},
     "output_type": "display_data"
    },
    {
     "data": {
      "text/plain": [
       "<matplotlib.figure.Figure at 0x7f8abd0e2e48>"
      ]
     },
     "metadata": {},
     "output_type": "display_data"
    },
    {
     "data": {
      "text/plain": [
       "<matplotlib.figure.Figure at 0x7f8abcb74438>"
      ]
     },
     "metadata": {},
     "output_type": "display_data"
    },
    {
     "data": {
      "text/plain": [
       "<matplotlib.figure.Figure at 0x7f8abce03b38>"
      ]
     },
     "metadata": {},
     "output_type": "display_data"
    },
    {
     "data": {
      "text/plain": [
       "<matplotlib.figure.Figure at 0x7f8abcdbdb70>"
      ]
     },
     "metadata": {},
     "output_type": "display_data"
    },
    {
     "data": {
      "text/plain": [
       "<matplotlib.figure.Figure at 0x7f8abc9ffcf8>"
      ]
     },
     "metadata": {},
     "output_type": "display_data"
    },
    {
     "data": {
      "text/plain": [
       "<matplotlib.figure.Figure at 0x7f8abca31c18>"
      ]
     },
     "metadata": {},
     "output_type": "display_data"
    },
    {
     "data": {
      "text/plain": [
       "<matplotlib.figure.Figure at 0x7f8abc733780>"
      ]
     },
     "metadata": {},
     "output_type": "display_data"
    },
    {
     "data": {
      "text/plain": [
       "<matplotlib.figure.Figure at 0x7f8abc733630>"
      ]
     },
     "metadata": {},
     "output_type": "display_data"
    },
    {
     "data": {
      "text/plain": [
       "<matplotlib.figure.Figure at 0x7f8abc6f0fd0>"
      ]
     },
     "metadata": {},
     "output_type": "display_data"
    },
    {
     "data": {
      "text/plain": [
       "<matplotlib.figure.Figure at 0x7f8abc5be710>"
      ]
     },
     "metadata": {},
     "output_type": "display_data"
    },
    {
     "data": {
      "text/plain": [
       "<matplotlib.figure.Figure at 0x7f8abc4f40f0>"
      ]
     },
     "metadata": {},
     "output_type": "display_data"
    },
    {
     "data": {
      "text/plain": [
       "<matplotlib.figure.Figure at 0x7f8abfa66748>"
      ]
     },
     "metadata": {},
     "output_type": "display_data"
    },
    {
     "data": {
      "text/plain": [
       "<matplotlib.figure.Figure at 0x7f8abfad2a90>"
      ]
     },
     "metadata": {},
     "output_type": "display_data"
    },
    {
     "data": {
      "text/plain": [
       "<matplotlib.figure.Figure at 0x7f8abfeb00b8>"
      ]
     },
     "metadata": {},
     "output_type": "display_data"
    },
    {
     "data": {
      "text/plain": [
       "<matplotlib.figure.Figure at 0x7f8abfb9e1d0>"
      ]
     },
     "metadata": {},
     "output_type": "display_data"
    },
    {
     "data": {
      "text/plain": [
       "<matplotlib.figure.Figure at 0x7f8ac12a2470>"
      ]
     },
     "metadata": {},
     "output_type": "display_data"
    },
    {
     "data": {
      "text/plain": [
       "<matplotlib.figure.Figure at 0x7f8ac2fcd438>"
      ]
     },
     "metadata": {},
     "output_type": "display_data"
    },
    {
     "data": {
      "text/plain": [
       "<matplotlib.figure.Figure at 0x7f8abfb77ac8>"
      ]
     },
     "metadata": {},
     "output_type": "display_data"
    },
    {
     "data": {
      "text/plain": [
       "<matplotlib.figure.Figure at 0x7f8ac3c1cf60>"
      ]
     },
     "metadata": {},
     "output_type": "display_data"
    },
    {
     "data": {
      "text/plain": [
       "<matplotlib.figure.Figure at 0x7f8ac34a1e10>"
      ]
     },
     "metadata": {},
     "output_type": "display_data"
    },
    {
     "data": {
      "text/plain": [
       "<matplotlib.figure.Figure at 0x7f8ac4a7ec50>"
      ]
     },
     "metadata": {},
     "output_type": "display_data"
    },
    {
     "data": {
      "text/plain": [
       "<matplotlib.figure.Figure at 0x7f8ac66b6320>"
      ]
     },
     "metadata": {},
     "output_type": "display_data"
    },
    {
     "data": {
      "text/plain": [
       "<matplotlib.figure.Figure at 0x7f8ac6206940>"
      ]
     },
     "metadata": {},
     "output_type": "display_data"
    },
    {
     "data": {
      "text/plain": [
       "<matplotlib.figure.Figure at 0x7f8ac722f668>"
      ]
     },
     "metadata": {},
     "output_type": "display_data"
    },
    {
     "data": {
      "text/plain": [
       "<matplotlib.figure.Figure at 0x7f8ac722fc88>"
      ]
     },
     "metadata": {},
     "output_type": "display_data"
    },
    {
     "data": {
      "text/plain": [
       "<matplotlib.figure.Figure at 0x7f8ac8005dd8>"
      ]
     },
     "metadata": {},
     "output_type": "display_data"
    },
    {
     "data": {
      "text/plain": [
       "<matplotlib.figure.Figure at 0x7f8ac99c8b38>"
      ]
     },
     "metadata": {},
     "output_type": "display_data"
    },
    {
     "data": {
      "text/plain": [
       "<matplotlib.figure.Figure at 0x7f8ac988e940>"
      ]
     },
     "metadata": {},
     "output_type": "display_data"
    },
    {
     "data": {
      "text/plain": [
       "<matplotlib.figure.Figure at 0x7f8aca768710>"
      ]
     },
     "metadata": {},
     "output_type": "display_data"
    },
    {
     "data": {
      "text/plain": [
       "<matplotlib.figure.Figure at 0x7f8ac99c8e80>"
      ]
     },
     "metadata": {},
     "output_type": "display_data"
    },
    {
     "data": {
      "text/plain": [
       "<matplotlib.figure.Figure at 0x7f8acb618828>"
      ]
     },
     "metadata": {},
     "output_type": "display_data"
    },
    {
     "data": {
      "text/plain": [
       "<matplotlib.figure.Figure at 0x7f8acd3fdba8>"
      ]
     },
     "metadata": {},
     "output_type": "display_data"
    },
    {
     "data": {
      "text/plain": [
       "<matplotlib.figure.Figure at 0x7f8acd40d9e8>"
      ]
     },
     "metadata": {},
     "output_type": "display_data"
    },
    {
     "data": {
      "text/plain": [
       "<matplotlib.figure.Figure at 0x7f8acdba4e80>"
      ]
     },
     "metadata": {},
     "output_type": "display_data"
    },
    {
     "data": {
      "text/plain": [
       "<matplotlib.figure.Figure at 0x7f8acd3fdb70>"
      ]
     },
     "metadata": {},
     "output_type": "display_data"
    },
    {
     "data": {
      "text/plain": [
       "<matplotlib.figure.Figure at 0x7f8ace6c46a0>"
      ]
     },
     "metadata": {},
     "output_type": "display_data"
    },
    {
     "data": {
      "text/plain": [
       "<matplotlib.figure.Figure at 0x7f8ad0b48ba8>"
      ]
     },
     "metadata": {},
     "output_type": "display_data"
    },
    {
     "data": {
      "text/plain": [
       "<matplotlib.figure.Figure at 0x7f8acd224e80>"
      ]
     },
     "metadata": {},
     "output_type": "display_data"
    },
    {
     "data": {
      "text/plain": [
       "<matplotlib.figure.Figure at 0x7f8acf84dc18>"
      ]
     },
     "metadata": {},
     "output_type": "display_data"
    },
    {
     "data": {
      "text/plain": [
       "<matplotlib.figure.Figure at 0x7f8acb23f978>"
      ]
     },
     "metadata": {},
     "output_type": "display_data"
    },
    {
     "data": {
      "text/plain": [
       "<matplotlib.figure.Figure at 0x7f8acc861710>"
      ]
     },
     "metadata": {},
     "output_type": "display_data"
    },
    {
     "data": {
      "text/plain": [
       "<matplotlib.figure.Figure at 0x7f8ac9a52da0>"
      ]
     },
     "metadata": {},
     "output_type": "display_data"
    },
    {
     "data": {
      "text/plain": [
       "<matplotlib.figure.Figure at 0x7f8abe034b38>"
      ]
     },
     "metadata": {},
     "output_type": "display_data"
    },
    {
     "data": {
      "text/plain": [
       "<matplotlib.figure.Figure at 0x7f8abb657240>"
      ]
     },
     "metadata": {},
     "output_type": "display_data"
    },
    {
     "data": {
      "text/plain": [
       "<matplotlib.figure.Figure at 0x7f8abac580f0>"
      ]
     },
     "metadata": {},
     "output_type": "display_data"
    },
    {
     "data": {
      "text/plain": [
       "<matplotlib.figure.Figure at 0x7f8ac3e136a0>"
      ]
     },
     "metadata": {},
     "output_type": "display_data"
    },
    {
     "data": {
      "text/plain": [
       "<matplotlib.figure.Figure at 0x7f8ab98c9128>"
      ]
     },
     "metadata": {},
     "output_type": "display_data"
    },
    {
     "data": {
      "text/plain": [
       "<matplotlib.figure.Figure at 0x7f8ad251ee10>"
      ]
     },
     "metadata": {},
     "output_type": "display_data"
    },
    {
     "data": {
      "text/plain": [
       "<matplotlib.figure.Figure at 0x7f8b00129b38>"
      ]
     },
     "metadata": {},
     "output_type": "display_data"
    },
    {
     "data": {
      "text/plain": [
       "<matplotlib.figure.Figure at 0x7f8ad24f0438>"
      ]
     },
     "metadata": {},
     "output_type": "display_data"
    },
    {
     "data": {
      "text/plain": [
       "<matplotlib.figure.Figure at 0x7f8abafb4ef0>"
      ]
     },
     "metadata": {},
     "output_type": "display_data"
    },
    {
     "data": {
      "text/plain": [
       "<matplotlib.figure.Figure at 0x7f8ab95536a0>"
      ]
     },
     "metadata": {},
     "output_type": "display_data"
    },
    {
     "data": {
      "text/plain": [
       "<matplotlib.figure.Figure at 0x7f8ac2e9e978>"
      ]
     },
     "metadata": {},
     "output_type": "display_data"
    },
    {
     "data": {
      "text/plain": [
       "<matplotlib.figure.Figure at 0x7f8ab6168080>"
      ]
     },
     "metadata": {},
     "output_type": "display_data"
    },
    {
     "data": {
      "text/plain": [
       "<matplotlib.figure.Figure at 0x7f8ab6708f98>"
      ]
     },
     "metadata": {},
     "output_type": "display_data"
    },
    {
     "data": {
      "text/plain": [
       "<matplotlib.figure.Figure at 0x7f8ad4bfa828>"
      ]
     },
     "metadata": {},
     "output_type": "display_data"
    },
    {
     "data": {
      "text/plain": [
       "<matplotlib.figure.Figure at 0x7f8ab89356d8>"
      ]
     },
     "metadata": {},
     "output_type": "display_data"
    },
    {
     "data": {
      "text/plain": [
       "<matplotlib.figure.Figure at 0x7f8ab870c390>"
      ]
     },
     "metadata": {},
     "output_type": "display_data"
    },
    {
     "data": {
      "text/plain": [
       "<matplotlib.figure.Figure at 0x7f8ab75129b0>"
      ]
     },
     "metadata": {},
     "output_type": "display_data"
    },
    {
     "data": {
      "text/plain": [
       "<matplotlib.figure.Figure at 0x7f8ab936e550>"
      ]
     },
     "metadata": {},
     "output_type": "display_data"
    },
    {
     "data": {
      "text/plain": [
       "<matplotlib.figure.Figure at 0x7f8ab9738278>"
      ]
     },
     "metadata": {},
     "output_type": "display_data"
    },
    {
     "data": {
      "text/plain": [
       "<matplotlib.figure.Figure at 0x7f8ac2d44a20>"
      ]
     },
     "metadata": {},
     "output_type": "display_data"
    },
    {
     "data": {
      "text/plain": [
       "<matplotlib.figure.Figure at 0x7f8abfdd5b00>"
      ]
     },
     "metadata": {},
     "output_type": "display_data"
    },
    {
     "data": {
      "text/plain": [
       "<matplotlib.figure.Figure at 0x7f8ac190deb8>"
      ]
     },
     "metadata": {},
     "output_type": "display_data"
    },
    {
     "data": {
      "text/plain": [
       "<matplotlib.figure.Figure at 0x7f8ac05489e8>"
      ]
     },
     "metadata": {},
     "output_type": "display_data"
    },
    {
     "data": {
      "text/plain": [
       "<matplotlib.figure.Figure at 0x7f8ab95984a8>"
      ]
     },
     "metadata": {},
     "output_type": "display_data"
    },
    {
     "data": {
      "text/plain": [
       "<matplotlib.figure.Figure at 0x7f8aba87b898>"
      ]
     },
     "metadata": {},
     "output_type": "display_data"
    },
    {
     "data": {
      "text/plain": [
       "<matplotlib.figure.Figure at 0x7f8ab9ccc978>"
      ]
     },
     "metadata": {},
     "output_type": "display_data"
    },
    {
     "data": {
      "text/plain": [
       "<matplotlib.figure.Figure at 0x7f8ad0c4ca20>"
      ]
     },
     "metadata": {},
     "output_type": "display_data"
    },
    {
     "data": {
      "text/plain": [
       "<matplotlib.figure.Figure at 0x7f8acfe28588>"
      ]
     },
     "metadata": {},
     "output_type": "display_data"
    },
    {
     "data": {
      "text/plain": [
       "<matplotlib.figure.Figure at 0x7f8ac76b5e80>"
      ]
     },
     "metadata": {},
     "output_type": "display_data"
    },
    {
     "data": {
      "text/plain": [
       "<matplotlib.figure.Figure at 0x7f8ac3d9ab00>"
      ]
     },
     "metadata": {},
     "output_type": "display_data"
    },
    {
     "data": {
      "text/plain": [
       "<matplotlib.figure.Figure at 0x7f8ad0e726a0>"
      ]
     },
     "metadata": {},
     "output_type": "display_data"
    },
    {
     "data": {
      "text/plain": [
       "<matplotlib.figure.Figure at 0x7f8ac0be0b38>"
      ]
     },
     "metadata": {},
     "output_type": "display_data"
    },
    {
     "data": {
      "text/plain": [
       "<matplotlib.figure.Figure at 0x7f8ac093c780>"
      ]
     },
     "metadata": {},
     "output_type": "display_data"
    },
    {
     "data": {
      "text/plain": [
       "<matplotlib.figure.Figure at 0x7f8ac1526550>"
      ]
     },
     "metadata": {},
     "output_type": "display_data"
    },
    {
     "data": {
      "text/plain": [
       "<matplotlib.figure.Figure at 0x7f8ace380550>"
      ]
     },
     "metadata": {},
     "output_type": "display_data"
    },
    {
     "data": {
      "text/plain": [
       "<matplotlib.figure.Figure at 0x7f8ac0064ac8>"
      ]
     },
     "metadata": {},
     "output_type": "display_data"
    },
    {
     "data": {
      "text/plain": [
       "<matplotlib.figure.Figure at 0x7f8ac1529240>"
      ]
     },
     "metadata": {},
     "output_type": "display_data"
    },
    {
     "data": {
      "text/plain": [
       "<matplotlib.figure.Figure at 0x7f8aba10fcc0>"
      ]
     },
     "metadata": {},
     "output_type": "display_data"
    },
    {
     "data": {
      "text/plain": [
       "<matplotlib.figure.Figure at 0x7f8aba123a90>"
      ]
     },
     "metadata": {},
     "output_type": "display_data"
    },
    {
     "data": {
      "text/plain": [
       "<matplotlib.figure.Figure at 0x7f8aba123588>"
      ]
     },
     "metadata": {},
     "output_type": "display_data"
    },
    {
     "data": {
      "text/plain": [
       "<matplotlib.figure.Figure at 0x7f8ab6513940>"
      ]
     },
     "metadata": {},
     "output_type": "display_data"
    },
    {
     "data": {
      "text/plain": [
       "<matplotlib.figure.Figure at 0x7f8ac39918d0>"
      ]
     },
     "metadata": {},
     "output_type": "display_data"
    },
    {
     "data": {
      "text/plain": [
       "<matplotlib.figure.Figure at 0x7f8accd59240>"
      ]
     },
     "metadata": {},
     "output_type": "display_data"
    },
    {
     "data": {
      "text/plain": [
       "<matplotlib.figure.Figure at 0x7f8ad0dc7f60>"
      ]
     },
     "metadata": {},
     "output_type": "display_data"
    },
    {
     "data": {
      "text/plain": [
       "<matplotlib.figure.Figure at 0x7f8acdaa2240>"
      ]
     },
     "metadata": {},
     "output_type": "display_data"
    },
    {
     "data": {
      "text/plain": [
       "<matplotlib.figure.Figure at 0x7f8acdaa21d0>"
      ]
     },
     "metadata": {},
     "output_type": "display_data"
    },
    {
     "data": {
      "text/plain": [
       "<matplotlib.figure.Figure at 0x7f8acdaa2518>"
      ]
     },
     "metadata": {},
     "output_type": "display_data"
    },
    {
     "data": {
      "text/plain": [
       "<matplotlib.figure.Figure at 0x7f8accd33eb8>"
      ]
     },
     "metadata": {},
     "output_type": "display_data"
    },
    {
     "data": {
      "text/plain": [
       "<matplotlib.figure.Figure at 0x7f8acf417da0>"
      ]
     },
     "metadata": {},
     "output_type": "display_data"
    },
    {
     "data": {
      "text/plain": [
       "<matplotlib.figure.Figure at 0x7f8ac3b596a0>"
      ]
     },
     "metadata": {},
     "output_type": "display_data"
    },
    {
     "data": {
      "text/plain": [
       "<matplotlib.figure.Figure at 0x7f8ac3b593c8>"
      ]
     },
     "metadata": {},
     "output_type": "display_data"
    },
    {
     "data": {
      "text/plain": [
       "<matplotlib.figure.Figure at 0x7f8ac7efe470>"
      ]
     },
     "metadata": {},
     "output_type": "display_data"
    },
    {
     "data": {
      "text/plain": [
       "<matplotlib.figure.Figure at 0x7f8ac0879898>"
      ]
     },
     "metadata": {},
     "output_type": "display_data"
    },
    {
     "data": {
      "text/plain": [
       "<matplotlib.figure.Figure at 0x7f8ac0879f60>"
      ]
     },
     "metadata": {},
     "output_type": "display_data"
    },
    {
     "data": {
      "text/plain": [
       "<matplotlib.figure.Figure at 0x7f8ac04e0978>"
      ]
     },
     "metadata": {},
     "output_type": "display_data"
    },
    {
     "data": {
      "text/plain": [
       "<matplotlib.figure.Figure at 0x7f8ac04e0860>"
      ]
     },
     "metadata": {},
     "output_type": "display_data"
    },
    {
     "data": {
      "text/plain": [
       "<matplotlib.figure.Figure at 0x7f8aca239978>"
      ]
     },
     "metadata": {},
     "output_type": "display_data"
    },
    {
     "data": {
      "text/plain": [
       "<matplotlib.figure.Figure at 0x7f8ac41202e8>"
      ]
     },
     "metadata": {},
     "output_type": "display_data"
    },
    {
     "data": {
      "text/plain": [
       "<matplotlib.figure.Figure at 0x7f8acc1fc3c8>"
      ]
     },
     "metadata": {},
     "output_type": "display_data"
    },
    {
     "data": {
      "text/plain": [
       "<matplotlib.figure.Figure at 0x7f8ab805cef0>"
      ]
     },
     "metadata": {},
     "output_type": "display_data"
    },
    {
     "data": {
      "text/plain": [
       "<matplotlib.figure.Figure at 0x7f8ab80591d0>"
      ]
     },
     "metadata": {},
     "output_type": "display_data"
    },
    {
     "data": {
      "text/plain": [
       "<matplotlib.figure.Figure at 0x7f8ab78dc6d8>"
      ]
     },
     "metadata": {},
     "output_type": "display_data"
    },
    {
     "data": {
      "text/plain": [
       "<matplotlib.figure.Figure at 0x7f8ad1625240>"
      ]
     },
     "metadata": {},
     "output_type": "display_data"
    },
    {
     "data": {
      "text/plain": [
       "<matplotlib.figure.Figure at 0x7f8ab906d9b0>"
      ]
     },
     "metadata": {},
     "output_type": "display_data"
    },
    {
     "data": {
      "text/plain": [
       "<matplotlib.figure.Figure at 0x7f8ad024f0f0>"
      ]
     },
     "metadata": {},
     "output_type": "display_data"
    },
    {
     "data": {
      "text/plain": [
       "<matplotlib.figure.Figure at 0x7f8ad024f128>"
      ]
     },
     "metadata": {},
     "output_type": "display_data"
    },
    {
     "data": {
      "text/plain": [
       "<matplotlib.figure.Figure at 0x7f8ad024f1d0>"
      ]
     },
     "metadata": {},
     "output_type": "display_data"
    },
    {
     "data": {
      "text/plain": [
       "<matplotlib.figure.Figure at 0x7f8acee34470>"
      ]
     },
     "metadata": {},
     "output_type": "display_data"
    },
    {
     "data": {
      "text/plain": [
       "<matplotlib.figure.Figure at 0x7f8ace7102b0>"
      ]
     },
     "metadata": {},
     "output_type": "display_data"
    },
    {
     "data": {
      "text/plain": [
       "<matplotlib.figure.Figure at 0x7f8acceb3f28>"
      ]
     },
     "metadata": {},
     "output_type": "display_data"
    },
    {
     "data": {
      "text/plain": [
       "<matplotlib.figure.Figure at 0x7f8acb2aae10>"
      ]
     },
     "metadata": {},
     "output_type": "display_data"
    },
    {
     "data": {
      "text/plain": [
       "<matplotlib.figure.Figure at 0x7f8acb275160>"
      ]
     },
     "metadata": {},
     "output_type": "display_data"
    },
    {
     "data": {
      "text/plain": [
       "<matplotlib.figure.Figure at 0x7f8acca4fc88>"
      ]
     },
     "metadata": {},
     "output_type": "display_data"
    },
    {
     "data": {
      "text/plain": [
       "<matplotlib.figure.Figure at 0x7f8acb275240>"
      ]
     },
     "metadata": {},
     "output_type": "display_data"
    },
    {
     "data": {
      "text/plain": [
       "<matplotlib.figure.Figure at 0x7f8acb125b38>"
      ]
     },
     "metadata": {},
     "output_type": "display_data"
    },
    {
     "data": {
      "text/plain": [
       "<matplotlib.figure.Figure at 0x7f8ac837ceb8>"
      ]
     },
     "metadata": {},
     "output_type": "display_data"
    },
    {
     "data": {
      "text/plain": [
       "<matplotlib.figure.Figure at 0x7f8ac77c98d0>"
      ]
     },
     "metadata": {},
     "output_type": "display_data"
    },
    {
     "data": {
      "text/plain": [
       "<matplotlib.figure.Figure at 0x7f8acb28b198>"
      ]
     },
     "metadata": {},
     "output_type": "display_data"
    },
    {
     "data": {
      "text/plain": [
       "<matplotlib.figure.Figure at 0x7f8ac5566470>"
      ]
     },
     "metadata": {},
     "output_type": "display_data"
    },
    {
     "data": {
      "text/plain": [
       "<matplotlib.figure.Figure at 0x7f8ac19ddc50>"
      ]
     },
     "metadata": {},
     "output_type": "display_data"
    },
    {
     "data": {
      "text/plain": [
       "<matplotlib.figure.Figure at 0x7f8ac19ddda0>"
      ]
     },
     "metadata": {},
     "output_type": "display_data"
    },
    {
     "data": {
      "text/plain": [
       "<matplotlib.figure.Figure at 0x7f8ac19ddf98>"
      ]
     },
     "metadata": {},
     "output_type": "display_data"
    },
    {
     "data": {
      "text/plain": [
       "<matplotlib.figure.Figure at 0x7f8ab639ff60>"
      ]
     },
     "metadata": {},
     "output_type": "display_data"
    },
    {
     "data": {
      "text/plain": [
       "<matplotlib.figure.Figure at 0x7f8ac15c2390>"
      ]
     },
     "metadata": {},
     "output_type": "display_data"
    },
    {
     "data": {
      "text/plain": [
       "<matplotlib.figure.Figure at 0x7f8ac19c9630>"
      ]
     },
     "metadata": {},
     "output_type": "display_data"
    },
    {
     "data": {
      "text/plain": [
       "<matplotlib.figure.Figure at 0x7f8ac4ab6710>"
      ]
     },
     "metadata": {},
     "output_type": "display_data"
    },
    {
     "data": {
      "text/plain": [
       "<matplotlib.figure.Figure at 0x7f8acb1ebf98>"
      ]
     },
     "metadata": {},
     "output_type": "display_data"
    },
    {
     "data": {
      "text/plain": [
       "<matplotlib.figure.Figure at 0x7f8ab639fd30>"
      ]
     },
     "metadata": {},
     "output_type": "display_data"
    },
    {
     "data": {
      "text/plain": [
       "<matplotlib.figure.Figure at 0x7f8acb1ebe80>"
      ]
     },
     "metadata": {},
     "output_type": "display_data"
    },
    {
     "data": {
      "text/plain": [
       "<matplotlib.figure.Figure at 0x7f8acf2bba20>"
      ]
     },
     "metadata": {},
     "output_type": "display_data"
    },
    {
     "data": {
      "text/plain": [
       "<matplotlib.figure.Figure at 0x7f8ac15c22b0>"
      ]
     },
     "metadata": {},
     "output_type": "display_data"
    },
    {
     "data": {
      "text/plain": [
       "<matplotlib.figure.Figure at 0x7f8aba079e10>"
      ]
     },
     "metadata": {},
     "output_type": "display_data"
    },
    {
     "data": {
      "text/plain": [
       "<matplotlib.figure.Figure at 0x7f8acf2bbcf8>"
      ]
     },
     "metadata": {},
     "output_type": "display_data"
    },
    {
     "data": {
      "text/plain": [
       "<matplotlib.figure.Figure at 0x7f8acd3a56d8>"
      ]
     },
     "metadata": {},
     "output_type": "display_data"
    },
    {
     "data": {
      "text/plain": [
       "<matplotlib.figure.Figure at 0x7f8ab829f780>"
      ]
     },
     "metadata": {},
     "output_type": "display_data"
    },
    {
     "data": {
      "text/plain": [
       "<matplotlib.figure.Figure at 0x7f8ab6cb7c88>"
      ]
     },
     "metadata": {},
     "output_type": "display_data"
    },
    {
     "data": {
      "text/plain": [
       "<matplotlib.figure.Figure at 0x7f8aba3d7b70>"
      ]
     },
     "metadata": {},
     "output_type": "display_data"
    },
    {
     "data": {
      "text/plain": [
       "<matplotlib.figure.Figure at 0x7f8aba50fda0>"
      ]
     },
     "metadata": {},
     "output_type": "display_data"
    },
    {
     "data": {
      "text/plain": [
       "<matplotlib.figure.Figure at 0x7f8acc29e128>"
      ]
     },
     "metadata": {},
     "output_type": "display_data"
    },
    {
     "data": {
      "text/plain": [
       "<matplotlib.figure.Figure at 0x7f8acc279588>"
      ]
     },
     "metadata": {},
     "output_type": "display_data"
    },
    {
     "data": {
      "text/plain": [
       "<matplotlib.figure.Figure at 0x7f8aba3d7e80>"
      ]
     },
     "metadata": {},
     "output_type": "display_data"
    },
    {
     "data": {
      "text/plain": [
       "<matplotlib.figure.Figure at 0x7f8ac22a27f0>"
      ]
     },
     "metadata": {},
     "output_type": "display_data"
    },
    {
     "data": {
      "text/plain": [
       "<matplotlib.figure.Figure at 0x7f8aba515f60>"
      ]
     },
     "metadata": {},
     "output_type": "display_data"
    },
    {
     "data": {
      "text/plain": [
       "<matplotlib.figure.Figure at 0x7f8ad0b359b0>"
      ]
     },
     "metadata": {},
     "output_type": "display_data"
    },
    {
     "data": {
      "text/plain": [
       "<matplotlib.figure.Figure at 0x7f8aceb9ccf8>"
      ]
     },
     "metadata": {},
     "output_type": "display_data"
    },
    {
     "data": {
      "text/plain": [
       "<matplotlib.figure.Figure at 0x7f8abaf2c240>"
      ]
     },
     "metadata": {},
     "output_type": "display_data"
    },
    {
     "data": {
      "text/plain": [
       "<matplotlib.figure.Figure at 0x7f8ace65fdd8>"
      ]
     },
     "metadata": {},
     "output_type": "display_data"
    },
    {
     "data": {
      "text/plain": [
       "<matplotlib.figure.Figure at 0x7f8acd0f2cf8>"
      ]
     },
     "metadata": {},
     "output_type": "display_data"
    },
    {
     "data": {
      "text/plain": [
       "<matplotlib.figure.Figure at 0x7f8acc540780>"
      ]
     },
     "metadata": {},
     "output_type": "display_data"
    },
    {
     "data": {
      "text/plain": [
       "<matplotlib.figure.Figure at 0x7f8acd758390>"
      ]
     },
     "metadata": {},
     "output_type": "display_data"
    },
    {
     "data": {
      "text/plain": [
       "<matplotlib.figure.Figure at 0x7f8acd758160>"
      ]
     },
     "metadata": {},
     "output_type": "display_data"
    },
    {
     "data": {
      "text/plain": [
       "<matplotlib.figure.Figure at 0x7f8acd118c88>"
      ]
     },
     "metadata": {},
     "output_type": "display_data"
    },
    {
     "data": {
      "text/plain": [
       "<matplotlib.figure.Figure at 0x7f8ac9715240>"
      ]
     },
     "metadata": {},
     "output_type": "display_data"
    },
    {
     "data": {
      "text/plain": [
       "<matplotlib.figure.Figure at 0x7f8ac7453cc0>"
      ]
     },
     "metadata": {},
     "output_type": "display_data"
    },
    {
     "data": {
      "text/plain": [
       "<matplotlib.figure.Figure at 0x7f8ac44ef358>"
      ]
     },
     "metadata": {},
     "output_type": "display_data"
    },
    {
     "data": {
      "text/plain": [
       "<matplotlib.figure.Figure at 0x7f8ac34733c8>"
      ]
     },
     "metadata": {},
     "output_type": "display_data"
    },
    {
     "data": {
      "text/plain": [
       "<matplotlib.figure.Figure at 0x7f8ac262b8d0>"
      ]
     },
     "metadata": {},
     "output_type": "display_data"
    },
    {
     "data": {
      "text/plain": [
       "<matplotlib.figure.Figure at 0x7f8ac262bb70>"
      ]
     },
     "metadata": {},
     "output_type": "display_data"
    },
    {
     "data": {
      "text/plain": [
       "<matplotlib.figure.Figure at 0x7f8ab6c28550>"
      ]
     },
     "metadata": {},
     "output_type": "display_data"
    },
    {
     "data": {
      "text/plain": [
       "<matplotlib.figure.Figure at 0x7f8ab6f81400>"
      ]
     },
     "metadata": {},
     "output_type": "display_data"
    },
    {
     "data": {
      "text/plain": [
       "<matplotlib.figure.Figure at 0x7f8ac9715c50>"
      ]
     },
     "metadata": {},
     "output_type": "display_data"
    },
    {
     "data": {
      "text/plain": [
       "<matplotlib.figure.Figure at 0x7f8ac07319e8>"
      ]
     },
     "metadata": {},
     "output_type": "display_data"
    },
    {
     "data": {
      "text/plain": [
       "<matplotlib.figure.Figure at 0x7f8ac2161278>"
      ]
     },
     "metadata": {},
     "output_type": "display_data"
    },
    {
     "data": {
      "text/plain": [
       "<matplotlib.figure.Figure at 0x7f8ac3e95550>"
      ]
     },
     "metadata": {},
     "output_type": "display_data"
    },
    {
     "data": {
      "text/plain": [
       "<matplotlib.figure.Figure at 0x7f8ac7abe6d8>"
      ]
     },
     "metadata": {},
     "output_type": "display_data"
    },
    {
     "data": {
      "text/plain": [
       "<matplotlib.figure.Figure at 0x7f8ac7abe860>"
      ]
     },
     "metadata": {},
     "output_type": "display_data"
    },
    {
     "data": {
      "text/plain": [
       "<matplotlib.figure.Figure at 0x7f8ac7a09a90>"
      ]
     },
     "metadata": {},
     "output_type": "display_data"
    },
    {
     "data": {
      "text/plain": [
       "<matplotlib.figure.Figure at 0x7f8ac9901be0>"
      ]
     },
     "metadata": {},
     "output_type": "display_data"
    },
    {
     "data": {
      "text/plain": [
       "<matplotlib.figure.Figure at 0x7f8ac98f17b8>"
      ]
     },
     "metadata": {},
     "output_type": "display_data"
    },
    {
     "data": {
      "text/plain": [
       "<matplotlib.figure.Figure at 0x7f8ac98f1be0>"
      ]
     },
     "metadata": {},
     "output_type": "display_data"
    },
    {
     "data": {
      "text/plain": [
       "<matplotlib.figure.Figure at 0x7f8ac96c07f0>"
      ]
     },
     "metadata": {},
     "output_type": "display_data"
    },
    {
     "data": {
      "text/plain": [
       "<matplotlib.figure.Figure at 0x7f8ac657b400>"
      ]
     },
     "metadata": {},
     "output_type": "display_data"
    },
    {
     "data": {
      "text/plain": [
       "<matplotlib.figure.Figure at 0x7f8abcee56d8>"
      ]
     },
     "metadata": {},
     "output_type": "display_data"
    },
    {
     "data": {
      "text/plain": [
       "<matplotlib.figure.Figure at 0x7f8abcee5780>"
      ]
     },
     "metadata": {},
     "output_type": "display_data"
    },
    {
     "data": {
      "text/plain": [
       "<matplotlib.figure.Figure at 0x7f8accb6db00>"
      ]
     },
     "metadata": {},
     "output_type": "display_data"
    },
    {
     "data": {
      "text/plain": [
       "<matplotlib.figure.Figure at 0x7f8aba3209b0>"
      ]
     },
     "metadata": {},
     "output_type": "display_data"
    },
    {
     "data": {
      "text/plain": [
       "<matplotlib.figure.Figure at 0x7f8ab8827128>"
      ]
     },
     "metadata": {},
     "output_type": "display_data"
    },
    {
     "data": {
      "text/plain": [
       "<matplotlib.figure.Figure at 0x7f8ab72d4f98>"
      ]
     },
     "metadata": {},
     "output_type": "display_data"
    },
    {
     "data": {
      "text/plain": [
       "<matplotlib.figure.Figure at 0x7f8ab8827080>"
      ]
     },
     "metadata": {},
     "output_type": "display_data"
    },
    {
     "data": {
      "text/plain": [
       "<matplotlib.figure.Figure at 0x7f8ab6986d30>"
      ]
     },
     "metadata": {},
     "output_type": "display_data"
    },
    {
     "data": {
      "text/plain": [
       "<matplotlib.figure.Figure at 0x7f8ab6a62668>"
      ]
     },
     "metadata": {},
     "output_type": "display_data"
    },
    {
     "data": {
      "text/plain": [
       "<matplotlib.figure.Figure at 0x7f8aba9a1e10>"
      ]
     },
     "metadata": {},
     "output_type": "display_data"
    },
    {
     "data": {
      "text/plain": [
       "<matplotlib.figure.Figure at 0x7f8ac3623ac8>"
      ]
     },
     "metadata": {},
     "output_type": "display_data"
    },
    {
     "data": {
      "text/plain": [
       "<matplotlib.figure.Figure at 0x7f8ab6279cc0>"
      ]
     },
     "metadata": {},
     "output_type": "display_data"
    },
    {
     "data": {
      "text/plain": [
       "<matplotlib.figure.Figure at 0x7f8acace14a8>"
      ]
     },
     "metadata": {},
     "output_type": "display_data"
    },
    {
     "data": {
      "text/plain": [
       "<matplotlib.figure.Figure at 0x7f8abb7042e8>"
      ]
     },
     "metadata": {},
     "output_type": "display_data"
    },
    {
     "data": {
      "text/plain": [
       "<matplotlib.figure.Figure at 0x7f8abb704080>"
      ]
     },
     "metadata": {},
     "output_type": "display_data"
    },
    {
     "data": {
      "text/plain": [
       "<matplotlib.figure.Figure at 0x7f8acaccdc18>"
      ]
     },
     "metadata": {},
     "output_type": "display_data"
    },
    {
     "data": {
      "text/plain": [
       "<matplotlib.figure.Figure at 0x7f8ad1edba90>"
      ]
     },
     "metadata": {},
     "output_type": "display_data"
    },
    {
     "data": {
      "text/plain": [
       "<matplotlib.figure.Figure at 0x7f8ad1eb6d68>"
      ]
     },
     "metadata": {},
     "output_type": "display_data"
    },
    {
     "data": {
      "text/plain": [
       "<matplotlib.figure.Figure at 0x7f8ace287668>"
      ]
     },
     "metadata": {},
     "output_type": "display_data"
    },
    {
     "data": {
      "text/plain": [
       "<matplotlib.figure.Figure at 0x7f8ad1eb6e48>"
      ]
     },
     "metadata": {},
     "output_type": "display_data"
    },
    {
     "data": {
      "text/plain": [
       "<matplotlib.figure.Figure at 0x7f8ac812c8d0>"
      ]
     },
     "metadata": {},
     "output_type": "display_data"
    },
    {
     "data": {
      "text/plain": [
       "<matplotlib.figure.Figure at 0x7f8ace287a90>"
      ]
     },
     "metadata": {},
     "output_type": "display_data"
    },
    {
     "data": {
      "text/plain": [
       "<matplotlib.figure.Figure at 0x7f8acb6acba8>"
      ]
     },
     "metadata": {},
     "output_type": "display_data"
    },
    {
     "data": {
      "text/plain": [
       "<matplotlib.figure.Figure at 0x7f8acae5fcf8>"
      ]
     },
     "metadata": {},
     "output_type": "display_data"
    },
    {
     "data": {
      "text/plain": [
       "<matplotlib.figure.Figure at 0x7f8acb6acdd8>"
      ]
     },
     "metadata": {},
     "output_type": "display_data"
    },
    {
     "data": {
      "text/plain": [
       "<matplotlib.figure.Figure at 0x7f8ac6f8f198>"
      ]
     },
     "metadata": {},
     "output_type": "display_data"
    },
    {
     "data": {
      "text/plain": [
       "<matplotlib.figure.Figure at 0x7f8ac6d2ccf8>"
      ]
     },
     "metadata": {},
     "output_type": "display_data"
    },
    {
     "data": {
      "text/plain": [
       "<matplotlib.figure.Figure at 0x7f8ac788f358>"
      ]
     },
     "metadata": {},
     "output_type": "display_data"
    },
    {
     "data": {
      "text/plain": [
       "<matplotlib.figure.Figure at 0x7f8ac5609518>"
      ]
     },
     "metadata": {},
     "output_type": "display_data"
    },
    {
     "data": {
      "text/plain": [
       "<matplotlib.figure.Figure at 0x7f8ac498df60>"
      ]
     },
     "metadata": {},
     "output_type": "display_data"
    },
    {
     "data": {
      "text/plain": [
       "<matplotlib.figure.Figure at 0x7f8ac44ff668>"
      ]
     },
     "metadata": {},
     "output_type": "display_data"
    },
    {
     "data": {
      "text/plain": [
       "<matplotlib.figure.Figure at 0x7f8ac42da710>"
      ]
     },
     "metadata": {},
     "output_type": "display_data"
    },
    {
     "data": {
      "text/plain": [
       "<matplotlib.figure.Figure at 0x7f8ac0f14c50>"
      ]
     },
     "metadata": {},
     "output_type": "display_data"
    },
    {
     "data": {
      "text/plain": [
       "<matplotlib.figure.Figure at 0x7f8ab8eaecf8>"
      ]
     },
     "metadata": {},
     "output_type": "display_data"
    },
    {
     "data": {
      "text/plain": [
       "<matplotlib.figure.Figure at 0x7f8ac0f141d0>"
      ]
     },
     "metadata": {},
     "output_type": "display_data"
    },
    {
     "data": {
      "text/plain": [
       "<matplotlib.figure.Figure at 0x7f8ac1e03208>"
      ]
     },
     "metadata": {},
     "output_type": "display_data"
    },
    {
     "data": {
      "text/plain": [
       "<matplotlib.figure.Figure at 0x7f8ac1e03400>"
      ]
     },
     "metadata": {},
     "output_type": "display_data"
    },
    {
     "data": {
      "text/plain": [
       "<matplotlib.figure.Figure at 0x7f8ab70e19e8>"
      ]
     },
     "metadata": {},
     "output_type": "display_data"
    },
    {
     "data": {
      "text/plain": [
       "<matplotlib.figure.Figure at 0x7f8ac288b320>"
      ]
     },
     "metadata": {},
     "output_type": "display_data"
    },
    {
     "data": {
      "text/plain": [
       "<matplotlib.figure.Figure at 0x7f8ac7b2c400>"
      ]
     },
     "metadata": {},
     "output_type": "display_data"
    },
    {
     "data": {
      "text/plain": [
       "<matplotlib.figure.Figure at 0x7f8ac5985828>"
      ]
     },
     "metadata": {},
     "output_type": "display_data"
    },
    {
     "data": {
      "text/plain": [
       "<matplotlib.figure.Figure at 0x7f8ac5985e48>"
      ]
     },
     "metadata": {},
     "output_type": "display_data"
    },
    {
     "data": {
      "text/plain": [
       "<matplotlib.figure.Figure at 0x7f8aca015f60>"
      ]
     },
     "metadata": {},
     "output_type": "display_data"
    },
    {
     "data": {
      "text/plain": [
       "<matplotlib.figure.Figure at 0x7f8ac9ff24a8>"
      ]
     },
     "metadata": {},
     "output_type": "display_data"
    },
    {
     "data": {
      "text/plain": [
       "<matplotlib.figure.Figure at 0x7f8ac9f2c668>"
      ]
     },
     "metadata": {},
     "output_type": "display_data"
    },
    {
     "data": {
      "text/plain": [
       "<matplotlib.figure.Figure at 0x7f8ab7262be0>"
      ]
     },
     "metadata": {},
     "output_type": "display_data"
    },
    {
     "data": {
      "text/plain": [
       "<matplotlib.figure.Figure at 0x7f8acf84b4a8>"
      ]
     },
     "metadata": {},
     "output_type": "display_data"
    },
    {
     "data": {
      "text/plain": [
       "<matplotlib.figure.Figure at 0x7f8abfc62a58>"
      ]
     },
     "metadata": {},
     "output_type": "display_data"
    },
    {
     "data": {
      "text/plain": [
       "<matplotlib.figure.Figure at 0x7f8ac0af3be0>"
      ]
     },
     "metadata": {},
     "output_type": "display_data"
    },
    {
     "data": {
      "text/plain": [
       "<matplotlib.figure.Figure at 0x7f8ad072e518>"
      ]
     },
     "metadata": {},
     "output_type": "display_data"
    },
    {
     "data": {
      "text/plain": [
       "<matplotlib.figure.Figure at 0x7f8ad0710b38>"
      ]
     },
     "metadata": {},
     "output_type": "display_data"
    },
    {
     "data": {
      "text/plain": [
       "<matplotlib.figure.Figure at 0x7f8ab922ba20>"
      ]
     },
     "metadata": {},
     "output_type": "display_data"
    },
    {
     "data": {
      "text/plain": [
       "<matplotlib.figure.Figure at 0x7f8ab6f195c0>"
      ]
     },
     "metadata": {},
     "output_type": "display_data"
    },
    {
     "data": {
      "text/plain": [
       "<matplotlib.figure.Figure at 0x7f8ac0b24c50>"
      ]
     },
     "metadata": {},
     "output_type": "display_data"
    },
    {
     "data": {
      "text/plain": [
       "<matplotlib.figure.Figure at 0x7f8ab5e00fd0>"
      ]
     },
     "metadata": {},
     "output_type": "display_data"
    },
    {
     "data": {
      "text/plain": [
       "<matplotlib.figure.Figure at 0x7f8ab6fc8f28>"
      ]
     },
     "metadata": {},
     "output_type": "display_data"
    },
    {
     "data": {
      "text/plain": [
       "<matplotlib.figure.Figure at 0x7f8ab6f19550>"
      ]
     },
     "metadata": {},
     "output_type": "display_data"
    },
    {
     "data": {
      "text/plain": [
       "<matplotlib.figure.Figure at 0x7f8abcea6a90>"
      ]
     },
     "metadata": {},
     "output_type": "display_data"
    },
    {
     "data": {
      "text/plain": [
       "<matplotlib.figure.Figure at 0x7f8aba69d780>"
      ]
     },
     "metadata": {},
     "output_type": "display_data"
    },
    {
     "data": {
      "text/plain": [
       "<matplotlib.figure.Figure at 0x7f8abce80d68>"
      ]
     },
     "metadata": {},
     "output_type": "display_data"
    },
    {
     "data": {
      "text/plain": [
       "<matplotlib.figure.Figure at 0x7f8abad8f9b0>"
      ]
     },
     "metadata": {},
     "output_type": "display_data"
    },
    {
     "data": {
      "text/plain": [
       "<matplotlib.figure.Figure at 0x7f8ad1f7af98>"
      ]
     },
     "metadata": {},
     "output_type": "display_data"
    },
    {
     "data": {
      "text/plain": [
       "<matplotlib.figure.Figure at 0x7f8ad064ad30>"
      ]
     },
     "metadata": {},
     "output_type": "display_data"
    },
    {
     "data": {
      "text/plain": [
       "<matplotlib.figure.Figure at 0x7f8abce95940>"
      ]
     },
     "metadata": {},
     "output_type": "display_data"
    },
    {
     "data": {
      "text/plain": [
       "<matplotlib.figure.Figure at 0x7f8acf59de80>"
      ]
     },
     "metadata": {},
     "output_type": "display_data"
    },
    {
     "data": {
      "text/plain": [
       "<matplotlib.figure.Figure at 0x7f8acddc89e8>"
      ]
     },
     "metadata": {},
     "output_type": "display_data"
    },
    {
     "data": {
      "text/plain": [
       "<matplotlib.figure.Figure at 0x7f8ad1fb0f60>"
      ]
     },
     "metadata": {},
     "output_type": "display_data"
    },
    {
     "data": {
      "text/plain": [
       "<matplotlib.figure.Figure at 0x7f8aca8781d0>"
      ]
     },
     "metadata": {},
     "output_type": "display_data"
    },
    {
     "data": {
      "text/plain": [
       "<matplotlib.figure.Figure at 0x7f8aca8787b8>"
      ]
     },
     "metadata": {},
     "output_type": "display_data"
    },
    {
     "data": {
      "text/plain": [
       "<matplotlib.figure.Figure at 0x7f8aca5112b0>"
      ]
     },
     "metadata": {},
     "output_type": "display_data"
    },
    {
     "data": {
      "text/plain": [
       "<matplotlib.figure.Figure at 0x7f8acc2ce0b8>"
      ]
     },
     "metadata": {},
     "output_type": "display_data"
    },
    {
     "data": {
      "text/plain": [
       "<matplotlib.figure.Figure at 0x7f8ac96347b8>"
      ]
     },
     "metadata": {},
     "output_type": "display_data"
    },
    {
     "data": {
      "text/plain": [
       "<matplotlib.figure.Figure at 0x7f8ac8287208>"
      ]
     },
     "metadata": {},
     "output_type": "display_data"
    },
    {
     "data": {
      "text/plain": [
       "<matplotlib.figure.Figure at 0x7f8ace912c50>"
      ]
     },
     "metadata": {},
     "output_type": "display_data"
    },
    {
     "data": {
      "text/plain": [
       "<matplotlib.figure.Figure at 0x7f8ac82873c8>"
      ]
     },
     "metadata": {},
     "output_type": "display_data"
    },
    {
     "data": {
      "text/plain": [
       "<matplotlib.figure.Figure at 0x7f8ac88e2860>"
      ]
     },
     "metadata": {},
     "output_type": "display_data"
    },
    {
     "data": {
      "text/plain": [
       "<matplotlib.figure.Figure at 0x7f8ac9193320>"
      ]
     },
     "metadata": {},
     "output_type": "display_data"
    },
    {
     "data": {
      "text/plain": [
       "<matplotlib.figure.Figure at 0x7f8ac2975470>"
      ]
     },
     "metadata": {},
     "output_type": "display_data"
    },
    {
     "data": {
      "text/plain": [
       "<matplotlib.figure.Figure at 0x7f8ac9634d68>"
      ]
     },
     "metadata": {},
     "output_type": "display_data"
    },
    {
     "data": {
      "text/plain": [
       "<matplotlib.figure.Figure at 0x7f8ac2596ba8>"
      ]
     },
     "metadata": {},
     "output_type": "display_data"
    },
    {
     "data": {
      "text/plain": [
       "<matplotlib.figure.Figure at 0x7f8ac2471dd8>"
      ]
     },
     "metadata": {},
     "output_type": "display_data"
    },
    {
     "data": {
      "text/plain": [
       "<matplotlib.figure.Figure at 0x7f8ac15863c8>"
      ]
     },
     "metadata": {},
     "output_type": "display_data"
    },
    {
     "data": {
      "text/plain": [
       "<matplotlib.figure.Figure at 0x7f8ab7f66898>"
      ]
     },
     "metadata": {},
     "output_type": "display_data"
    },
    {
     "data": {
      "text/plain": [
       "<matplotlib.figure.Figure at 0x7f8ac0fc1710>"
      ]
     },
     "metadata": {},
     "output_type": "display_data"
    },
    {
     "data": {
      "text/plain": [
       "<matplotlib.figure.Figure at 0x7f8ab7f6f0f0>"
      ]
     },
     "metadata": {},
     "output_type": "display_data"
    },
    {
     "data": {
      "text/plain": [
       "<matplotlib.figure.Figure at 0x7f8ab80c7e10>"
      ]
     },
     "metadata": {},
     "output_type": "display_data"
    },
    {
     "data": {
      "text/plain": [
       "<matplotlib.figure.Figure at 0x7f8ab7f367b8>"
      ]
     },
     "metadata": {},
     "output_type": "display_data"
    },
    {
     "data": {
      "text/plain": [
       "<matplotlib.figure.Figure at 0x7f8ac0d56550>"
      ]
     },
     "metadata": {},
     "output_type": "display_data"
    },
    {
     "data": {
      "text/plain": [
       "<matplotlib.figure.Figure at 0x7f8ab80c7b00>"
      ]
     },
     "metadata": {},
     "output_type": "display_data"
    },
    {
     "data": {
      "text/plain": [
       "<matplotlib.figure.Figure at 0x7f8ac29fce48>"
      ]
     },
     "metadata": {},
     "output_type": "display_data"
    },
    {
     "data": {
      "text/plain": [
       "<matplotlib.figure.Figure at 0x7f8ac294de80>"
      ]
     },
     "metadata": {},
     "output_type": "display_data"
    },
    {
     "data": {
      "text/plain": [
       "<matplotlib.figure.Figure at 0x7f8ab80bc240>"
      ]
     },
     "metadata": {},
     "output_type": "display_data"
    },
    {
     "data": {
      "text/plain": [
       "<matplotlib.figure.Figure at 0x7f8ac294d6a0>"
      ]
     },
     "metadata": {},
     "output_type": "display_data"
    },
    {
     "data": {
      "text/plain": [
       "<matplotlib.figure.Figure at 0x7f8ac294d5f8>"
      ]
     },
     "metadata": {},
     "output_type": "display_data"
    },
    {
     "data": {
      "text/plain": [
       "<matplotlib.figure.Figure at 0x7f8ad16d2be0>"
      ]
     },
     "metadata": {},
     "output_type": "display_data"
    },
    {
     "data": {
      "text/plain": [
       "<matplotlib.figure.Figure at 0x7f8ac5ae2358>"
      ]
     },
     "metadata": {},
     "output_type": "display_data"
    },
    {
     "data": {
      "text/plain": [
       "<matplotlib.figure.Figure at 0x7f8ad16d2c18>"
      ]
     },
     "metadata": {},
     "output_type": "display_data"
    },
    {
     "data": {
      "text/plain": [
       "<matplotlib.figure.Figure at 0x7f8aca191940>"
      ]
     },
     "metadata": {},
     "output_type": "display_data"
    },
    {
     "data": {
      "text/plain": [
       "<matplotlib.figure.Figure at 0x7f8aca191198>"
      ]
     },
     "metadata": {},
     "output_type": "display_data"
    },
    {
     "data": {
      "text/plain": [
       "<matplotlib.figure.Figure at 0x7f8aca06f7f0>"
      ]
     },
     "metadata": {},
     "output_type": "display_data"
    },
    {
     "data": {
      "text/plain": [
       "<matplotlib.figure.Figure at 0x7f8ac2cf66d8>"
      ]
     },
     "metadata": {},
     "output_type": "display_data"
    },
    {
     "data": {
      "text/plain": [
       "<matplotlib.figure.Figure at 0x7f8acdc8a3c8>"
      ]
     },
     "metadata": {},
     "output_type": "display_data"
    },
    {
     "data": {
      "text/plain": [
       "<matplotlib.figure.Figure at 0x7f8abc426748>"
      ]
     },
     "metadata": {},
     "output_type": "display_data"
    },
    {
     "data": {
      "text/plain": [
       "<matplotlib.figure.Figure at 0x7f8aca17a588>"
      ]
     },
     "metadata": {},
     "output_type": "display_data"
    },
    {
     "data": {
      "text/plain": [
       "<matplotlib.figure.Figure at 0x7f8abc426fd0>"
      ]
     },
     "metadata": {},
     "output_type": "display_data"
    },
    {
     "data": {
      "text/plain": [
       "<matplotlib.figure.Figure at 0x7f8acc44b4e0>"
      ]
     },
     "metadata": {},
     "output_type": "display_data"
    },
    {
     "data": {
      "text/plain": [
       "<matplotlib.figure.Figure at 0x7f8ad0271a20>"
      ]
     },
     "metadata": {},
     "output_type": "display_data"
    },
    {
     "data": {
      "text/plain": [
       "<matplotlib.figure.Figure at 0x7f8acebd9cf8>"
      ]
     },
     "metadata": {},
     "output_type": "display_data"
    },
    {
     "data": {
      "text/plain": [
       "<matplotlib.figure.Figure at 0x7f8abd058f28>"
      ]
     },
     "metadata": {},
     "output_type": "display_data"
    },
    {
     "data": {
      "text/plain": [
       "<matplotlib.figure.Figure at 0x7f8ac03fcf28>"
      ]
     },
     "metadata": {},
     "output_type": "display_data"
    },
    {
     "data": {
      "text/plain": [
       "<matplotlib.figure.Figure at 0x7f8ad1848c88>"
      ]
     },
     "metadata": {},
     "output_type": "display_data"
    },
    {
     "data": {
      "text/plain": [
       "<matplotlib.figure.Figure at 0x7f8abfc19c88>"
      ]
     },
     "metadata": {},
     "output_type": "display_data"
    },
    {
     "data": {
      "text/plain": [
       "<matplotlib.figure.Figure at 0x7f8ab91b3860>"
      ]
     },
     "metadata": {},
     "output_type": "display_data"
    },
    {
     "data": {
      "text/plain": [
       "<matplotlib.figure.Figure at 0x7f8ac03fcc50>"
      ]
     },
     "metadata": {},
     "output_type": "display_data"
    },
    {
     "data": {
      "text/plain": [
       "<matplotlib.figure.Figure at 0x7f8aba14e710>"
      ]
     },
     "metadata": {},
     "output_type": "display_data"
    },
    {
     "data": {
      "text/plain": [
       "<matplotlib.figure.Figure at 0x7f8ac13b93c8>"
      ]
     },
     "metadata": {},
     "output_type": "display_data"
    },
    {
     "data": {
      "text/plain": [
       "<matplotlib.figure.Figure at 0x7f8ac2052c18>"
      ]
     },
     "metadata": {},
     "output_type": "display_data"
    },
    {
     "data": {
      "text/plain": [
       "<matplotlib.figure.Figure at 0x7f8ac0f43898>"
      ]
     },
     "metadata": {},
     "output_type": "display_data"
    },
    {
     "data": {
      "text/plain": [
       "<matplotlib.figure.Figure at 0x7f8ab8469780>"
      ]
     },
     "metadata": {},
     "output_type": "display_data"
    },
    {
     "data": {
      "text/plain": [
       "<matplotlib.figure.Figure at 0x7f8ac2052f60>"
      ]
     },
     "metadata": {},
     "output_type": "display_data"
    },
    {
     "data": {
      "text/plain": [
       "<matplotlib.figure.Figure at 0x7f8ab74600f0>"
      ]
     },
     "metadata": {},
     "output_type": "display_data"
    },
    {
     "data": {
      "text/plain": [
       "<matplotlib.figure.Figure at 0x7f8ab6e28630>"
      ]
     },
     "metadata": {},
     "output_type": "display_data"
    },
    {
     "data": {
      "text/plain": [
       "<matplotlib.figure.Figure at 0x7f8ac90010f0>"
      ]
     },
     "metadata": {},
     "output_type": "display_data"
    },
    {
     "data": {
      "text/plain": [
       "<matplotlib.figure.Figure at 0x7f8ab8459f60>"
      ]
     },
     "metadata": {},
     "output_type": "display_data"
    },
    {
     "data": {
      "text/plain": [
       "<matplotlib.figure.Figure at 0x7f8ac9001438>"
      ]
     },
     "metadata": {},
     "output_type": "display_data"
    },
    {
     "data": {
      "text/plain": [
       "<matplotlib.figure.Figure at 0x7f8ab620dcc0>"
      ]
     },
     "metadata": {},
     "output_type": "display_data"
    },
    {
     "data": {
      "text/plain": [
       "<matplotlib.figure.Figure at 0x7f8acfb81048>"
      ]
     },
     "metadata": {},
     "output_type": "display_data"
    },
    {
     "data": {
      "text/plain": [
       "<matplotlib.figure.Figure at 0x7f8ac9018a20>"
      ]
     },
     "metadata": {},
     "output_type": "display_data"
    },
    {
     "data": {
      "text/plain": [
       "<matplotlib.figure.Figure at 0x7f8acf707518>"
      ]
     },
     "metadata": {},
     "output_type": "display_data"
    },
    {
     "data": {
      "text/plain": [
       "<matplotlib.figure.Figure at 0x7f8acd9d0be0>"
      ]
     },
     "metadata": {},
     "output_type": "display_data"
    },
    {
     "data": {
      "text/plain": [
       "<matplotlib.figure.Figure at 0x7f8acd20bdd8>"
      ]
     },
     "metadata": {},
     "output_type": "display_data"
    },
    {
     "data": {
      "text/plain": [
       "<matplotlib.figure.Figure at 0x7f8acf70ee10>"
      ]
     },
     "metadata": {},
     "output_type": "display_data"
    },
    {
     "data": {
      "text/plain": [
       "<matplotlib.figure.Figure at 0x7f8aca72e320>"
      ]
     },
     "metadata": {},
     "output_type": "display_data"
    },
    {
     "data": {
      "text/plain": [
       "<matplotlib.figure.Figure at 0x7f8aca447eb8>"
      ]
     },
     "metadata": {},
     "output_type": "display_data"
    },
    {
     "data": {
      "text/plain": [
       "<matplotlib.figure.Figure at 0x7f8aca4381d0>"
      ]
     },
     "metadata": {},
     "output_type": "display_data"
    },
    {
     "data": {
      "text/plain": [
       "<matplotlib.figure.Figure at 0x7f8ac90cfe10>"
      ]
     },
     "metadata": {},
     "output_type": "display_data"
    },
    {
     "data": {
      "text/plain": [
       "<matplotlib.figure.Figure at 0x7f8ac9241ac8>"
      ]
     },
     "metadata": {},
     "output_type": "display_data"
    },
    {
     "data": {
      "text/plain": [
       "<matplotlib.figure.Figure at 0x7f8ac6e1bfd0>"
      ]
     },
     "metadata": {},
     "output_type": "display_data"
    },
    {
     "data": {
      "text/plain": [
       "<matplotlib.figure.Figure at 0x7f8ac9616240>"
      ]
     },
     "metadata": {},
     "output_type": "display_data"
    },
    {
     "data": {
      "text/plain": [
       "<matplotlib.figure.Figure at 0x7f8ac5175ac8>"
      ]
     },
     "metadata": {},
     "output_type": "display_data"
    },
    {
     "data": {
      "text/plain": [
       "<matplotlib.figure.Figure at 0x7f8ac6e24198>"
      ]
     },
     "metadata": {},
     "output_type": "display_data"
    },
    {
     "data": {
      "text/plain": [
       "<matplotlib.figure.Figure at 0x7f8ac46589e8>"
      ]
     },
     "metadata": {},
     "output_type": "display_data"
    },
    {
     "data": {
      "text/plain": [
       "<matplotlib.figure.Figure at 0x7f8ac26514e0>"
      ]
     },
     "metadata": {},
     "output_type": "display_data"
    },
    {
     "data": {
      "text/plain": [
       "<matplotlib.figure.Figure at 0x7f8ac4658b70>"
      ]
     },
     "metadata": {},
     "output_type": "display_data"
    },
    {
     "data": {
      "text/plain": [
       "<matplotlib.figure.Figure at 0x7f8ac4668550>"
      ]
     },
     "metadata": {},
     "output_type": "display_data"
    },
    {
     "data": {
      "text/plain": [
       "<matplotlib.figure.Figure at 0x7f8ab8153a58>"
      ]
     },
     "metadata": {},
     "output_type": "display_data"
    },
    {
     "data": {
      "text/plain": [
       "<matplotlib.figure.Figure at 0x7f8ab8164a90>"
      ]
     },
     "metadata": {},
     "output_type": "display_data"
    },
    {
     "data": {
      "text/plain": [
       "<matplotlib.figure.Figure at 0x7f8ab7d92588>"
      ]
     },
     "metadata": {},
     "output_type": "display_data"
    },
    {
     "data": {
      "text/plain": [
       "<matplotlib.figure.Figure at 0x7f8ab82dec50>"
      ]
     },
     "metadata": {},
     "output_type": "display_data"
    },
    {
     "data": {
      "text/plain": [
       "<matplotlib.figure.Figure at 0x7f8ab69bafd0>"
      ]
     },
     "metadata": {},
     "output_type": "display_data"
    },
    {
     "data": {
      "text/plain": [
       "<matplotlib.figure.Figure at 0x7f8ab8fdf438>"
      ]
     },
     "metadata": {},
     "output_type": "display_data"
    },
    {
     "data": {
      "text/plain": [
       "<matplotlib.figure.Figure at 0x7f8ab69c42b0>"
      ]
     },
     "metadata": {},
     "output_type": "display_data"
    },
    {
     "data": {
      "text/plain": [
       "<matplotlib.figure.Figure at 0x7f8ac0b63438>"
      ]
     },
     "metadata": {},
     "output_type": "display_data"
    },
    {
     "data": {
      "text/plain": [
       "<matplotlib.figure.Figure at 0x7f8ac0b632b0>"
      ]
     },
     "metadata": {},
     "output_type": "display_data"
    },
    {
     "data": {
      "text/plain": [
       "<matplotlib.figure.Figure at 0x7f8ac0b63240>"
      ]
     },
     "metadata": {},
     "output_type": "display_data"
    },
    {
     "data": {
      "text/plain": [
       "<matplotlib.figure.Figure at 0x7f8ac090ac18>"
      ]
     },
     "metadata": {},
     "output_type": "display_data"
    },
    {
     "data": {
      "text/plain": [
       "<matplotlib.figure.Figure at 0x7f8ac1f625f8>"
      ]
     },
     "metadata": {},
     "output_type": "display_data"
    },
    {
     "data": {
      "text/plain": [
       "<matplotlib.figure.Figure at 0x7f8ac1f708d0>"
      ]
     },
     "metadata": {},
     "output_type": "display_data"
    },
    {
     "data": {
      "text/plain": [
       "<matplotlib.figure.Figure at 0x7f8ac1f660f0>"
      ]
     },
     "metadata": {},
     "output_type": "display_data"
    },
    {
     "data": {
      "text/plain": [
       "<matplotlib.figure.Figure at 0x7f8ac524ffd0>"
      ]
     },
     "metadata": {},
     "output_type": "display_data"
    },
    {
     "data": {
      "text/plain": [
       "<matplotlib.figure.Figure at 0x7f8ac6f08cc0>"
      ]
     },
     "metadata": {},
     "output_type": "display_data"
    },
    {
     "data": {
      "text/plain": [
       "<matplotlib.figure.Figure at 0x7f8ac1a67d30>"
      ]
     },
     "metadata": {},
     "output_type": "display_data"
    },
    {
     "data": {
      "text/plain": [
       "<matplotlib.figure.Figure at 0x7f8ac3351dd8>"
      ]
     },
     "metadata": {},
     "output_type": "display_data"
    },
    {
     "data": {
      "text/plain": [
       "<matplotlib.figure.Figure at 0x7f8acb135978>"
      ]
     },
     "metadata": {},
     "output_type": "display_data"
    },
    {
     "data": {
      "text/plain": [
       "<matplotlib.figure.Figure at 0x7f8acabf3c88>"
      ]
     },
     "metadata": {},
     "output_type": "display_data"
    },
    {
     "data": {
      "text/plain": [
       "<matplotlib.figure.Figure at 0x7f8ac7e2aa90>"
      ]
     },
     "metadata": {},
     "output_type": "display_data"
    },
    {
     "data": {
      "text/plain": [
       "<matplotlib.figure.Figure at 0x7f8ac8b8f320>"
      ]
     },
     "metadata": {},
     "output_type": "display_data"
    },
    {
     "data": {
      "text/plain": [
       "<matplotlib.figure.Figure at 0x7f8acb5f1278>"
      ]
     },
     "metadata": {},
     "output_type": "display_data"
    },
    {
     "data": {
      "text/plain": [
       "<matplotlib.figure.Figure at 0x7f8ac7e2ac18>"
      ]
     },
     "metadata": {},
     "output_type": "display_data"
    },
    {
     "data": {
      "text/plain": [
       "<matplotlib.figure.Figure at 0x7f8ac8588390>"
      ]
     },
     "metadata": {},
     "output_type": "display_data"
    },
    {
     "data": {
      "text/plain": [
       "<matplotlib.figure.Figure at 0x7f8acc111c50>"
      ]
     },
     "metadata": {},
     "output_type": "display_data"
    },
    {
     "data": {
      "text/plain": [
       "<matplotlib.figure.Figure at 0x7f8ac8577080>"
      ]
     },
     "metadata": {},
     "output_type": "display_data"
    },
    {
     "data": {
      "text/plain": [
       "<matplotlib.figure.Figure at 0x7f8acd344470>"
      ]
     },
     "metadata": {},
     "output_type": "display_data"
    },
    {
     "data": {
      "text/plain": [
       "<matplotlib.figure.Figure at 0x7f8acbb376d8>"
      ]
     },
     "metadata": {},
     "output_type": "display_data"
    },
    {
     "data": {
      "text/plain": [
       "<matplotlib.figure.Figure at 0x7f8acbcdcc18>"
      ]
     },
     "metadata": {},
     "output_type": "display_data"
    },
    {
     "data": {
      "text/plain": [
       "<matplotlib.figure.Figure at 0x7f8acbcdcb00>"
      ]
     },
     "metadata": {},
     "output_type": "display_data"
    },
    {
     "data": {
      "text/plain": [
       "<matplotlib.figure.Figure at 0x7f8ac11f5a20>"
      ]
     },
     "metadata": {},
     "output_type": "display_data"
    },
    {
     "data": {
      "text/plain": [
       "<matplotlib.figure.Figure at 0x7f8ad0f39b38>"
      ]
     },
     "metadata": {},
     "output_type": "display_data"
    },
    {
     "data": {
      "text/plain": [
       "<matplotlib.figure.Figure at 0x7f8acf89c080>"
      ]
     },
     "metadata": {},
     "output_type": "display_data"
    },
    {
     "data": {
      "text/plain": [
       "<matplotlib.figure.Figure at 0x7f8ad0f39710>"
      ]
     },
     "metadata": {},
     "output_type": "display_data"
    },
    {
     "data": {
      "text/plain": [
       "<matplotlib.figure.Figure at 0x7f8ac3ad8d30>"
      ]
     },
     "metadata": {},
     "output_type": "display_data"
    },
    {
     "data": {
      "text/plain": [
       "<matplotlib.figure.Figure at 0x7f8ad1f6cb70>"
      ]
     },
     "metadata": {},
     "output_type": "display_data"
    },
    {
     "data": {
      "text/plain": [
       "<matplotlib.figure.Figure at 0x7f8acff3dcf8>"
      ]
     },
     "metadata": {},
     "output_type": "display_data"
    },
    {
     "data": {
      "text/plain": [
       "<matplotlib.figure.Figure at 0x7f8ad1f6ce80>"
      ]
     },
     "metadata": {},
     "output_type": "display_data"
    },
    {
     "data": {
      "text/plain": [
       "<matplotlib.figure.Figure at 0x7f8aba934dd8>"
      ]
     },
     "metadata": {},
     "output_type": "display_data"
    },
    {
     "data": {
      "text/plain": [
       "<matplotlib.figure.Figure at 0x7f8abb2344e0>"
      ]
     },
     "metadata": {},
     "output_type": "display_data"
    },
    {
     "data": {
      "text/plain": [
       "<matplotlib.figure.Figure at 0x7f8ac02dec88>"
      ]
     },
     "metadata": {},
     "output_type": "display_data"
    },
    {
     "data": {
      "text/plain": [
       "<matplotlib.figure.Figure at 0x7f8abac8b048>"
      ]
     },
     "metadata": {},
     "output_type": "display_data"
    },
    {
     "data": {
      "text/plain": [
       "<matplotlib.figure.Figure at 0x7f8ace4dcc50>"
      ]
     },
     "metadata": {},
     "output_type": "display_data"
    },
    {
     "data": {
      "text/plain": [
       "<matplotlib.figure.Figure at 0x7f8ac5890fd0>"
      ]
     },
     "metadata": {},
     "output_type": "display_data"
    },
    {
     "data": {
      "text/plain": [
       "<matplotlib.figure.Figure at 0x7f8ac5f70400>"
      ]
     },
     "metadata": {},
     "output_type": "display_data"
    },
    {
     "data": {
      "text/plain": [
       "<matplotlib.figure.Figure at 0x7f8ac2acc710>"
      ]
     },
     "metadata": {},
     "output_type": "display_data"
    },
    {
     "data": {
      "text/plain": [
       "<matplotlib.figure.Figure at 0x7f8ac5f3b048>"
      ]
     },
     "metadata": {},
     "output_type": "display_data"
    },
    {
     "data": {
      "text/plain": [
       "<matplotlib.figure.Figure at 0x7f8ab875df28>"
      ]
     },
     "metadata": {},
     "output_type": "display_data"
    },
    {
     "data": {
      "text/plain": [
       "<matplotlib.figure.Figure at 0x7f8ab77ba6d8>"
      ]
     },
     "metadata": {},
     "output_type": "display_data"
    },
    {
     "data": {
      "text/plain": [
       "<matplotlib.figure.Figure at 0x7f8ab77ba9e8>"
      ]
     },
     "metadata": {},
     "output_type": "display_data"
    },
    {
     "data": {
      "text/plain": [
       "<matplotlib.figure.Figure at 0x7f8acdf88b70>"
      ]
     },
     "metadata": {},
     "output_type": "display_data"
    },
    {
     "data": {
      "text/plain": [
       "<matplotlib.figure.Figure at 0x7f8ab5d3a2e8>"
      ]
     },
     "metadata": {},
     "output_type": "display_data"
    },
    {
     "data": {
      "text/plain": [
       "<matplotlib.figure.Figure at 0x7f8acdfa2f28>"
      ]
     },
     "metadata": {},
     "output_type": "display_data"
    },
    {
     "data": {
      "text/plain": [
       "<matplotlib.figure.Figure at 0x7f8acb3acc18>"
      ]
     },
     "metadata": {},
     "output_type": "display_data"
    },
    {
     "data": {
      "text/plain": [
       "<matplotlib.figure.Figure at 0x7f8ac8ae8940>"
      ]
     },
     "metadata": {},
     "output_type": "display_data"
    },
    {
     "data": {
      "text/plain": [
       "<matplotlib.figure.Figure at 0x7f8ac67dcb70>"
      ]
     },
     "metadata": {},
     "output_type": "display_data"
    },
    {
     "data": {
      "text/plain": [
       "<matplotlib.figure.Figure at 0x7f8ac457ecc0>"
      ]
     },
     "metadata": {},
     "output_type": "display_data"
    },
    {
     "data": {
      "text/plain": [
       "<matplotlib.figure.Figure at 0x7f8acb3acdd8>"
      ]
     },
     "metadata": {},
     "output_type": "display_data"
    },
    {
     "data": {
      "text/plain": [
       "<matplotlib.figure.Figure at 0x7f8ac9371ef0>"
      ]
     },
     "metadata": {},
     "output_type": "display_data"
    },
    {
     "data": {
      "text/plain": [
       "<matplotlib.figure.Figure at 0x7f8ac313e5f8>"
      ]
     },
     "metadata": {},
     "output_type": "display_data"
    },
    {
     "data": {
      "text/plain": [
       "<matplotlib.figure.Figure at 0x7f8ac0994c50>"
      ]
     },
     "metadata": {},
     "output_type": "display_data"
    },
    {
     "data": {
      "text/plain": [
       "<matplotlib.figure.Figure at 0x7f8ac2816c18>"
      ]
     },
     "metadata": {},
     "output_type": "display_data"
    },
    {
     "data": {
      "text/plain": [
       "<matplotlib.figure.Figure at 0x7f8ab8da9f98>"
      ]
     },
     "metadata": {},
     "output_type": "display_data"
    },
    {
     "data": {
      "text/plain": [
       "<matplotlib.figure.Figure at 0x7f8ac457eb00>"
      ]
     },
     "metadata": {},
     "output_type": "display_data"
    },
    {
     "data": {
      "text/plain": [
       "<matplotlib.figure.Figure at 0x7f8ac1ec1e80>"
      ]
     },
     "metadata": {},
     "output_type": "display_data"
    },
    {
     "data": {
      "text/plain": [
       "<matplotlib.figure.Figure at 0x7f8ac457efd0>"
      ]
     },
     "metadata": {},
     "output_type": "display_data"
    },
    {
     "data": {
      "text/plain": [
       "<matplotlib.figure.Figure at 0x7f8ab8c1bc18>"
      ]
     },
     "metadata": {},
     "output_type": "display_data"
    },
    {
     "data": {
      "text/plain": [
       "<matplotlib.figure.Figure at 0x7f8ab749f6d8>"
      ]
     },
     "metadata": {},
     "output_type": "display_data"
    },
    {
     "data": {
      "text/plain": [
       "<matplotlib.figure.Figure at 0x7f8ab7783390>"
      ]
     },
     "metadata": {},
     "output_type": "display_data"
    },
    {
     "data": {
      "text/plain": [
       "<matplotlib.figure.Figure at 0x7f8ab71b8c50>"
      ]
     },
     "metadata": {},
     "output_type": "display_data"
    },
    {
     "data": {
      "text/plain": [
       "<matplotlib.figure.Figure at 0x7f8ab734e940>"
      ]
     },
     "metadata": {},
     "output_type": "display_data"
    },
    {
     "data": {
      "text/plain": [
       "<matplotlib.figure.Figure at 0x7f8ac0aa4898>"
      ]
     },
     "metadata": {},
     "output_type": "display_data"
    },
    {
     "data": {
      "text/plain": [
       "<matplotlib.figure.Figure at 0x7f8ab5dda0b8>"
      ]
     },
     "metadata": {},
     "output_type": "display_data"
    },
    {
     "data": {
      "text/plain": [
       "<matplotlib.figure.Figure at 0x7f8ab71ee278>"
      ]
     },
     "metadata": {},
     "output_type": "display_data"
    },
    {
     "data": {
      "text/plain": [
       "<matplotlib.figure.Figure at 0x7f8ac05cdf28>"
      ]
     },
     "metadata": {},
     "output_type": "display_data"
    },
    {
     "data": {
      "text/plain": [
       "<matplotlib.figure.Figure at 0x7f8ac1613828>"
      ]
     },
     "metadata": {},
     "output_type": "display_data"
    },
    {
     "data": {
      "text/plain": [
       "<matplotlib.figure.Figure at 0x7f8ac1ddbe80>"
      ]
     },
     "metadata": {},
     "output_type": "display_data"
    },
    {
     "data": {
      "text/plain": [
       "<matplotlib.figure.Figure at 0x7f8ac16137b8>"
      ]
     },
     "metadata": {},
     "output_type": "display_data"
    },
    {
     "data": {
      "text/plain": [
       "<matplotlib.figure.Figure at 0x7f8ac1ddbe48>"
      ]
     },
     "metadata": {},
     "output_type": "display_data"
    },
    {
     "data": {
      "text/plain": [
       "<matplotlib.figure.Figure at 0x7f8ac39be7f0>"
      ]
     },
     "metadata": {},
     "output_type": "display_data"
    },
    {
     "data": {
      "text/plain": [
       "<matplotlib.figure.Figure at 0x7f8ac3796c18>"
      ]
     },
     "metadata": {},
     "output_type": "display_data"
    },
    {
     "data": {
      "text/plain": [
       "<matplotlib.figure.Figure at 0x7f8ac7321fd0>"
      ]
     },
     "metadata": {},
     "output_type": "display_data"
    },
    {
     "data": {
      "text/plain": [
       "<matplotlib.figure.Figure at 0x7f8ac8a03358>"
      ]
     },
     "metadata": {},
     "output_type": "display_data"
    },
    {
     "data": {
      "text/plain": [
       "<matplotlib.figure.Figure at 0x7f8ac1dea4e0>"
      ]
     },
     "metadata": {},
     "output_type": "display_data"
    },
    {
     "data": {
      "text/plain": [
       "<matplotlib.figure.Figure at 0x7f8ac59cb2b0>"
      ]
     },
     "metadata": {},
     "output_type": "display_data"
    },
    {
     "data": {
      "text/plain": [
       "<matplotlib.figure.Figure at 0x7f8ac3e3cd68>"
      ]
     },
     "metadata": {},
     "output_type": "display_data"
    },
    {
     "data": {
      "text/plain": [
       "<matplotlib.figure.Figure at 0x7f8ac5b0bac8>"
      ]
     },
     "metadata": {},
     "output_type": "display_data"
    },
    {
     "data": {
      "text/plain": [
       "<matplotlib.figure.Figure at 0x7f8ac8a2e550>"
      ]
     },
     "metadata": {},
     "output_type": "display_data"
    },
    {
     "data": {
      "text/plain": [
       "<matplotlib.figure.Figure at 0x7f8ac68d9f98>"
      ]
     },
     "metadata": {},
     "output_type": "display_data"
    },
    {
     "data": {
      "text/plain": [
       "<matplotlib.figure.Figure at 0x7f8ac4ef24e0>"
      ]
     },
     "metadata": {},
     "output_type": "display_data"
    },
    {
     "data": {
      "text/plain": [
       "<matplotlib.figure.Figure at 0x7f8ac3ba0a90>"
      ]
     },
     "metadata": {},
     "output_type": "display_data"
    },
    {
     "data": {
      "text/plain": [
       "<matplotlib.figure.Figure at 0x7f8ac455cef0>"
      ]
     },
     "metadata": {},
     "output_type": "display_data"
    },
    {
     "data": {
      "text/plain": [
       "<matplotlib.figure.Figure at 0x7f8ac974c5c0>"
      ]
     },
     "metadata": {},
     "output_type": "display_data"
    },
    {
     "data": {
      "text/plain": [
       "<matplotlib.figure.Figure at 0x7f8ac6370240>"
      ]
     },
     "metadata": {},
     "output_type": "display_data"
    },
    {
     "data": {
      "text/plain": [
       "<matplotlib.figure.Figure at 0x7f8ac453a6a0>"
      ]
     },
     "metadata": {},
     "output_type": "display_data"
    },
    {
     "data": {
      "text/plain": [
       "<matplotlib.figure.Figure at 0x7f8ac87d2780>"
      ]
     },
     "metadata": {},
     "output_type": "display_data"
    },
    {
     "data": {
      "text/plain": [
       "<matplotlib.figure.Figure at 0x7f8ac9d8c400>"
      ]
     },
     "metadata": {},
     "output_type": "display_data"
    },
    {
     "data": {
      "text/plain": [
       "<matplotlib.figure.Figure at 0x7f8ac9d8c518>"
      ]
     },
     "metadata": {},
     "output_type": "display_data"
    },
    {
     "data": {
      "text/plain": [
       "<matplotlib.figure.Figure at 0x7f8ac7f3fa58>"
      ]
     },
     "metadata": {},
     "output_type": "display_data"
    },
    {
     "data": {
      "text/plain": [
       "<matplotlib.figure.Figure at 0x7f8ac908d4a8>"
      ]
     },
     "metadata": {},
     "output_type": "display_data"
    },
    {
     "data": {
      "text/plain": [
       "<matplotlib.figure.Figure at 0x7f8aca84e470>"
      ]
     },
     "metadata": {},
     "output_type": "display_data"
    },
    {
     "data": {
      "text/plain": [
       "<matplotlib.figure.Figure at 0x7f8ac9466668>"
      ]
     },
     "metadata": {},
     "output_type": "display_data"
    },
    {
     "data": {
      "text/plain": [
       "<matplotlib.figure.Figure at 0x7f8ac9525160>"
      ]
     },
     "metadata": {},
     "output_type": "display_data"
    },
    {
     "data": {
      "text/plain": [
       "<matplotlib.figure.Figure at 0x7f8ac94666a0>"
      ]
     },
     "metadata": {},
     "output_type": "display_data"
    },
    {
     "data": {
      "text/plain": [
       "<matplotlib.figure.Figure at 0x7f8ac936a2b0>"
      ]
     },
     "metadata": {},
     "output_type": "display_data"
    },
    {
     "data": {
      "text/plain": [
       "<matplotlib.figure.Figure at 0x7f8aca4d6b00>"
      ]
     },
     "metadata": {},
     "output_type": "display_data"
    },
    {
     "data": {
      "text/plain": [
       "<matplotlib.figure.Figure at 0x7f8acba93fd0>"
      ]
     },
     "metadata": {},
     "output_type": "display_data"
    },
    {
     "data": {
      "text/plain": [
       "<matplotlib.figure.Figure at 0x7f8acc9c89b0>"
      ]
     },
     "metadata": {},
     "output_type": "display_data"
    },
    {
     "data": {
      "text/plain": [
       "<matplotlib.figure.Figure at 0x7f8acbb10b70>"
      ]
     },
     "metadata": {},
     "output_type": "display_data"
    },
    {
     "data": {
      "text/plain": [
       "<matplotlib.figure.Figure at 0x7f8acc9d24a8>"
      ]
     },
     "metadata": {},
     "output_type": "display_data"
    },
    {
     "data": {
      "text/plain": [
       "<matplotlib.figure.Figure at 0x7f8acc9d2470>"
      ]
     },
     "metadata": {},
     "output_type": "display_data"
    },
    {
     "data": {
      "text/plain": [
       "<matplotlib.figure.Figure at 0x7f8acf904a90>"
      ]
     },
     "metadata": {},
     "output_type": "display_data"
    },
    {
     "data": {
      "text/plain": [
       "<matplotlib.figure.Figure at 0x7f8acf904518>"
      ]
     },
     "metadata": {},
     "output_type": "display_data"
    },
    {
     "data": {
      "text/plain": [
       "<matplotlib.figure.Figure at 0x7f8acda479b0>"
      ]
     },
     "metadata": {},
     "output_type": "display_data"
    },
    {
     "data": {
      "text/plain": [
       "<matplotlib.figure.Figure at 0x7f8acde406d8>"
      ]
     },
     "metadata": {},
     "output_type": "display_data"
    },
    {
     "data": {
      "text/plain": [
       "<matplotlib.figure.Figure at 0x7f8acf8fa3c8>"
      ]
     },
     "metadata": {},
     "output_type": "display_data"
    },
    {
     "data": {
      "text/plain": [
       "<matplotlib.figure.Figure at 0x7f8ad0ad0c18>"
      ]
     },
     "metadata": {},
     "output_type": "display_data"
    },
    {
     "data": {
      "text/plain": [
       "<matplotlib.figure.Figure at 0x7f8ad0ad0a58>"
      ]
     },
     "metadata": {},
     "output_type": "display_data"
    },
    {
     "data": {
      "text/plain": [
       "<matplotlib.figure.Figure at 0x7f8ad0c8fa58>"
      ]
     },
     "metadata": {},
     "output_type": "display_data"
    },
    {
     "data": {
      "text/plain": [
       "<matplotlib.figure.Figure at 0x7f8ad0c8fc50>"
      ]
     },
     "metadata": {},
     "output_type": "display_data"
    },
    {
     "data": {
      "text/plain": [
       "<matplotlib.figure.Figure at 0x7f8ad0c8fd30>"
      ]
     },
     "metadata": {},
     "output_type": "display_data"
    },
    {
     "data": {
      "text/plain": [
       "<matplotlib.figure.Figure at 0x7f8abfcb1fd0>"
      ]
     },
     "metadata": {},
     "output_type": "display_data"
    },
    {
     "data": {
      "text/plain": [
       "<matplotlib.figure.Figure at 0x7f8abfcb1ac8>"
      ]
     },
     "metadata": {},
     "output_type": "display_data"
    },
    {
     "data": {
      "text/plain": [
       "<matplotlib.figure.Figure at 0x7f8abba1c438>"
      ]
     },
     "metadata": {},
     "output_type": "display_data"
    },
    {
     "data": {
      "text/plain": [
       "<matplotlib.figure.Figure at 0x7f8abba1c518>"
      ]
     },
     "metadata": {},
     "output_type": "display_data"
    },
    {
     "data": {
      "text/plain": [
       "<matplotlib.figure.Figure at 0x7f8abfcc9e48>"
      ]
     },
     "metadata": {},
     "output_type": "display_data"
    },
    {
     "data": {
      "text/plain": [
       "<matplotlib.figure.Figure at 0x7f8abf4549e8>"
      ]
     },
     "metadata": {},
     "output_type": "display_data"
    },
    {
     "data": {
      "text/plain": [
       "<matplotlib.figure.Figure at 0x7f8acadd2e48>"
      ]
     },
     "metadata": {},
     "output_type": "display_data"
    },
    {
     "data": {
      "text/plain": [
       "<matplotlib.figure.Figure at 0x7f8ac3822ac8>"
      ]
     },
     "metadata": {},
     "output_type": "display_data"
    },
    {
     "data": {
      "text/plain": [
       "<matplotlib.figure.Figure at 0x7f8ac2ca6b00>"
      ]
     },
     "metadata": {},
     "output_type": "display_data"
    },
    {
     "data": {
      "text/plain": [
       "<matplotlib.figure.Figure at 0x7f8aba6497f0>"
      ]
     },
     "metadata": {},
     "output_type": "display_data"
    },
    {
     "data": {
      "text/plain": [
       "<matplotlib.figure.Figure at 0x7f8ad1fc3e10>"
      ]
     },
     "metadata": {},
     "output_type": "display_data"
    },
    {
     "data": {
      "text/plain": [
       "<matplotlib.figure.Figure at 0x7f8ad1fc3f28>"
      ]
     },
     "metadata": {},
     "output_type": "display_data"
    },
    {
     "data": {
      "text/plain": [
       "<matplotlib.figure.Figure at 0x7f8ad1d43f60>"
      ]
     },
     "metadata": {},
     "output_type": "display_data"
    },
    {
     "data": {
      "text/plain": [
       "<matplotlib.figure.Figure at 0x7f8aba649e48>"
      ]
     },
     "metadata": {},
     "output_type": "display_data"
    },
    {
     "data": {
      "text/plain": [
       "<matplotlib.figure.Figure at 0x7f8ad1a8d8d0>"
      ]
     },
     "metadata": {},
     "output_type": "display_data"
    }
   ],
   "source": [
    "# leer datos para todas las posiciones\n",
    "potencias = list('123456')\n",
    "all_potencias = [ 'Tx0x0'+potencia for potencia in potencias]\n",
    "all_posiciones = ['t'+str(i) for i in range(1,18)]\n",
    "\n",
    "for potencia in all_potencias:\n",
    "    ruta1 = './raspRutas/'+potencia+'/Ruta2/t1/'\n",
    "    ruta2 = './raspRutas/'+potencia+'/Ruta2/t2/'\n",
    "    for pos in all_posiciones:\n",
    "        take1 = pd.read_csv(ruta1+pos, delim_whitespace=True, names=['Fecha','Hora','Be07','Be08','Be09','Be10','Be11']) \n",
    "        take2 = pd.read_csv(ruta2+pos, delim_whitespace=True, names=['Fecha','Hora','Be07','Be08','Be09','Be10','Be11']) \n",
    "        tam1 = take1['Be07'].count()\n",
    "        tam2 = take2['Be07'].count()\n",
    "        tam_min = min(tam1,tam2)\n",
    "        take1 = take1.head(tam_min)\n",
    "        take2 = take2.head(tam_min)\n",
    "        plotAllBeacons(potencia, pos+'', take1,take2)"
   ]
  },
  {
   "cell_type": "markdown",
   "metadata": {},
   "source": [
    "## Con celular , usando 3 medidas en zona 2 (15 puntos)"
   ]
  },
  {
   "cell_type": "code",
   "execution_count": 3,
   "metadata": {
    "collapsed": true
   },
   "outputs": [],
   "source": [
    "#Leer CSV  Tx 0x01 toma 1\n",
    "t01_t1 = pd.read_csv('./Movil/Tx_0x04/Tx04_1.csv', names=[i for i in range(1,3000)],skiprows=2)"
   ]
  },
  {
   "cell_type": "code",
   "execution_count": 4,
   "metadata": {
    "collapsed": true
   },
   "outputs": [],
   "source": [
    "data = t01_t1.transpose() # cada columna es una posicion del 1 al 15"
   ]
  },
  {
   "cell_type": "code",
   "execution_count": 5,
   "metadata": {},
   "outputs": [
    {
     "data": {
      "text/html": [
       "<div>\n",
       "<style>\n",
       "    .dataframe thead tr:only-child th {\n",
       "        text-align: right;\n",
       "    }\n",
       "\n",
       "    .dataframe thead th {\n",
       "        text-align: left;\n",
       "    }\n",
       "\n",
       "    .dataframe tbody tr th {\n",
       "        vertical-align: top;\n",
       "    }\n",
       "</style>\n",
       "<table border=\"1\" class=\"dataframe\">\n",
       "  <thead>\n",
       "    <tr style=\"text-align: right;\">\n",
       "      <th></th>\n",
       "      <th>0</th>\n",
       "      <th>1</th>\n",
       "      <th>2</th>\n",
       "      <th>3</th>\n",
       "      <th>4</th>\n",
       "      <th>5</th>\n",
       "      <th>6</th>\n",
       "      <th>7</th>\n",
       "      <th>8</th>\n",
       "      <th>9</th>\n",
       "      <th>10</th>\n",
       "      <th>11</th>\n",
       "      <th>12</th>\n",
       "      <th>13</th>\n",
       "      <th>14</th>\n",
       "    </tr>\n",
       "  </thead>\n",
       "  <tbody>\n",
       "    <tr>\n",
       "      <th>1</th>\n",
       "      <td>Be07Be08Be09Be10Be11</td>\n",
       "      <td>Be07Be08Be09Be10Be11</td>\n",
       "      <td>Be07Be08Be09Be10Be11</td>\n",
       "      <td>Be07Be08Be09Be10Be11</td>\n",
       "      <td>Be07Be08Be09Be10Be11</td>\n",
       "      <td>Be07Be08Be09Be10Be11</td>\n",
       "      <td>Be07Be08Be09Be10Be11</td>\n",
       "      <td>Be07Be08Be09Be10Be11</td>\n",
       "      <td>Be07Be08Be09Be10Be11</td>\n",
       "      <td>Be07Be08Be09Be10Be11</td>\n",
       "      <td>Be07Be08Be09Be10Be11</td>\n",
       "      <td>Be07Be08Be09Be10Be11</td>\n",
       "      <td>Be07Be08Be09Be10Be11</td>\n",
       "      <td>Be07Be08Be09Be10Be11</td>\n",
       "      <td>Be07Be08Be09Be10Be11</td>\n",
       "    </tr>\n",
       "    <tr>\n",
       "      <th>2</th>\n",
       "      <td>1</td>\n",
       "      <td>2</td>\n",
       "      <td>3</td>\n",
       "      <td>4</td>\n",
       "      <td>5</td>\n",
       "      <td>6</td>\n",
       "      <td>7</td>\n",
       "      <td>8</td>\n",
       "      <td>9</td>\n",
       "      <td>10</td>\n",
       "      <td>11</td>\n",
       "      <td>12</td>\n",
       "      <td>13</td>\n",
       "      <td>14</td>\n",
       "      <td>15</td>\n",
       "    </tr>\n",
       "    <tr>\n",
       "      <th>3</th>\n",
       "      <td>0</td>\n",
       "      <td>0</td>\n",
       "      <td>0</td>\n",
       "      <td>0</td>\n",
       "      <td>0</td>\n",
       "      <td>0</td>\n",
       "      <td>0</td>\n",
       "      <td>0</td>\n",
       "      <td>0</td>\n",
       "      <td>0</td>\n",
       "      <td>0</td>\n",
       "      <td>0</td>\n",
       "      <td>0</td>\n",
       "      <td>0</td>\n",
       "      <td>0</td>\n",
       "    </tr>\n",
       "    <tr>\n",
       "      <th>4</th>\n",
       "      <td>-87</td>\n",
       "      <td>-83</td>\n",
       "      <td>-83</td>\n",
       "      <td>-82</td>\n",
       "      <td>-83</td>\n",
       "      <td>-83</td>\n",
       "      <td>-72</td>\n",
       "      <td>-76</td>\n",
       "      <td>-83</td>\n",
       "      <td>-81</td>\n",
       "      <td>-82</td>\n",
       "      <td>-75</td>\n",
       "      <td>-72</td>\n",
       "      <td>-73</td>\n",
       "      <td>-79</td>\n",
       "    </tr>\n",
       "    <tr>\n",
       "      <th>5</th>\n",
       "      <td>-88</td>\n",
       "      <td>-80</td>\n",
       "      <td>-84</td>\n",
       "      <td>-84</td>\n",
       "      <td>-79</td>\n",
       "      <td>-87</td>\n",
       "      <td>-73</td>\n",
       "      <td>-76</td>\n",
       "      <td>-79</td>\n",
       "      <td>-79</td>\n",
       "      <td>-78</td>\n",
       "      <td>-75</td>\n",
       "      <td>-73</td>\n",
       "      <td>-70</td>\n",
       "      <td>-79</td>\n",
       "    </tr>\n",
       "    <tr>\n",
       "      <th>6</th>\n",
       "      <td>-90</td>\n",
       "      <td>-76</td>\n",
       "      <td>-82</td>\n",
       "      <td>-83</td>\n",
       "      <td>-80</td>\n",
       "      <td>-80</td>\n",
       "      <td>-70</td>\n",
       "      <td>-69</td>\n",
       "      <td>-84</td>\n",
       "      <td>-79</td>\n",
       "      <td>-77</td>\n",
       "      <td>-73</td>\n",
       "      <td>-72</td>\n",
       "      <td>-69</td>\n",
       "      <td>-79</td>\n",
       "    </tr>\n",
       "    <tr>\n",
       "      <th>7</th>\n",
       "      <td>-89</td>\n",
       "      <td>-72</td>\n",
       "      <td>-83</td>\n",
       "      <td>-78</td>\n",
       "      <td>-82</td>\n",
       "      <td>-83</td>\n",
       "      <td>-70</td>\n",
       "      <td>-73</td>\n",
       "      <td>-82</td>\n",
       "      <td>-75</td>\n",
       "      <td>-77</td>\n",
       "      <td>-72</td>\n",
       "      <td>-75</td>\n",
       "      <td>-69</td>\n",
       "      <td>-79</td>\n",
       "    </tr>\n",
       "    <tr>\n",
       "      <th>8</th>\n",
       "      <td>-88</td>\n",
       "      <td>-73</td>\n",
       "      <td>-84</td>\n",
       "      <td>-75</td>\n",
       "      <td>-81</td>\n",
       "      <td>-81</td>\n",
       "      <td>-68</td>\n",
       "      <td>-73</td>\n",
       "      <td>-78</td>\n",
       "      <td>-68</td>\n",
       "      <td>-76</td>\n",
       "      <td>-75</td>\n",
       "      <td>-75</td>\n",
       "      <td>-70</td>\n",
       "      <td>-80</td>\n",
       "    </tr>\n",
       "    <tr>\n",
       "      <th>9</th>\n",
       "      <td>-91</td>\n",
       "      <td>-77</td>\n",
       "      <td>-84</td>\n",
       "      <td>-75</td>\n",
       "      <td>-84</td>\n",
       "      <td>-81</td>\n",
       "      <td>-68</td>\n",
       "      <td>-74</td>\n",
       "      <td>-80</td>\n",
       "      <td>-67</td>\n",
       "      <td>-75</td>\n",
       "      <td>-76</td>\n",
       "      <td>-73</td>\n",
       "      <td>-70</td>\n",
       "      <td>-81</td>\n",
       "    </tr>\n",
       "    <tr>\n",
       "      <th>10</th>\n",
       "      <td>-86</td>\n",
       "      <td>-74</td>\n",
       "      <td>-89</td>\n",
       "      <td>-76</td>\n",
       "      <td>-93</td>\n",
       "      <td>-80</td>\n",
       "      <td>-68</td>\n",
       "      <td>-70</td>\n",
       "      <td>-79</td>\n",
       "      <td>-67</td>\n",
       "      <td>-81</td>\n",
       "      <td>-76</td>\n",
       "      <td>-71</td>\n",
       "      <td>-71</td>\n",
       "      <td>-81</td>\n",
       "    </tr>\n",
       "    <tr>\n",
       "      <th>11</th>\n",
       "      <td>-82</td>\n",
       "      <td>-77</td>\n",
       "      <td>-83</td>\n",
       "      <td>-75</td>\n",
       "      <td>-80</td>\n",
       "      <td>-83</td>\n",
       "      <td>-70</td>\n",
       "      <td>-73</td>\n",
       "      <td>-79</td>\n",
       "      <td>-66</td>\n",
       "      <td>-83</td>\n",
       "      <td>-76</td>\n",
       "      <td>-67</td>\n",
       "      <td>-72</td>\n",
       "      <td>-81</td>\n",
       "    </tr>\n",
       "    <tr>\n",
       "      <th>12</th>\n",
       "      <td>-84</td>\n",
       "      <td>-74</td>\n",
       "      <td>-88</td>\n",
       "      <td>-76</td>\n",
       "      <td>-80</td>\n",
       "      <td>-83</td>\n",
       "      <td>-71</td>\n",
       "      <td>-76</td>\n",
       "      <td>-77</td>\n",
       "      <td>-64</td>\n",
       "      <td>-88</td>\n",
       "      <td>-74</td>\n",
       "      <td>-68</td>\n",
       "      <td>-68</td>\n",
       "      <td>-79</td>\n",
       "    </tr>\n",
       "    <tr>\n",
       "      <th>13</th>\n",
       "      <td>-86</td>\n",
       "      <td>-76</td>\n",
       "      <td>-86</td>\n",
       "      <td>-73</td>\n",
       "      <td>-81</td>\n",
       "      <td>-89</td>\n",
       "      <td>-70</td>\n",
       "      <td>-71</td>\n",
       "      <td>-79</td>\n",
       "      <td>-65</td>\n",
       "      <td>-83</td>\n",
       "      <td>-75</td>\n",
       "      <td>-67</td>\n",
       "      <td>-69</td>\n",
       "      <td>-80</td>\n",
       "    </tr>\n",
       "    <tr>\n",
       "      <th>14</th>\n",
       "      <td>-81</td>\n",
       "      <td>-76</td>\n",
       "      <td>-90</td>\n",
       "      <td>-70</td>\n",
       "      <td>-80</td>\n",
       "      <td>-78</td>\n",
       "      <td>-70</td>\n",
       "      <td>-76</td>\n",
       "      <td>-78</td>\n",
       "      <td>-65</td>\n",
       "      <td>-84</td>\n",
       "      <td>-72</td>\n",
       "      <td>-66</td>\n",
       "      <td>-69</td>\n",
       "      <td>-78</td>\n",
       "    </tr>\n",
       "    <tr>\n",
       "      <th>15</th>\n",
       "      <td>-79</td>\n",
       "      <td>-75</td>\n",
       "      <td>-86</td>\n",
       "      <td>-71</td>\n",
       "      <td>-78</td>\n",
       "      <td>-83</td>\n",
       "      <td>-73</td>\n",
       "      <td>-71</td>\n",
       "      <td>-78</td>\n",
       "      <td>-65</td>\n",
       "      <td>-85</td>\n",
       "      <td>-70</td>\n",
       "      <td>-65</td>\n",
       "      <td>-68</td>\n",
       "      <td>-80</td>\n",
       "    </tr>\n",
       "    <tr>\n",
       "      <th>16</th>\n",
       "      <td>-80</td>\n",
       "      <td>-77</td>\n",
       "      <td>-94</td>\n",
       "      <td>-70</td>\n",
       "      <td>-78</td>\n",
       "      <td>-83</td>\n",
       "      <td>-70</td>\n",
       "      <td>-72</td>\n",
       "      <td>-78</td>\n",
       "      <td>-64</td>\n",
       "      <td>-83</td>\n",
       "      <td>-69</td>\n",
       "      <td>-65</td>\n",
       "      <td>-70</td>\n",
       "      <td>-82</td>\n",
       "    </tr>\n",
       "    <tr>\n",
       "      <th>17</th>\n",
       "      <td>-79</td>\n",
       "      <td>-76</td>\n",
       "      <td>-91</td>\n",
       "      <td>-70</td>\n",
       "      <td>-81</td>\n",
       "      <td>-81</td>\n",
       "      <td>-71</td>\n",
       "      <td>-71</td>\n",
       "      <td>-79</td>\n",
       "      <td>-65</td>\n",
       "      <td>-85</td>\n",
       "      <td>-77</td>\n",
       "      <td>-66</td>\n",
       "      <td>-69</td>\n",
       "      <td>-76</td>\n",
       "    </tr>\n",
       "    <tr>\n",
       "      <th>18</th>\n",
       "      <td>-80</td>\n",
       "      <td>-78</td>\n",
       "      <td>-89</td>\n",
       "      <td>-70</td>\n",
       "      <td>-82</td>\n",
       "      <td>-80</td>\n",
       "      <td>-70</td>\n",
       "      <td>-71</td>\n",
       "      <td>-79</td>\n",
       "      <td>-65</td>\n",
       "      <td>-82</td>\n",
       "      <td>-77</td>\n",
       "      <td>-66</td>\n",
       "      <td>-70</td>\n",
       "      <td>-79</td>\n",
       "    </tr>\n",
       "    <tr>\n",
       "      <th>19</th>\n",
       "      <td>-81</td>\n",
       "      <td>-78</td>\n",
       "      <td>-86</td>\n",
       "      <td>-70</td>\n",
       "      <td>-82</td>\n",
       "      <td>-83</td>\n",
       "      <td>-70</td>\n",
       "      <td>-72</td>\n",
       "      <td>-81</td>\n",
       "      <td>-77</td>\n",
       "      <td>-82</td>\n",
       "      <td>-76</td>\n",
       "      <td>-67</td>\n",
       "      <td>-68</td>\n",
       "      <td>-77</td>\n",
       "    </tr>\n",
       "    <tr>\n",
       "      <th>20</th>\n",
       "      <td>-80</td>\n",
       "      <td>-74</td>\n",
       "      <td>-82</td>\n",
       "      <td>-69</td>\n",
       "      <td>-79</td>\n",
       "      <td>-84</td>\n",
       "      <td>-70</td>\n",
       "      <td>-73</td>\n",
       "      <td>-82</td>\n",
       "      <td>-77</td>\n",
       "      <td>-89</td>\n",
       "      <td>-78</td>\n",
       "      <td>-67</td>\n",
       "      <td>-70</td>\n",
       "      <td>-76</td>\n",
       "    </tr>\n",
       "    <tr>\n",
       "      <th>21</th>\n",
       "      <td>-80</td>\n",
       "      <td>-78</td>\n",
       "      <td>-82</td>\n",
       "      <td>-70</td>\n",
       "      <td>-80</td>\n",
       "      <td>-82</td>\n",
       "      <td>-71</td>\n",
       "      <td>-71</td>\n",
       "      <td>-82</td>\n",
       "      <td>-77</td>\n",
       "      <td>-83</td>\n",
       "      <td>-70</td>\n",
       "      <td>-66</td>\n",
       "      <td>-67</td>\n",
       "      <td>-74</td>\n",
       "    </tr>\n",
       "    <tr>\n",
       "      <th>22</th>\n",
       "      <td>-80</td>\n",
       "      <td>-78</td>\n",
       "      <td>-78</td>\n",
       "      <td>-70</td>\n",
       "      <td>-82</td>\n",
       "      <td>-80</td>\n",
       "      <td>-70</td>\n",
       "      <td>-72</td>\n",
       "      <td>-81</td>\n",
       "      <td>-72</td>\n",
       "      <td>-98</td>\n",
       "      <td>-70</td>\n",
       "      <td>-65</td>\n",
       "      <td>-65</td>\n",
       "      <td>-76</td>\n",
       "    </tr>\n",
       "    <tr>\n",
       "      <th>23</th>\n",
       "      <td>-80</td>\n",
       "      <td>-79</td>\n",
       "      <td>-80</td>\n",
       "      <td>-70</td>\n",
       "      <td>-81</td>\n",
       "      <td>-81</td>\n",
       "      <td>-71</td>\n",
       "      <td>-76</td>\n",
       "      <td>-85</td>\n",
       "      <td>-75</td>\n",
       "      <td>-84</td>\n",
       "      <td>-70</td>\n",
       "      <td>-68</td>\n",
       "      <td>-65</td>\n",
       "      <td>-75</td>\n",
       "    </tr>\n",
       "    <tr>\n",
       "      <th>24</th>\n",
       "      <td>-80</td>\n",
       "      <td>-80</td>\n",
       "      <td>-82</td>\n",
       "      <td>-69</td>\n",
       "      <td>-83</td>\n",
       "      <td>-81</td>\n",
       "      <td>-71</td>\n",
       "      <td>-72</td>\n",
       "      <td>-80</td>\n",
       "      <td>-75</td>\n",
       "      <td>-86</td>\n",
       "      <td>-69</td>\n",
       "      <td>-66</td>\n",
       "      <td>-66</td>\n",
       "      <td>-74</td>\n",
       "    </tr>\n",
       "    <tr>\n",
       "      <th>25</th>\n",
       "      <td>-85</td>\n",
       "      <td>-79</td>\n",
       "      <td>-84</td>\n",
       "      <td>-69</td>\n",
       "      <td>-80</td>\n",
       "      <td>-82</td>\n",
       "      <td>-70</td>\n",
       "      <td>-73</td>\n",
       "      <td>-77</td>\n",
       "      <td>-76</td>\n",
       "      <td>-85</td>\n",
       "      <td>-70</td>\n",
       "      <td>-66</td>\n",
       "      <td>-66</td>\n",
       "      <td>-75</td>\n",
       "    </tr>\n",
       "    <tr>\n",
       "      <th>26</th>\n",
       "      <td>-87</td>\n",
       "      <td>-80</td>\n",
       "      <td>-82</td>\n",
       "      <td>-71</td>\n",
       "      <td>-78</td>\n",
       "      <td>-81</td>\n",
       "      <td>-71</td>\n",
       "      <td>-72</td>\n",
       "      <td>-79</td>\n",
       "      <td>-77</td>\n",
       "      <td>-86</td>\n",
       "      <td>-69</td>\n",
       "      <td>-67</td>\n",
       "      <td>-66</td>\n",
       "      <td>-76</td>\n",
       "    </tr>\n",
       "    <tr>\n",
       "      <th>27</th>\n",
       "      <td>-85</td>\n",
       "      <td>-79</td>\n",
       "      <td>-83</td>\n",
       "      <td>-70</td>\n",
       "      <td>-78</td>\n",
       "      <td>-81</td>\n",
       "      <td>-70</td>\n",
       "      <td>-71</td>\n",
       "      <td>-78</td>\n",
       "      <td>-75</td>\n",
       "      <td>-78</td>\n",
       "      <td>-70</td>\n",
       "      <td>-67</td>\n",
       "      <td>-65</td>\n",
       "      <td>-76</td>\n",
       "    </tr>\n",
       "    <tr>\n",
       "      <th>28</th>\n",
       "      <td>-85</td>\n",
       "      <td>-79</td>\n",
       "      <td>-81</td>\n",
       "      <td>-70</td>\n",
       "      <td>-79</td>\n",
       "      <td>-80</td>\n",
       "      <td>-70</td>\n",
       "      <td>-71</td>\n",
       "      <td>-84</td>\n",
       "      <td>-76</td>\n",
       "      <td>-77</td>\n",
       "      <td>-69</td>\n",
       "      <td>-75</td>\n",
       "      <td>-65</td>\n",
       "      <td>-76</td>\n",
       "    </tr>\n",
       "    <tr>\n",
       "      <th>29</th>\n",
       "      <td>-85</td>\n",
       "      <td>-81</td>\n",
       "      <td>-79</td>\n",
       "      <td>-69</td>\n",
       "      <td>-79</td>\n",
       "      <td>-81</td>\n",
       "      <td>-70</td>\n",
       "      <td>-72</td>\n",
       "      <td>-81</td>\n",
       "      <td>-76</td>\n",
       "      <td>-79</td>\n",
       "      <td>-70</td>\n",
       "      <td>-76</td>\n",
       "      <td>-65</td>\n",
       "      <td>-76</td>\n",
       "    </tr>\n",
       "    <tr>\n",
       "      <th>30</th>\n",
       "      <td>-85</td>\n",
       "      <td>-81</td>\n",
       "      <td>-81</td>\n",
       "      <td>-69</td>\n",
       "      <td>-78</td>\n",
       "      <td>-81</td>\n",
       "      <td>-71</td>\n",
       "      <td>-72</td>\n",
       "      <td>-75</td>\n",
       "      <td>-76</td>\n",
       "      <td>-75</td>\n",
       "      <td>-69</td>\n",
       "      <td>-77</td>\n",
       "      <td>-65</td>\n",
       "      <td>-76</td>\n",
       "    </tr>\n",
       "    <tr>\n",
       "      <th>...</th>\n",
       "      <td>...</td>\n",
       "      <td>...</td>\n",
       "      <td>...</td>\n",
       "      <td>...</td>\n",
       "      <td>...</td>\n",
       "      <td>...</td>\n",
       "      <td>...</td>\n",
       "      <td>...</td>\n",
       "      <td>...</td>\n",
       "      <td>...</td>\n",
       "      <td>...</td>\n",
       "      <td>...</td>\n",
       "      <td>...</td>\n",
       "      <td>...</td>\n",
       "      <td>...</td>\n",
       "    </tr>\n",
       "    <tr>\n",
       "      <th>2970</th>\n",
       "      <td>NaN</td>\n",
       "      <td>NaN</td>\n",
       "      <td>NaN</td>\n",
       "      <td>NaN</td>\n",
       "      <td>NaN</td>\n",
       "      <td>NaN</td>\n",
       "      <td>NaN</td>\n",
       "      <td>NaN</td>\n",
       "      <td>NaN</td>\n",
       "      <td>NaN</td>\n",
       "      <td>NaN</td>\n",
       "      <td>NaN</td>\n",
       "      <td>NaN</td>\n",
       "      <td>NaN</td>\n",
       "      <td>NaN</td>\n",
       "    </tr>\n",
       "    <tr>\n",
       "      <th>2971</th>\n",
       "      <td>NaN</td>\n",
       "      <td>NaN</td>\n",
       "      <td>NaN</td>\n",
       "      <td>NaN</td>\n",
       "      <td>NaN</td>\n",
       "      <td>NaN</td>\n",
       "      <td>NaN</td>\n",
       "      <td>NaN</td>\n",
       "      <td>NaN</td>\n",
       "      <td>NaN</td>\n",
       "      <td>NaN</td>\n",
       "      <td>NaN</td>\n",
       "      <td>NaN</td>\n",
       "      <td>NaN</td>\n",
       "      <td>NaN</td>\n",
       "    </tr>\n",
       "    <tr>\n",
       "      <th>2972</th>\n",
       "      <td>NaN</td>\n",
       "      <td>NaN</td>\n",
       "      <td>NaN</td>\n",
       "      <td>NaN</td>\n",
       "      <td>NaN</td>\n",
       "      <td>NaN</td>\n",
       "      <td>NaN</td>\n",
       "      <td>NaN</td>\n",
       "      <td>NaN</td>\n",
       "      <td>NaN</td>\n",
       "      <td>NaN</td>\n",
       "      <td>NaN</td>\n",
       "      <td>NaN</td>\n",
       "      <td>NaN</td>\n",
       "      <td>NaN</td>\n",
       "    </tr>\n",
       "    <tr>\n",
       "      <th>2973</th>\n",
       "      <td>NaN</td>\n",
       "      <td>NaN</td>\n",
       "      <td>NaN</td>\n",
       "      <td>NaN</td>\n",
       "      <td>NaN</td>\n",
       "      <td>NaN</td>\n",
       "      <td>NaN</td>\n",
       "      <td>NaN</td>\n",
       "      <td>NaN</td>\n",
       "      <td>NaN</td>\n",
       "      <td>NaN</td>\n",
       "      <td>NaN</td>\n",
       "      <td>NaN</td>\n",
       "      <td>NaN</td>\n",
       "      <td>NaN</td>\n",
       "    </tr>\n",
       "    <tr>\n",
       "      <th>2974</th>\n",
       "      <td>NaN</td>\n",
       "      <td>NaN</td>\n",
       "      <td>NaN</td>\n",
       "      <td>NaN</td>\n",
       "      <td>NaN</td>\n",
       "      <td>NaN</td>\n",
       "      <td>NaN</td>\n",
       "      <td>NaN</td>\n",
       "      <td>NaN</td>\n",
       "      <td>NaN</td>\n",
       "      <td>NaN</td>\n",
       "      <td>NaN</td>\n",
       "      <td>NaN</td>\n",
       "      <td>NaN</td>\n",
       "      <td>NaN</td>\n",
       "    </tr>\n",
       "    <tr>\n",
       "      <th>2975</th>\n",
       "      <td>NaN</td>\n",
       "      <td>NaN</td>\n",
       "      <td>NaN</td>\n",
       "      <td>NaN</td>\n",
       "      <td>NaN</td>\n",
       "      <td>NaN</td>\n",
       "      <td>NaN</td>\n",
       "      <td>NaN</td>\n",
       "      <td>NaN</td>\n",
       "      <td>NaN</td>\n",
       "      <td>NaN</td>\n",
       "      <td>NaN</td>\n",
       "      <td>NaN</td>\n",
       "      <td>NaN</td>\n",
       "      <td>NaN</td>\n",
       "    </tr>\n",
       "    <tr>\n",
       "      <th>2976</th>\n",
       "      <td>NaN</td>\n",
       "      <td>NaN</td>\n",
       "      <td>NaN</td>\n",
       "      <td>NaN</td>\n",
       "      <td>NaN</td>\n",
       "      <td>NaN</td>\n",
       "      <td>NaN</td>\n",
       "      <td>NaN</td>\n",
       "      <td>NaN</td>\n",
       "      <td>NaN</td>\n",
       "      <td>NaN</td>\n",
       "      <td>NaN</td>\n",
       "      <td>NaN</td>\n",
       "      <td>NaN</td>\n",
       "      <td>NaN</td>\n",
       "    </tr>\n",
       "    <tr>\n",
       "      <th>2977</th>\n",
       "      <td>NaN</td>\n",
       "      <td>NaN</td>\n",
       "      <td>NaN</td>\n",
       "      <td>NaN</td>\n",
       "      <td>NaN</td>\n",
       "      <td>NaN</td>\n",
       "      <td>NaN</td>\n",
       "      <td>NaN</td>\n",
       "      <td>NaN</td>\n",
       "      <td>NaN</td>\n",
       "      <td>NaN</td>\n",
       "      <td>NaN</td>\n",
       "      <td>NaN</td>\n",
       "      <td>NaN</td>\n",
       "      <td>NaN</td>\n",
       "    </tr>\n",
       "    <tr>\n",
       "      <th>2978</th>\n",
       "      <td>NaN</td>\n",
       "      <td>NaN</td>\n",
       "      <td>NaN</td>\n",
       "      <td>NaN</td>\n",
       "      <td>NaN</td>\n",
       "      <td>NaN</td>\n",
       "      <td>NaN</td>\n",
       "      <td>NaN</td>\n",
       "      <td>NaN</td>\n",
       "      <td>NaN</td>\n",
       "      <td>NaN</td>\n",
       "      <td>NaN</td>\n",
       "      <td>NaN</td>\n",
       "      <td>NaN</td>\n",
       "      <td>NaN</td>\n",
       "    </tr>\n",
       "    <tr>\n",
       "      <th>2979</th>\n",
       "      <td>NaN</td>\n",
       "      <td>NaN</td>\n",
       "      <td>NaN</td>\n",
       "      <td>NaN</td>\n",
       "      <td>NaN</td>\n",
       "      <td>NaN</td>\n",
       "      <td>NaN</td>\n",
       "      <td>NaN</td>\n",
       "      <td>NaN</td>\n",
       "      <td>NaN</td>\n",
       "      <td>NaN</td>\n",
       "      <td>NaN</td>\n",
       "      <td>NaN</td>\n",
       "      <td>NaN</td>\n",
       "      <td>NaN</td>\n",
       "    </tr>\n",
       "    <tr>\n",
       "      <th>2980</th>\n",
       "      <td>NaN</td>\n",
       "      <td>NaN</td>\n",
       "      <td>NaN</td>\n",
       "      <td>NaN</td>\n",
       "      <td>NaN</td>\n",
       "      <td>NaN</td>\n",
       "      <td>NaN</td>\n",
       "      <td>NaN</td>\n",
       "      <td>NaN</td>\n",
       "      <td>NaN</td>\n",
       "      <td>NaN</td>\n",
       "      <td>NaN</td>\n",
       "      <td>NaN</td>\n",
       "      <td>NaN</td>\n",
       "      <td>NaN</td>\n",
       "    </tr>\n",
       "    <tr>\n",
       "      <th>2981</th>\n",
       "      <td>NaN</td>\n",
       "      <td>NaN</td>\n",
       "      <td>NaN</td>\n",
       "      <td>NaN</td>\n",
       "      <td>NaN</td>\n",
       "      <td>NaN</td>\n",
       "      <td>NaN</td>\n",
       "      <td>NaN</td>\n",
       "      <td>NaN</td>\n",
       "      <td>NaN</td>\n",
       "      <td>NaN</td>\n",
       "      <td>NaN</td>\n",
       "      <td>NaN</td>\n",
       "      <td>NaN</td>\n",
       "      <td>NaN</td>\n",
       "    </tr>\n",
       "    <tr>\n",
       "      <th>2982</th>\n",
       "      <td>NaN</td>\n",
       "      <td>NaN</td>\n",
       "      <td>NaN</td>\n",
       "      <td>NaN</td>\n",
       "      <td>NaN</td>\n",
       "      <td>NaN</td>\n",
       "      <td>NaN</td>\n",
       "      <td>NaN</td>\n",
       "      <td>NaN</td>\n",
       "      <td>NaN</td>\n",
       "      <td>NaN</td>\n",
       "      <td>NaN</td>\n",
       "      <td>NaN</td>\n",
       "      <td>NaN</td>\n",
       "      <td>NaN</td>\n",
       "    </tr>\n",
       "    <tr>\n",
       "      <th>2983</th>\n",
       "      <td>NaN</td>\n",
       "      <td>NaN</td>\n",
       "      <td>NaN</td>\n",
       "      <td>NaN</td>\n",
       "      <td>NaN</td>\n",
       "      <td>NaN</td>\n",
       "      <td>NaN</td>\n",
       "      <td>NaN</td>\n",
       "      <td>NaN</td>\n",
       "      <td>NaN</td>\n",
       "      <td>NaN</td>\n",
       "      <td>NaN</td>\n",
       "      <td>NaN</td>\n",
       "      <td>NaN</td>\n",
       "      <td>NaN</td>\n",
       "    </tr>\n",
       "    <tr>\n",
       "      <th>2984</th>\n",
       "      <td>NaN</td>\n",
       "      <td>NaN</td>\n",
       "      <td>NaN</td>\n",
       "      <td>NaN</td>\n",
       "      <td>NaN</td>\n",
       "      <td>NaN</td>\n",
       "      <td>NaN</td>\n",
       "      <td>NaN</td>\n",
       "      <td>NaN</td>\n",
       "      <td>NaN</td>\n",
       "      <td>NaN</td>\n",
       "      <td>NaN</td>\n",
       "      <td>NaN</td>\n",
       "      <td>NaN</td>\n",
       "      <td>NaN</td>\n",
       "    </tr>\n",
       "    <tr>\n",
       "      <th>2985</th>\n",
       "      <td>NaN</td>\n",
       "      <td>NaN</td>\n",
       "      <td>NaN</td>\n",
       "      <td>NaN</td>\n",
       "      <td>NaN</td>\n",
       "      <td>NaN</td>\n",
       "      <td>NaN</td>\n",
       "      <td>NaN</td>\n",
       "      <td>NaN</td>\n",
       "      <td>NaN</td>\n",
       "      <td>NaN</td>\n",
       "      <td>NaN</td>\n",
       "      <td>NaN</td>\n",
       "      <td>NaN</td>\n",
       "      <td>NaN</td>\n",
       "    </tr>\n",
       "    <tr>\n",
       "      <th>2986</th>\n",
       "      <td>NaN</td>\n",
       "      <td>NaN</td>\n",
       "      <td>NaN</td>\n",
       "      <td>NaN</td>\n",
       "      <td>NaN</td>\n",
       "      <td>NaN</td>\n",
       "      <td>NaN</td>\n",
       "      <td>NaN</td>\n",
       "      <td>NaN</td>\n",
       "      <td>NaN</td>\n",
       "      <td>NaN</td>\n",
       "      <td>NaN</td>\n",
       "      <td>NaN</td>\n",
       "      <td>NaN</td>\n",
       "      <td>NaN</td>\n",
       "    </tr>\n",
       "    <tr>\n",
       "      <th>2987</th>\n",
       "      <td>NaN</td>\n",
       "      <td>NaN</td>\n",
       "      <td>NaN</td>\n",
       "      <td>NaN</td>\n",
       "      <td>NaN</td>\n",
       "      <td>NaN</td>\n",
       "      <td>NaN</td>\n",
       "      <td>NaN</td>\n",
       "      <td>NaN</td>\n",
       "      <td>NaN</td>\n",
       "      <td>NaN</td>\n",
       "      <td>NaN</td>\n",
       "      <td>NaN</td>\n",
       "      <td>NaN</td>\n",
       "      <td>NaN</td>\n",
       "    </tr>\n",
       "    <tr>\n",
       "      <th>2988</th>\n",
       "      <td>NaN</td>\n",
       "      <td>NaN</td>\n",
       "      <td>NaN</td>\n",
       "      <td>NaN</td>\n",
       "      <td>NaN</td>\n",
       "      <td>NaN</td>\n",
       "      <td>NaN</td>\n",
       "      <td>NaN</td>\n",
       "      <td>NaN</td>\n",
       "      <td>NaN</td>\n",
       "      <td>NaN</td>\n",
       "      <td>NaN</td>\n",
       "      <td>NaN</td>\n",
       "      <td>NaN</td>\n",
       "      <td>NaN</td>\n",
       "    </tr>\n",
       "    <tr>\n",
       "      <th>2989</th>\n",
       "      <td>NaN</td>\n",
       "      <td>NaN</td>\n",
       "      <td>NaN</td>\n",
       "      <td>NaN</td>\n",
       "      <td>NaN</td>\n",
       "      <td>NaN</td>\n",
       "      <td>NaN</td>\n",
       "      <td>NaN</td>\n",
       "      <td>NaN</td>\n",
       "      <td>NaN</td>\n",
       "      <td>NaN</td>\n",
       "      <td>NaN</td>\n",
       "      <td>NaN</td>\n",
       "      <td>NaN</td>\n",
       "      <td>NaN</td>\n",
       "    </tr>\n",
       "    <tr>\n",
       "      <th>2990</th>\n",
       "      <td>NaN</td>\n",
       "      <td>NaN</td>\n",
       "      <td>NaN</td>\n",
       "      <td>NaN</td>\n",
       "      <td>NaN</td>\n",
       "      <td>NaN</td>\n",
       "      <td>NaN</td>\n",
       "      <td>NaN</td>\n",
       "      <td>NaN</td>\n",
       "      <td>NaN</td>\n",
       "      <td>NaN</td>\n",
       "      <td>NaN</td>\n",
       "      <td>NaN</td>\n",
       "      <td>NaN</td>\n",
       "      <td>NaN</td>\n",
       "    </tr>\n",
       "    <tr>\n",
       "      <th>2991</th>\n",
       "      <td>NaN</td>\n",
       "      <td>NaN</td>\n",
       "      <td>NaN</td>\n",
       "      <td>NaN</td>\n",
       "      <td>NaN</td>\n",
       "      <td>NaN</td>\n",
       "      <td>NaN</td>\n",
       "      <td>NaN</td>\n",
       "      <td>NaN</td>\n",
       "      <td>NaN</td>\n",
       "      <td>NaN</td>\n",
       "      <td>NaN</td>\n",
       "      <td>NaN</td>\n",
       "      <td>NaN</td>\n",
       "      <td>NaN</td>\n",
       "    </tr>\n",
       "    <tr>\n",
       "      <th>2992</th>\n",
       "      <td>NaN</td>\n",
       "      <td>NaN</td>\n",
       "      <td>NaN</td>\n",
       "      <td>NaN</td>\n",
       "      <td>NaN</td>\n",
       "      <td>NaN</td>\n",
       "      <td>NaN</td>\n",
       "      <td>NaN</td>\n",
       "      <td>NaN</td>\n",
       "      <td>NaN</td>\n",
       "      <td>NaN</td>\n",
       "      <td>NaN</td>\n",
       "      <td>NaN</td>\n",
       "      <td>NaN</td>\n",
       "      <td>NaN</td>\n",
       "    </tr>\n",
       "    <tr>\n",
       "      <th>2993</th>\n",
       "      <td>NaN</td>\n",
       "      <td>NaN</td>\n",
       "      <td>NaN</td>\n",
       "      <td>NaN</td>\n",
       "      <td>NaN</td>\n",
       "      <td>NaN</td>\n",
       "      <td>NaN</td>\n",
       "      <td>NaN</td>\n",
       "      <td>NaN</td>\n",
       "      <td>NaN</td>\n",
       "      <td>NaN</td>\n",
       "      <td>NaN</td>\n",
       "      <td>NaN</td>\n",
       "      <td>NaN</td>\n",
       "      <td>NaN</td>\n",
       "    </tr>\n",
       "    <tr>\n",
       "      <th>2994</th>\n",
       "      <td>NaN</td>\n",
       "      <td>NaN</td>\n",
       "      <td>NaN</td>\n",
       "      <td>NaN</td>\n",
       "      <td>NaN</td>\n",
       "      <td>NaN</td>\n",
       "      <td>NaN</td>\n",
       "      <td>NaN</td>\n",
       "      <td>NaN</td>\n",
       "      <td>NaN</td>\n",
       "      <td>NaN</td>\n",
       "      <td>NaN</td>\n",
       "      <td>NaN</td>\n",
       "      <td>NaN</td>\n",
       "      <td>NaN</td>\n",
       "    </tr>\n",
       "    <tr>\n",
       "      <th>2995</th>\n",
       "      <td>NaN</td>\n",
       "      <td>NaN</td>\n",
       "      <td>NaN</td>\n",
       "      <td>NaN</td>\n",
       "      <td>NaN</td>\n",
       "      <td>NaN</td>\n",
       "      <td>NaN</td>\n",
       "      <td>NaN</td>\n",
       "      <td>NaN</td>\n",
       "      <td>NaN</td>\n",
       "      <td>NaN</td>\n",
       "      <td>NaN</td>\n",
       "      <td>NaN</td>\n",
       "      <td>NaN</td>\n",
       "      <td>NaN</td>\n",
       "    </tr>\n",
       "    <tr>\n",
       "      <th>2996</th>\n",
       "      <td>NaN</td>\n",
       "      <td>NaN</td>\n",
       "      <td>NaN</td>\n",
       "      <td>NaN</td>\n",
       "      <td>NaN</td>\n",
       "      <td>NaN</td>\n",
       "      <td>NaN</td>\n",
       "      <td>NaN</td>\n",
       "      <td>NaN</td>\n",
       "      <td>NaN</td>\n",
       "      <td>NaN</td>\n",
       "      <td>NaN</td>\n",
       "      <td>NaN</td>\n",
       "      <td>NaN</td>\n",
       "      <td>NaN</td>\n",
       "    </tr>\n",
       "    <tr>\n",
       "      <th>2997</th>\n",
       "      <td>NaN</td>\n",
       "      <td>NaN</td>\n",
       "      <td>NaN</td>\n",
       "      <td>NaN</td>\n",
       "      <td>NaN</td>\n",
       "      <td>NaN</td>\n",
       "      <td>NaN</td>\n",
       "      <td>NaN</td>\n",
       "      <td>NaN</td>\n",
       "      <td>NaN</td>\n",
       "      <td>NaN</td>\n",
       "      <td>NaN</td>\n",
       "      <td>NaN</td>\n",
       "      <td>NaN</td>\n",
       "      <td>NaN</td>\n",
       "    </tr>\n",
       "    <tr>\n",
       "      <th>2998</th>\n",
       "      <td>NaN</td>\n",
       "      <td>NaN</td>\n",
       "      <td>NaN</td>\n",
       "      <td>NaN</td>\n",
       "      <td>NaN</td>\n",
       "      <td>NaN</td>\n",
       "      <td>NaN</td>\n",
       "      <td>NaN</td>\n",
       "      <td>NaN</td>\n",
       "      <td>NaN</td>\n",
       "      <td>NaN</td>\n",
       "      <td>NaN</td>\n",
       "      <td>NaN</td>\n",
       "      <td>NaN</td>\n",
       "      <td>NaN</td>\n",
       "    </tr>\n",
       "    <tr>\n",
       "      <th>2999</th>\n",
       "      <td>NaN</td>\n",
       "      <td>NaN</td>\n",
       "      <td>NaN</td>\n",
       "      <td>NaN</td>\n",
       "      <td>NaN</td>\n",
       "      <td>NaN</td>\n",
       "      <td>NaN</td>\n",
       "      <td>NaN</td>\n",
       "      <td>NaN</td>\n",
       "      <td>NaN</td>\n",
       "      <td>NaN</td>\n",
       "      <td>NaN</td>\n",
       "      <td>NaN</td>\n",
       "      <td>NaN</td>\n",
       "      <td>NaN</td>\n",
       "    </tr>\n",
       "  </tbody>\n",
       "</table>\n",
       "<p>2999 rows × 15 columns</p>\n",
       "</div>"
      ],
      "text/plain": [
       "                        0                     1                     2   \\\n",
       "1     Be07Be08Be09Be10Be11  Be07Be08Be09Be10Be11  Be07Be08Be09Be10Be11   \n",
       "2                        1                     2                     3   \n",
       "3                        0                     0                     0   \n",
       "4                      -87                   -83                   -83   \n",
       "5                      -88                   -80                   -84   \n",
       "6                      -90                   -76                   -82   \n",
       "7                      -89                   -72                   -83   \n",
       "8                      -88                   -73                   -84   \n",
       "9                      -91                   -77                   -84   \n",
       "10                     -86                   -74                   -89   \n",
       "11                     -82                   -77                   -83   \n",
       "12                     -84                   -74                   -88   \n",
       "13                     -86                   -76                   -86   \n",
       "14                     -81                   -76                   -90   \n",
       "15                     -79                   -75                   -86   \n",
       "16                     -80                   -77                   -94   \n",
       "17                     -79                   -76                   -91   \n",
       "18                     -80                   -78                   -89   \n",
       "19                     -81                   -78                   -86   \n",
       "20                     -80                   -74                   -82   \n",
       "21                     -80                   -78                   -82   \n",
       "22                     -80                   -78                   -78   \n",
       "23                     -80                   -79                   -80   \n",
       "24                     -80                   -80                   -82   \n",
       "25                     -85                   -79                   -84   \n",
       "26                     -87                   -80                   -82   \n",
       "27                     -85                   -79                   -83   \n",
       "28                     -85                   -79                   -81   \n",
       "29                     -85                   -81                   -79   \n",
       "30                     -85                   -81                   -81   \n",
       "...                    ...                   ...                   ...   \n",
       "2970                   NaN                   NaN                   NaN   \n",
       "2971                   NaN                   NaN                   NaN   \n",
       "2972                   NaN                   NaN                   NaN   \n",
       "2973                   NaN                   NaN                   NaN   \n",
       "2974                   NaN                   NaN                   NaN   \n",
       "2975                   NaN                   NaN                   NaN   \n",
       "2976                   NaN                   NaN                   NaN   \n",
       "2977                   NaN                   NaN                   NaN   \n",
       "2978                   NaN                   NaN                   NaN   \n",
       "2979                   NaN                   NaN                   NaN   \n",
       "2980                   NaN                   NaN                   NaN   \n",
       "2981                   NaN                   NaN                   NaN   \n",
       "2982                   NaN                   NaN                   NaN   \n",
       "2983                   NaN                   NaN                   NaN   \n",
       "2984                   NaN                   NaN                   NaN   \n",
       "2985                   NaN                   NaN                   NaN   \n",
       "2986                   NaN                   NaN                   NaN   \n",
       "2987                   NaN                   NaN                   NaN   \n",
       "2988                   NaN                   NaN                   NaN   \n",
       "2989                   NaN                   NaN                   NaN   \n",
       "2990                   NaN                   NaN                   NaN   \n",
       "2991                   NaN                   NaN                   NaN   \n",
       "2992                   NaN                   NaN                   NaN   \n",
       "2993                   NaN                   NaN                   NaN   \n",
       "2994                   NaN                   NaN                   NaN   \n",
       "2995                   NaN                   NaN                   NaN   \n",
       "2996                   NaN                   NaN                   NaN   \n",
       "2997                   NaN                   NaN                   NaN   \n",
       "2998                   NaN                   NaN                   NaN   \n",
       "2999                   NaN                   NaN                   NaN   \n",
       "\n",
       "                        3                     4                     5   \\\n",
       "1     Be07Be08Be09Be10Be11  Be07Be08Be09Be10Be11  Be07Be08Be09Be10Be11   \n",
       "2                        4                     5                     6   \n",
       "3                        0                     0                     0   \n",
       "4                      -82                   -83                   -83   \n",
       "5                      -84                   -79                   -87   \n",
       "6                      -83                   -80                   -80   \n",
       "7                      -78                   -82                   -83   \n",
       "8                      -75                   -81                   -81   \n",
       "9                      -75                   -84                   -81   \n",
       "10                     -76                   -93                   -80   \n",
       "11                     -75                   -80                   -83   \n",
       "12                     -76                   -80                   -83   \n",
       "13                     -73                   -81                   -89   \n",
       "14                     -70                   -80                   -78   \n",
       "15                     -71                   -78                   -83   \n",
       "16                     -70                   -78                   -83   \n",
       "17                     -70                   -81                   -81   \n",
       "18                     -70                   -82                   -80   \n",
       "19                     -70                   -82                   -83   \n",
       "20                     -69                   -79                   -84   \n",
       "21                     -70                   -80                   -82   \n",
       "22                     -70                   -82                   -80   \n",
       "23                     -70                   -81                   -81   \n",
       "24                     -69                   -83                   -81   \n",
       "25                     -69                   -80                   -82   \n",
       "26                     -71                   -78                   -81   \n",
       "27                     -70                   -78                   -81   \n",
       "28                     -70                   -79                   -80   \n",
       "29                     -69                   -79                   -81   \n",
       "30                     -69                   -78                   -81   \n",
       "...                    ...                   ...                   ...   \n",
       "2970                   NaN                   NaN                   NaN   \n",
       "2971                   NaN                   NaN                   NaN   \n",
       "2972                   NaN                   NaN                   NaN   \n",
       "2973                   NaN                   NaN                   NaN   \n",
       "2974                   NaN                   NaN                   NaN   \n",
       "2975                   NaN                   NaN                   NaN   \n",
       "2976                   NaN                   NaN                   NaN   \n",
       "2977                   NaN                   NaN                   NaN   \n",
       "2978                   NaN                   NaN                   NaN   \n",
       "2979                   NaN                   NaN                   NaN   \n",
       "2980                   NaN                   NaN                   NaN   \n",
       "2981                   NaN                   NaN                   NaN   \n",
       "2982                   NaN                   NaN                   NaN   \n",
       "2983                   NaN                   NaN                   NaN   \n",
       "2984                   NaN                   NaN                   NaN   \n",
       "2985                   NaN                   NaN                   NaN   \n",
       "2986                   NaN                   NaN                   NaN   \n",
       "2987                   NaN                   NaN                   NaN   \n",
       "2988                   NaN                   NaN                   NaN   \n",
       "2989                   NaN                   NaN                   NaN   \n",
       "2990                   NaN                   NaN                   NaN   \n",
       "2991                   NaN                   NaN                   NaN   \n",
       "2992                   NaN                   NaN                   NaN   \n",
       "2993                   NaN                   NaN                   NaN   \n",
       "2994                   NaN                   NaN                   NaN   \n",
       "2995                   NaN                   NaN                   NaN   \n",
       "2996                   NaN                   NaN                   NaN   \n",
       "2997                   NaN                   NaN                   NaN   \n",
       "2998                   NaN                   NaN                   NaN   \n",
       "2999                   NaN                   NaN                   NaN   \n",
       "\n",
       "                        6                     7                     8   \\\n",
       "1     Be07Be08Be09Be10Be11  Be07Be08Be09Be10Be11  Be07Be08Be09Be10Be11   \n",
       "2                        7                     8                     9   \n",
       "3                        0                     0                     0   \n",
       "4                      -72                   -76                   -83   \n",
       "5                      -73                   -76                   -79   \n",
       "6                      -70                   -69                   -84   \n",
       "7                      -70                   -73                   -82   \n",
       "8                      -68                   -73                   -78   \n",
       "9                      -68                   -74                   -80   \n",
       "10                     -68                   -70                   -79   \n",
       "11                     -70                   -73                   -79   \n",
       "12                     -71                   -76                   -77   \n",
       "13                     -70                   -71                   -79   \n",
       "14                     -70                   -76                   -78   \n",
       "15                     -73                   -71                   -78   \n",
       "16                     -70                   -72                   -78   \n",
       "17                     -71                   -71                   -79   \n",
       "18                     -70                   -71                   -79   \n",
       "19                     -70                   -72                   -81   \n",
       "20                     -70                   -73                   -82   \n",
       "21                     -71                   -71                   -82   \n",
       "22                     -70                   -72                   -81   \n",
       "23                     -71                   -76                   -85   \n",
       "24                     -71                   -72                   -80   \n",
       "25                     -70                   -73                   -77   \n",
       "26                     -71                   -72                   -79   \n",
       "27                     -70                   -71                   -78   \n",
       "28                     -70                   -71                   -84   \n",
       "29                     -70                   -72                   -81   \n",
       "30                     -71                   -72                   -75   \n",
       "...                    ...                   ...                   ...   \n",
       "2970                   NaN                   NaN                   NaN   \n",
       "2971                   NaN                   NaN                   NaN   \n",
       "2972                   NaN                   NaN                   NaN   \n",
       "2973                   NaN                   NaN                   NaN   \n",
       "2974                   NaN                   NaN                   NaN   \n",
       "2975                   NaN                   NaN                   NaN   \n",
       "2976                   NaN                   NaN                   NaN   \n",
       "2977                   NaN                   NaN                   NaN   \n",
       "2978                   NaN                   NaN                   NaN   \n",
       "2979                   NaN                   NaN                   NaN   \n",
       "2980                   NaN                   NaN                   NaN   \n",
       "2981                   NaN                   NaN                   NaN   \n",
       "2982                   NaN                   NaN                   NaN   \n",
       "2983                   NaN                   NaN                   NaN   \n",
       "2984                   NaN                   NaN                   NaN   \n",
       "2985                   NaN                   NaN                   NaN   \n",
       "2986                   NaN                   NaN                   NaN   \n",
       "2987                   NaN                   NaN                   NaN   \n",
       "2988                   NaN                   NaN                   NaN   \n",
       "2989                   NaN                   NaN                   NaN   \n",
       "2990                   NaN                   NaN                   NaN   \n",
       "2991                   NaN                   NaN                   NaN   \n",
       "2992                   NaN                   NaN                   NaN   \n",
       "2993                   NaN                   NaN                   NaN   \n",
       "2994                   NaN                   NaN                   NaN   \n",
       "2995                   NaN                   NaN                   NaN   \n",
       "2996                   NaN                   NaN                   NaN   \n",
       "2997                   NaN                   NaN                   NaN   \n",
       "2998                   NaN                   NaN                   NaN   \n",
       "2999                   NaN                   NaN                   NaN   \n",
       "\n",
       "                        9                     10                    11  \\\n",
       "1     Be07Be08Be09Be10Be11  Be07Be08Be09Be10Be11  Be07Be08Be09Be10Be11   \n",
       "2                       10                    11                    12   \n",
       "3                        0                     0                     0   \n",
       "4                      -81                   -82                   -75   \n",
       "5                      -79                   -78                   -75   \n",
       "6                      -79                   -77                   -73   \n",
       "7                      -75                   -77                   -72   \n",
       "8                      -68                   -76                   -75   \n",
       "9                      -67                   -75                   -76   \n",
       "10                     -67                   -81                   -76   \n",
       "11                     -66                   -83                   -76   \n",
       "12                     -64                   -88                   -74   \n",
       "13                     -65                   -83                   -75   \n",
       "14                     -65                   -84                   -72   \n",
       "15                     -65                   -85                   -70   \n",
       "16                     -64                   -83                   -69   \n",
       "17                     -65                   -85                   -77   \n",
       "18                     -65                   -82                   -77   \n",
       "19                     -77                   -82                   -76   \n",
       "20                     -77                   -89                   -78   \n",
       "21                     -77                   -83                   -70   \n",
       "22                     -72                   -98                   -70   \n",
       "23                     -75                   -84                   -70   \n",
       "24                     -75                   -86                   -69   \n",
       "25                     -76                   -85                   -70   \n",
       "26                     -77                   -86                   -69   \n",
       "27                     -75                   -78                   -70   \n",
       "28                     -76                   -77                   -69   \n",
       "29                     -76                   -79                   -70   \n",
       "30                     -76                   -75                   -69   \n",
       "...                    ...                   ...                   ...   \n",
       "2970                   NaN                   NaN                   NaN   \n",
       "2971                   NaN                   NaN                   NaN   \n",
       "2972                   NaN                   NaN                   NaN   \n",
       "2973                   NaN                   NaN                   NaN   \n",
       "2974                   NaN                   NaN                   NaN   \n",
       "2975                   NaN                   NaN                   NaN   \n",
       "2976                   NaN                   NaN                   NaN   \n",
       "2977                   NaN                   NaN                   NaN   \n",
       "2978                   NaN                   NaN                   NaN   \n",
       "2979                   NaN                   NaN                   NaN   \n",
       "2980                   NaN                   NaN                   NaN   \n",
       "2981                   NaN                   NaN                   NaN   \n",
       "2982                   NaN                   NaN                   NaN   \n",
       "2983                   NaN                   NaN                   NaN   \n",
       "2984                   NaN                   NaN                   NaN   \n",
       "2985                   NaN                   NaN                   NaN   \n",
       "2986                   NaN                   NaN                   NaN   \n",
       "2987                   NaN                   NaN                   NaN   \n",
       "2988                   NaN                   NaN                   NaN   \n",
       "2989                   NaN                   NaN                   NaN   \n",
       "2990                   NaN                   NaN                   NaN   \n",
       "2991                   NaN                   NaN                   NaN   \n",
       "2992                   NaN                   NaN                   NaN   \n",
       "2993                   NaN                   NaN                   NaN   \n",
       "2994                   NaN                   NaN                   NaN   \n",
       "2995                   NaN                   NaN                   NaN   \n",
       "2996                   NaN                   NaN                   NaN   \n",
       "2997                   NaN                   NaN                   NaN   \n",
       "2998                   NaN                   NaN                   NaN   \n",
       "2999                   NaN                   NaN                   NaN   \n",
       "\n",
       "                        12                    13                    14  \n",
       "1     Be07Be08Be09Be10Be11  Be07Be08Be09Be10Be11  Be07Be08Be09Be10Be11  \n",
       "2                       13                    14                    15  \n",
       "3                        0                     0                     0  \n",
       "4                      -72                   -73                   -79  \n",
       "5                      -73                   -70                   -79  \n",
       "6                      -72                   -69                   -79  \n",
       "7                      -75                   -69                   -79  \n",
       "8                      -75                   -70                   -80  \n",
       "9                      -73                   -70                   -81  \n",
       "10                     -71                   -71                   -81  \n",
       "11                     -67                   -72                   -81  \n",
       "12                     -68                   -68                   -79  \n",
       "13                     -67                   -69                   -80  \n",
       "14                     -66                   -69                   -78  \n",
       "15                     -65                   -68                   -80  \n",
       "16                     -65                   -70                   -82  \n",
       "17                     -66                   -69                   -76  \n",
       "18                     -66                   -70                   -79  \n",
       "19                     -67                   -68                   -77  \n",
       "20                     -67                   -70                   -76  \n",
       "21                     -66                   -67                   -74  \n",
       "22                     -65                   -65                   -76  \n",
       "23                     -68                   -65                   -75  \n",
       "24                     -66                   -66                   -74  \n",
       "25                     -66                   -66                   -75  \n",
       "26                     -67                   -66                   -76  \n",
       "27                     -67                   -65                   -76  \n",
       "28                     -75                   -65                   -76  \n",
       "29                     -76                   -65                   -76  \n",
       "30                     -77                   -65                   -76  \n",
       "...                    ...                   ...                   ...  \n",
       "2970                   NaN                   NaN                   NaN  \n",
       "2971                   NaN                   NaN                   NaN  \n",
       "2972                   NaN                   NaN                   NaN  \n",
       "2973                   NaN                   NaN                   NaN  \n",
       "2974                   NaN                   NaN                   NaN  \n",
       "2975                   NaN                   NaN                   NaN  \n",
       "2976                   NaN                   NaN                   NaN  \n",
       "2977                   NaN                   NaN                   NaN  \n",
       "2978                   NaN                   NaN                   NaN  \n",
       "2979                   NaN                   NaN                   NaN  \n",
       "2980                   NaN                   NaN                   NaN  \n",
       "2981                   NaN                   NaN                   NaN  \n",
       "2982                   NaN                   NaN                   NaN  \n",
       "2983                   NaN                   NaN                   NaN  \n",
       "2984                   NaN                   NaN                   NaN  \n",
       "2985                   NaN                   NaN                   NaN  \n",
       "2986                   NaN                   NaN                   NaN  \n",
       "2987                   NaN                   NaN                   NaN  \n",
       "2988                   NaN                   NaN                   NaN  \n",
       "2989                   NaN                   NaN                   NaN  \n",
       "2990                   NaN                   NaN                   NaN  \n",
       "2991                   NaN                   NaN                   NaN  \n",
       "2992                   NaN                   NaN                   NaN  \n",
       "2993                   NaN                   NaN                   NaN  \n",
       "2994                   NaN                   NaN                   NaN  \n",
       "2995                   NaN                   NaN                   NaN  \n",
       "2996                   NaN                   NaN                   NaN  \n",
       "2997                   NaN                   NaN                   NaN  \n",
       "2998                   NaN                   NaN                   NaN  \n",
       "2999                   NaN                   NaN                   NaN  \n",
       "\n",
       "[2999 rows x 15 columns]"
      ]
     },
     "execution_count": 5,
     "metadata": {},
     "output_type": "execute_result"
    }
   ],
   "source": [
    "data"
   ]
  },
  {
   "cell_type": "code",
   "execution_count": 6,
   "metadata": {
    "collapsed": true
   },
   "outputs": [],
   "source": [
    "data2 = data[0][3:] # toma la posicion 1, desde la 3ra fila , las 2 primeras es basura"
   ]
  },
  {
   "cell_type": "code",
   "execution_count": 7,
   "metadata": {
    "collapsed": true
   },
   "outputs": [],
   "source": [
    "#data2.iloc[::5]\n",
    "data3 = data2.as_matrix() # lo convierte a matriz"
   ]
  },
  {
   "cell_type": "code",
   "execution_count": 8,
   "metadata": {
    "collapsed": true
   },
   "outputs": [],
   "source": [
    "data3= [v for v in data3 if not math.isnan(v)] # elimina valores NaN"
   ]
  },
  {
   "cell_type": "code",
   "execution_count": 9,
   "metadata": {},
   "outputs": [
    {
     "data": {
      "text/plain": [
       "[-87,\n",
       " -88,\n",
       " -90,\n",
       " -89,\n",
       " -88,\n",
       " -91,\n",
       " -86,\n",
       " -82,\n",
       " -84,\n",
       " -86,\n",
       " -81,\n",
       " -79,\n",
       " -80,\n",
       " -79,\n",
       " -80,\n",
       " -81,\n",
       " -80,\n",
       " -80,\n",
       " -80,\n",
       " -80,\n",
       " -80,\n",
       " -85,\n",
       " -87,\n",
       " -85,\n",
       " -85,\n",
       " -85,\n",
       " -85,\n",
       " -86,\n",
       " -85,\n",
       " -85,\n",
       " -86,\n",
       " -86,\n",
       " -84,\n",
       " -85,\n",
       " -86,\n",
       " -85,\n",
       " -86,\n",
       " -84,\n",
       " -85,\n",
       " -85,\n",
       " -85,\n",
       " -84,\n",
       " -85,\n",
       " -86,\n",
       " -86,\n",
       " -83,\n",
       " -81,\n",
       " -80,\n",
       " -80,\n",
       " -80,\n",
       " -80,\n",
       " -80,\n",
       " -80,\n",
       " -80,\n",
       " -81,\n",
       " -81,\n",
       " -81,\n",
       " -80,\n",
       " -81,\n",
       " -81,\n",
       " -81,\n",
       " -80,\n",
       " -81,\n",
       " -80,\n",
       " -81,\n",
       " -80,\n",
       " -80,\n",
       " -81,\n",
       " -82,\n",
       " -80,\n",
       " -80,\n",
       " -81,\n",
       " -80,\n",
       " -80,\n",
       " -80,\n",
       " -80,\n",
       " -79,\n",
       " -79,\n",
       " -78,\n",
       " -78,\n",
       " -80,\n",
       " -78,\n",
       " -78,\n",
       " -80,\n",
       " -78,\n",
       " -78,\n",
       " -78,\n",
       " -85,\n",
       " -85,\n",
       " -84,\n",
       " -83,\n",
       " -85,\n",
       " -85,\n",
       " -84,\n",
       " -85,\n",
       " -84,\n",
       " -86,\n",
       " -84,\n",
       " -84,\n",
       " -84,\n",
       " -85,\n",
       " -85,\n",
       " -86,\n",
       " -85,\n",
       " -86,\n",
       " -85,\n",
       " -86,\n",
       " -83,\n",
       " -83,\n",
       " -84,\n",
       " -86,\n",
       " -84,\n",
       " -85,\n",
       " -86,\n",
       " -80,\n",
       " -80,\n",
       " -82,\n",
       " -80,\n",
       " -80,\n",
       " -80,\n",
       " -80,\n",
       " -80,\n",
       " -80,\n",
       " -80,\n",
       " -80,\n",
       " -80,\n",
       " -80,\n",
       " -81,\n",
       " -80,\n",
       " -81,\n",
       " -80,\n",
       " -80,\n",
       " -81,\n",
       " -80,\n",
       " -80,\n",
       " -81,\n",
       " -80,\n",
       " -80,\n",
       " -80,\n",
       " -80,\n",
       " -81,\n",
       " -80,\n",
       " -80,\n",
       " -80,\n",
       " -81,\n",
       " -80,\n",
       " -80,\n",
       " -80,\n",
       " -80,\n",
       " -80,\n",
       " -80,\n",
       " -80,\n",
       " -81,\n",
       " -80,\n",
       " -80,\n",
       " -81,\n",
       " -80,\n",
       " -79,\n",
       " -79,\n",
       " -78,\n",
       " -78,\n",
       " -79,\n",
       " -79,\n",
       " -78,\n",
       " -79,\n",
       " -79,\n",
       " -78,\n",
       " -79,\n",
       " -80,\n",
       " -79,\n",
       " -79,\n",
       " -80,\n",
       " -80,\n",
       " -79,\n",
       " -79,\n",
       " -78,\n",
       " -84,\n",
       " -86,\n",
       " -85,\n",
       " -84,\n",
       " -85,\n",
       " -86,\n",
       " -86,\n",
       " -86,\n",
       " -85,\n",
       " -84,\n",
       " -85,\n",
       " -84,\n",
       " -85,\n",
       " -85,\n",
       " -85,\n",
       " -84,\n",
       " -84,\n",
       " -85,\n",
       " -86,\n",
       " -85,\n",
       " -84,\n",
       " -84,\n",
       " -85,\n",
       " -87,\n",
       " -85,\n",
       " -85,\n",
       " -85,\n",
       " -85,\n",
       " -85,\n",
       " -83,\n",
       " -85,\n",
       " -85,\n",
       " -84,\n",
       " -84,\n",
       " -85,\n",
       " -85,\n",
       " -85,\n",
       " -84,\n",
       " -80,\n",
       " -80,\n",
       " -80,\n",
       " -80,\n",
       " -80,\n",
       " -80,\n",
       " -79,\n",
       " -80,\n",
       " -80,\n",
       " -80,\n",
       " -80,\n",
       " -79,\n",
       " -79,\n",
       " -79,\n",
       " -80,\n",
       " -80,\n",
       " -80,\n",
       " -80,\n",
       " -80,\n",
       " -81,\n",
       " -80,\n",
       " -80,\n",
       " -80,\n",
       " -80,\n",
       " -80,\n",
       " -80,\n",
       " -80,\n",
       " -80,\n",
       " -81,\n",
       " -80,\n",
       " -80,\n",
       " -80,\n",
       " -80,\n",
       " -78,\n",
       " -78,\n",
       " -79,\n",
       " -78,\n",
       " -78,\n",
       " -79,\n",
       " -78,\n",
       " -80,\n",
       " -80,\n",
       " -79,\n",
       " -80,\n",
       " -78,\n",
       " -79,\n",
       " -78,\n",
       " -79,\n",
       " -80,\n",
       " -78,\n",
       " -84,\n",
       " -85,\n",
       " -87,\n",
       " -86,\n",
       " -84,\n",
       " -82,\n",
       " -86,\n",
       " -83,\n",
       " -85,\n",
       " -87,\n",
       " -87,\n",
       " -89,\n",
       " -86,\n",
       " -85,\n",
       " -89,\n",
       " -87,\n",
       " -85,\n",
       " -86,\n",
       " -85,\n",
       " -84,\n",
       " -84,\n",
       " -92,\n",
       " -84,\n",
       " -85,\n",
       " -85,\n",
       " -85,\n",
       " -84,\n",
       " -82,\n",
       " -80,\n",
       " -85,\n",
       " -82,\n",
       " -77,\n",
       " -75,\n",
       " -76,\n",
       " -75,\n",
       " -75,\n",
       " -75,\n",
       " -76,\n",
       " -75,\n",
       " -76,\n",
       " -75,\n",
       " -76,\n",
       " -74,\n",
       " -73,\n",
       " -75,\n",
       " -73,\n",
       " -74,\n",
       " -74,\n",
       " -73,\n",
       " -74,\n",
       " -74,\n",
       " -73,\n",
       " -73,\n",
       " -74,\n",
       " -74,\n",
       " -73,\n",
       " -73,\n",
       " -73,\n",
       " -74,\n",
       " -74,\n",
       " -73,\n",
       " -73,\n",
       " -73,\n",
       " -74,\n",
       " -74,\n",
       " -73,\n",
       " -76,\n",
       " -82,\n",
       " -83,\n",
       " -83,\n",
       " -83,\n",
       " -83,\n",
       " -83,\n",
       " -82,\n",
       " -83,\n",
       " -82,\n",
       " -82,\n",
       " -82,\n",
       " -82,\n",
       " -82,\n",
       " -82,\n",
       " -82,\n",
       " -82,\n",
       " -83,\n",
       " -83,\n",
       " -82,\n",
       " -82,\n",
       " -83,\n",
       " -83,\n",
       " -82,\n",
       " -83,\n",
       " -75,\n",
       " -75,\n",
       " -76,\n",
       " -75,\n",
       " -75,\n",
       " -76,\n",
       " -75,\n",
       " -75,\n",
       " -75,\n",
       " -75,\n",
       " -76,\n",
       " -76,\n",
       " -75,\n",
       " -75,\n",
       " -75,\n",
       " -76,\n",
       " -75,\n",
       " -73,\n",
       " -73,\n",
       " -74,\n",
       " -75,\n",
       " -74,\n",
       " -73,\n",
       " -74,\n",
       " -73,\n",
       " -74,\n",
       " -73,\n",
       " -74,\n",
       " -72,\n",
       " -74,\n",
       " -74,\n",
       " -73,\n",
       " -76,\n",
       " -73,\n",
       " -73,\n",
       " -74,\n",
       " -75,\n",
       " -74,\n",
       " -73,\n",
       " -73,\n",
       " -74,\n",
       " -74,\n",
       " -74,\n",
       " -73,\n",
       " -78,\n",
       " -82,\n",
       " -83,\n",
       " -82,\n",
       " -82,\n",
       " -82,\n",
       " -82,\n",
       " -82,\n",
       " -83,\n",
       " -82,\n",
       " -82,\n",
       " -82,\n",
       " -83,\n",
       " -82,\n",
       " -82,\n",
       " -82,\n",
       " -82,\n",
       " -82,\n",
       " -83,\n",
       " -82,\n",
       " -82,\n",
       " -82,\n",
       " -82,\n",
       " -82,\n",
       " -85,\n",
       " -82,\n",
       " -82,\n",
       " -83,\n",
       " -82,\n",
       " -82,\n",
       " -83,\n",
       " -82,\n",
       " -82,\n",
       " -82,\n",
       " -84,\n",
       " -83,\n",
       " -83,\n",
       " -83,\n",
       " -82,\n",
       " -82,\n",
       " -84,\n",
       " -83,\n",
       " -82,\n",
       " -77,\n",
       " -75,\n",
       " -76,\n",
       " -75,\n",
       " -77,\n",
       " -76,\n",
       " -75,\n",
       " -75,\n",
       " -76,\n",
       " -76,\n",
       " -75,\n",
       " -77,\n",
       " -76,\n",
       " -76,\n",
       " -75,\n",
       " -76,\n",
       " -76,\n",
       " -76,\n",
       " -76,\n",
       " -74,\n",
       " -73,\n",
       " -72,\n",
       " -75,\n",
       " -73,\n",
       " -74,\n",
       " -73,\n",
       " -74,\n",
       " -73,\n",
       " -76,\n",
       " -73,\n",
       " -74,\n",
       " -74,\n",
       " -73,\n",
       " -74,\n",
       " -74,\n",
       " -73,\n",
       " -73,\n",
       " -73,\n",
       " -74,\n",
       " -74,\n",
       " -74,\n",
       " -73,\n",
       " -73,\n",
       " -73,\n",
       " -73,\n",
       " -73,\n",
       " -73,\n",
       " -73,\n",
       " -73,\n",
       " -75,\n",
       " -74,\n",
       " -74,\n",
       " -74,\n",
       " -73,\n",
       " -74,\n",
       " -73,\n",
       " -76,\n",
       " -82,\n",
       " -85,\n",
       " -83,\n",
       " -83,\n",
       " -82,\n",
       " -82,\n",
       " -85,\n",
       " -83,\n",
       " -83,\n",
       " -82,\n",
       " -82,\n",
       " -83,\n",
       " -83,\n",
       " -82,\n",
       " -82,\n",
       " -83,\n",
       " -83,\n",
       " -82,\n",
       " -82,\n",
       " -83,\n",
       " -82,\n",
       " -82,\n",
       " -82,\n",
       " -82,\n",
       " -83,\n",
       " -83,\n",
       " -82,\n",
       " -82,\n",
       " -83,\n",
       " -82,\n",
       " -83,\n",
       " -82,\n",
       " -82,\n",
       " -75,\n",
       " -76,\n",
       " -75,\n",
       " -74,\n",
       " -76,\n",
       " -76,\n",
       " -76,\n",
       " -76,\n",
       " -76,\n",
       " -77,\n",
       " -76,\n",
       " -76,\n",
       " -76,\n",
       " -76,\n",
       " -77,\n",
       " -78,\n",
       " -77,\n",
       " -73,\n",
       " -73,\n",
       " -74,\n",
       " -73,\n",
       " -74,\n",
       " -74,\n",
       " -73,\n",
       " -74,\n",
       " -74,\n",
       " -73,\n",
       " -74,\n",
       " -74,\n",
       " -74,\n",
       " -74,\n",
       " -73,\n",
       " -74,\n",
       " -73,\n",
       " -74,\n",
       " -73,\n",
       " -73,\n",
       " -73,\n",
       " -89,\n",
       " -91,\n",
       " -85,\n",
       " -82,\n",
       " -83,\n",
       " -84,\n",
       " -83,\n",
       " -81,\n",
       " -83,\n",
       " -89,\n",
       " -81,\n",
       " -81,\n",
       " -82,\n",
       " -81,\n",
       " -81,\n",
       " -82,\n",
       " -82,\n",
       " -81,\n",
       " -81,\n",
       " -82,\n",
       " -82,\n",
       " -86,\n",
       " -86,\n",
       " -86,\n",
       " -86,\n",
       " -86,\n",
       " -85,\n",
       " -85,\n",
       " -87,\n",
       " -86,\n",
       " -86,\n",
       " -85,\n",
       " -85,\n",
       " -85,\n",
       " -85,\n",
       " -86,\n",
       " -86,\n",
       " -85,\n",
       " -85,\n",
       " -86,\n",
       " -84,\n",
       " -86,\n",
       " -86,\n",
       " -85,\n",
       " -84,\n",
       " -82,\n",
       " -78,\n",
       " -78,\n",
       " -78,\n",
       " -78,\n",
       " -78,\n",
       " -78,\n",
       " -78,\n",
       " -78,\n",
       " -78,\n",
       " -78,\n",
       " -78,\n",
       " -78,\n",
       " -78,\n",
       " -78,\n",
       " -78,\n",
       " -77,\n",
       " -78,\n",
       " -78,\n",
       " -78,\n",
       " -78,\n",
       " -78,\n",
       " -79,\n",
       " -78,\n",
       " -80,\n",
       " -80,\n",
       " -82,\n",
       " -82,\n",
       " -80,\n",
       " -82,\n",
       " -81,\n",
       " -81,\n",
       " -80,\n",
       " -80,\n",
       " -81,\n",
       " -81,\n",
       " -81,\n",
       " -82,\n",
       " -82,\n",
       " -81,\n",
       " -81,\n",
       " -81,\n",
       " -84,\n",
       " -85,\n",
       " -84,\n",
       " -84,\n",
       " -85,\n",
       " -85,\n",
       " -85,\n",
       " -87,\n",
       " -86,\n",
       " -87,\n",
       " -87,\n",
       " -86,\n",
       " -87,\n",
       " -87,\n",
       " -88,\n",
       " -86,\n",
       " -87,\n",
       " -87,\n",
       " -87,\n",
       " -86,\n",
       " -86,\n",
       " -86,\n",
       " -86,\n",
       " -87,\n",
       " -86,\n",
       " -86,\n",
       " -87,\n",
       " -87,\n",
       " -79,\n",
       " -78,\n",
       " -78,\n",
       " -78,\n",
       " -79,\n",
       " -78,\n",
       " -79,\n",
       " -79,\n",
       " -77,\n",
       " -78,\n",
       " -78,\n",
       " -78,\n",
       " -78,\n",
       " -78,\n",
       " -78,\n",
       " -78,\n",
       " -78,\n",
       " -78,\n",
       " -78,\n",
       " -78,\n",
       " -78,\n",
       " -78,\n",
       " -80,\n",
       " -79,\n",
       " -78,\n",
       " -78,\n",
       " -79,\n",
       " -79,\n",
       " -78,\n",
       " -78,\n",
       " -78,\n",
       " -78,\n",
       " -78,\n",
       " -78,\n",
       " -78,\n",
       " -78,\n",
       " -78,\n",
       " -79,\n",
       " -78,\n",
       " -78,\n",
       " -78,\n",
       " -78,\n",
       " -80,\n",
       " -81,\n",
       " -81,\n",
       " -81,\n",
       " -81,\n",
       " -81,\n",
       " -81,\n",
       " -81,\n",
       " -82,\n",
       " -81,\n",
       " -81,\n",
       " -81,\n",
       " -81,\n",
       " -82,\n",
       " -81,\n",
       " -81,\n",
       " -82,\n",
       " -82,\n",
       " -81,\n",
       " -87,\n",
       " -87,\n",
       " -88,\n",
       " -86,\n",
       " -85,\n",
       " -87,\n",
       " -87,\n",
       " -88,\n",
       " -86,\n",
       " -86,\n",
       " -86,\n",
       " -86,\n",
       " -87,\n",
       " -87,\n",
       " -86,\n",
       " -84,\n",
       " -87,\n",
       " -87,\n",
       " -87,\n",
       " -86,\n",
       " -86,\n",
       " -86,\n",
       " -87,\n",
       " -87,\n",
       " -88,\n",
       " -87,\n",
       " -86,\n",
       " -86,\n",
       " -87,\n",
       " -87,\n",
       " -86,\n",
       " -86,\n",
       " -86,\n",
       " -86,\n",
       " -87,\n",
       " -87,\n",
       " -86,\n",
       " -83,\n",
       " -78,\n",
       " -78,\n",
       " -78,\n",
       " -78,\n",
       " -78,\n",
       " -78,\n",
       " -79,\n",
       " -78,\n",
       " -77,\n",
       " -78,\n",
       " -78,\n",
       " -78,\n",
       " -78,\n",
       " -79,\n",
       " -79,\n",
       " -77,\n",
       " -78,\n",
       " -78,\n",
       " -78,\n",
       " -78,\n",
       " -78,\n",
       " -77,\n",
       " -78,\n",
       " -78,\n",
       " -79,\n",
       " -78,\n",
       " -78,\n",
       " -79,\n",
       " -78,\n",
       " -78,\n",
       " -78,\n",
       " -78,\n",
       " -82,\n",
       " -80,\n",
       " -81,\n",
       " -81,\n",
       " -81,\n",
       " -79,\n",
       " -82,\n",
       " -81,\n",
       " -81,\n",
       " -82,\n",
       " -82,\n",
       " -82,\n",
       " -81,\n",
       " -81,\n",
       " -80,\n",
       " -79,\n",
       " -82,\n",
       " -80,\n",
       " -84,\n",
       " -84,\n",
       " -87,\n",
       " -87,\n",
       " -87,\n",
       " -87,\n",
       " -87,\n",
       " -85,\n",
       " -89,\n",
       " -86,\n",
       " -86,\n",
       " -89,\n",
       " -86,\n",
       " -87,\n",
       " -84,\n",
       " -83,\n",
       " -86,\n",
       " -84,\n",
       " -83,\n",
       " -85,\n",
       " -84,\n",
       " -82,\n",
       " -81,\n",
       " -82,\n",
       " -82,\n",
       " -81,\n",
       " -81,\n",
       " -81,\n",
       " -81,\n",
       " -83,\n",
       " -83,\n",
       " -92,\n",
       " -93,\n",
       " -94,\n",
       " -91,\n",
       " -92,\n",
       " -92,\n",
       " -91,\n",
       " -91,\n",
       " -92,\n",
       " -91,\n",
       " -92,\n",
       " -100,\n",
       " -100,\n",
       " -100,\n",
       " -100,\n",
       " -99,\n",
       " -99,\n",
       " -101,\n",
       " -100,\n",
       " -100,\n",
       " -102,\n",
       " -101,\n",
       " -100,\n",
       " -100,\n",
       " -101,\n",
       " -100,\n",
       " -102,\n",
       " -100,\n",
       " -101,\n",
       " -100,\n",
       " -100,\n",
       " -100,\n",
       " -102,\n",
       " -103,\n",
       " -102,\n",
       " -81,\n",
       " -80,\n",
       " -80,\n",
       " -80,\n",
       " -80,\n",
       " -81,\n",
       " -81,\n",
       " -80,\n",
       " -80,\n",
       " -81,\n",
       " -81,\n",
       " -81,\n",
       " -81,\n",
       " -80,\n",
       " -81,\n",
       " -80,\n",
       " -80,\n",
       " -80,\n",
       " -80,\n",
       " -81,\n",
       " -81,\n",
       " -80,\n",
       " -80,\n",
       " -80,\n",
       " -85,\n",
       " -89,\n",
       " -92,\n",
       " -91,\n",
       " -91,\n",
       " -90,\n",
       " -91,\n",
       " -91,\n",
       " -89,\n",
       " -89,\n",
       " -90,\n",
       " -91,\n",
       " -90,\n",
       " -91,\n",
       " -91,\n",
       " -87,\n",
       " -92,\n",
       " -89,\n",
       " -98,\n",
       " -102,\n",
       " -100,\n",
       " -99,\n",
       " -102,\n",
       " -102,\n",
       " -97,\n",
       " -100,\n",
       " -101,\n",
       " -100,\n",
       " -100,\n",
       " -100,\n",
       " -102,\n",
       " -103,\n",
       " -102,\n",
       " -99,\n",
       " -101,\n",
       " -99,\n",
       " -100,\n",
       " -100,\n",
       " -96,\n",
       " -98,\n",
       " -100,\n",
       " -101,\n",
       " -97,\n",
       " -99,\n",
       " -98,\n",
       " -80,\n",
       " -82,\n",
       " -81,\n",
       " -81,\n",
       " -80,\n",
       " -81,\n",
       " -81,\n",
       " -81,\n",
       " -80,\n",
       " -80,\n",
       " -81,\n",
       " -81,\n",
       " -80,\n",
       " -80,\n",
       " -81,\n",
       " -80,\n",
       " -80,\n",
       " -80,\n",
       " -80,\n",
       " -80,\n",
       " -80,\n",
       " -80,\n",
       " -81,\n",
       " -81,\n",
       " -81,\n",
       " -80,\n",
       " -81,\n",
       " -80,\n",
       " -81,\n",
       " -80,\n",
       " -80,\n",
       " ...]"
      ]
     },
     "execution_count": 9,
     "metadata": {},
     "output_type": "execute_result"
    }
   ],
   "source": [
    "data3"
   ]
  },
  {
   "cell_type": "code",
   "execution_count": 10,
   "metadata": {
    "collapsed": true
   },
   "outputs": [],
   "source": [
    "data4 = [ [j for j in data3[i::5] ] for i in range(5)] # filtra por cada beacon (cada 5)"
   ]
  },
  {
   "cell_type": "code",
   "execution_count": 11,
   "metadata": {},
   "outputs": [
    {
     "data": {
      "text/plain": [
       "1425"
      ]
     },
     "execution_count": 11,
     "metadata": {},
     "output_type": "execute_result"
    }
   ],
   "source": [
    "len(data3)"
   ]
  },
  {
   "cell_type": "code",
   "execution_count": 12,
   "metadata": {},
   "outputs": [
    {
     "data": {
      "text/plain": [
       "[-89,\n",
       " -84,\n",
       " -79,\n",
       " -80,\n",
       " -85,\n",
       " -85,\n",
       " -85,\n",
       " -85,\n",
       " -86,\n",
       " -80,\n",
       " -80,\n",
       " -81,\n",
       " -80,\n",
       " -82,\n",
       " -80,\n",
       " -78,\n",
       " -80,\n",
       " -85,\n",
       " -84,\n",
       " -84,\n",
       " -85,\n",
       " -83,\n",
       " -86,\n",
       " -80,\n",
       " -80,\n",
       " -80,\n",
       " -80,\n",
       " -80,\n",
       " -80,\n",
       " -80,\n",
       " -80,\n",
       " -79,\n",
       " -78,\n",
       " -80,\n",
       " -79,\n",
       " -85,\n",
       " -86,\n",
       " -85,\n",
       " -85,\n",
       " -85,\n",
       " -85,\n",
       " -84,\n",
       " -84,\n",
       " -80,\n",
       " -80,\n",
       " -80,\n",
       " -81,\n",
       " -80,\n",
       " -80,\n",
       " -78,\n",
       " -78,\n",
       " -78,\n",
       " -78,\n",
       " -84,\n",
       " -87,\n",
       " -89,\n",
       " -84,\n",
       " -85,\n",
       " -85,\n",
       " -75,\n",
       " -76,\n",
       " -75,\n",
       " -74,\n",
       " -74,\n",
       " -74,\n",
       " -74,\n",
       " -83,\n",
       " -83,\n",
       " -82,\n",
       " -83,\n",
       " -82,\n",
       " -75,\n",
       " -75,\n",
       " -75,\n",
       " -73,\n",
       " -74,\n",
       " -72,\n",
       " -73,\n",
       " -73,\n",
       " -73,\n",
       " -82,\n",
       " -82,\n",
       " -82,\n",
       " -82,\n",
       " -85,\n",
       " -82,\n",
       " -84,\n",
       " -82,\n",
       " -75,\n",
       " -75,\n",
       " -77,\n",
       " -76,\n",
       " -72,\n",
       " -74,\n",
       " -74,\n",
       " -73,\n",
       " -73,\n",
       " -73,\n",
       " -74,\n",
       " -76,\n",
       " -82,\n",
       " -82,\n",
       " -82,\n",
       " -83,\n",
       " -83,\n",
       " -82,\n",
       " -76,\n",
       " -76,\n",
       " -76,\n",
       " -77,\n",
       " -74,\n",
       " -73,\n",
       " -73,\n",
       " -73,\n",
       " -82,\n",
       " -83,\n",
       " -81,\n",
       " -81,\n",
       " -86,\n",
       " -87,\n",
       " -85,\n",
       " -85,\n",
       " -85,\n",
       " -78,\n",
       " -78,\n",
       " -78,\n",
       " -78,\n",
       " -78,\n",
       " -80,\n",
       " -80,\n",
       " -82,\n",
       " -85,\n",
       " -85,\n",
       " -86,\n",
       " -87,\n",
       " -86,\n",
       " -87,\n",
       " -78,\n",
       " -77,\n",
       " -78,\n",
       " -78,\n",
       " -79,\n",
       " -78,\n",
       " -78,\n",
       " -78,\n",
       " -81,\n",
       " -81,\n",
       " -81,\n",
       " -82,\n",
       " -88,\n",
       " -88,\n",
       " -87,\n",
       " -87,\n",
       " -87,\n",
       " -86,\n",
       " -86,\n",
       " -83,\n",
       " -78,\n",
       " -78,\n",
       " -79,\n",
       " -78,\n",
       " -79,\n",
       " -78,\n",
       " -81,\n",
       " -81,\n",
       " -81,\n",
       " -80,\n",
       " -87,\n",
       " -86,\n",
       " -84,\n",
       " -85,\n",
       " -82,\n",
       " -83,\n",
       " -91,\n",
       " -92,\n",
       " -100,\n",
       " -100,\n",
       " -100,\n",
       " -101,\n",
       " -103,\n",
       " -80,\n",
       " -80,\n",
       " -80,\n",
       " -80,\n",
       " -80,\n",
       " -91,\n",
       " -89,\n",
       " -91,\n",
       " -102,\n",
       " -97,\n",
       " -100,\n",
       " -101,\n",
       " -98,\n",
       " -98,\n",
       " -80,\n",
       " -80,\n",
       " -81,\n",
       " -80,\n",
       " -81,\n",
       " -80,\n",
       " -80,\n",
       " -80,\n",
       " -91,\n",
       " -93,\n",
       " -92,\n",
       " -90,\n",
       " -99,\n",
       " -100,\n",
       " -98,\n",
       " -98,\n",
       " -97,\n",
       " -97,\n",
       " -100,\n",
       " -80,\n",
       " -80,\n",
       " -80,\n",
       " -80,\n",
       " -80,\n",
       " -80,\n",
       " -80,\n",
       " -92,\n",
       " -90,\n",
       " -86,\n",
       " -98,\n",
       " -98,\n",
       " -101,\n",
       " -101,\n",
       " -98,\n",
       " -97,\n",
       " -86,\n",
       " -83,\n",
       " -83,\n",
       " -90,\n",
       " -90,\n",
       " -91,\n",
       " -91,\n",
       " -91,\n",
       " -90,\n",
       " -90,\n",
       " -88,\n",
       " -90,\n",
       " -89,\n",
       " -82,\n",
       " -82,\n",
       " -83,\n",
       " -92,\n",
       " -91,\n",
       " -92,\n",
       " -91,\n",
       " -92,\n",
       " -92,\n",
       " -89,\n",
       " -90,\n",
       " -89,\n",
       " -90,\n",
       " -90,\n",
       " -89,\n",
       " -91,\n",
       " -89,\n",
       " -82,\n",
       " -82,\n",
       " -82,\n",
       " -81,\n",
       " -93,\n",
       " -90,\n",
       " -91,\n",
       " -92,\n",
       " -92,\n",
       " -91,\n",
       " -91,\n",
       " -91,\n",
       " -88.0,\n",
       " -89.0,\n",
       " -89.0,\n",
       " -90.0,\n",
       " -90.0,\n",
       " -90.0,\n",
       " -81.0,\n",
       " -82.0,\n",
       " -83.0,\n",
       " -82.0,\n",
       " -92.0,\n",
       " -91.0,\n",
       " -89.0,\n",
       " -104.0]"
      ]
     },
     "execution_count": 12,
     "metadata": {},
     "output_type": "execute_result"
    }
   ],
   "source": [
    "data4[3]# RSSI del beacon 07 (1) para posicion 1"
   ]
  },
  {
   "cell_type": "code",
   "execution_count": 13,
   "metadata": {},
   "outputs": [
    {
     "data": {
      "text/plain": [
       "<matplotlib.axes._subplots.AxesSubplot at 0x7f51d0dbadd8>"
      ]
     },
     "execution_count": 13,
     "metadata": {},
     "output_type": "execute_result"
    },
    {
     "data": {
      "image/png": "[encoded data removed]",
      "text/plain": [
       "<matplotlib.figure.Figure at 0x7f51d0dbaeb8>"
      ]
     },
     "metadata": {},
     "output_type": "display_data"
    }
   ],
   "source": [
    "pd.Series(data4[4]).plot()"
   ]
  },
  {
   "cell_type": "code",
   "execution_count": 21,
   "metadata": {
    "collapsed": true
   },
   "outputs": [],
   "source": [
    "### Funcion para plotear datos de 5 Beacons\n",
    "def plotBeaconRSSI(pot, pos, beacon,take1, take2,take3):\n",
    "    tk1 = take1[0:250]\n",
    "    tk2 = take2[0:250]\n",
    "    tk3 = take3[0:250]\n",
    "    tk1avg = pd.Series([tk1.mean() for i in range(250)])\n",
    "    tk2avg = pd.Series([tk2.mean() for i in range(250)])\n",
    "    tk3avg = pd.Series([tk3.mean() for i in range(250)])\n",
    "    df = pd.concat([tk1,tk1avg,tk2, tk2avg,tk3,tk3avg], axis=1, keys=['Take 1','Take 1 avg','Take 2','Take 2 avg','Take 3','Take 3 avg'])\n",
    "    \n",
    "    \n",
    "    #df = pd.concat([take1,take2,take3], axis=1, keys=['Take 1','Take 2', 'Take 3'])\n",
    "    plt.figure()\n",
    "    fig = df.plot(lw=0.5, markersize=0.4, title='Comparison for intraday measures using '+beacon, style=['b','b--','g','go-','r','r^-']);\n",
    "    fig2 = fig.get_figure()\n",
    "    #fig.set_xlabel(\"Time (s)\");\n",
    "    fig.set_xlabel(\"# of samples\");\n",
    "    fig.set_ylabel(\"RSSI values (dBm)\");\n",
    "    fig.set_ylim(-110,-65)\n",
    "    fig.set_xlim(0,225)\n",
    "    output_dir = 'resultsMovilNaN/'+pot+'/'+str(pos+1) \n",
    "    mkdir_p(output_dir)\n",
    "    plt.savefig(output_dir+'/'+beacon+'.eps',format='eps',dpi=1000)\n",
    "    plt.close(fig2)"
   ]
  },
  {
   "cell_type": "code",
   "execution_count": 24,
   "metadata": {
    "collapsed": true
   },
   "outputs": [],
   "source": [
    "def combineBeaconsProc():\n",
    "    potencias = list('123456')\n",
    "    all_potencias = [ ('Tx_0x0'+potencia, 'Tx0'+potencia) for potencia in potencias]\n",
    "    all_beacons = ['Be07','Be08','Be09','Be10','Be11']\n",
    "    #Leer CSV  Tx 0x0A toma B\n",
    "    for potencia,archivo in all_potencias:\n",
    "        t1 = pd.read_csv('./Movil/'+potencia+'/'+archivo+'_1.csv', names=[i for i in range(1,3000)],skiprows=2).transpose()\n",
    "        t2 = pd.read_csv('./Movil/'+potencia+'/'+archivo+'_2.csv', names=[i for i in range(1,3000)],skiprows=2).transpose()\n",
    "        t3 = pd.read_csv('./Movil/'+potencia+'/'+archivo+'_3.csv', names=[i for i in range(1,3000)],skiprows=2).transpose()\n",
    "        for posicion in range(15):\n",
    "            # toma la posicion, desde la 3ra fila , las 2 primeras es basura, transforma a matrix y elimina NaNs\n",
    "            #data1 = [v for v in t1[posicion][3:].as_matrix() if not math.isnan(v)]\n",
    "            #data2 = [v for v in t2[posicion][3:].as_matrix() if not math.isnan(v)]\n",
    "            #data3 = [v for v in t3[posicion][3:].as_matrix() if not math.isnan(v)]\n",
    "            data1 = t1[posicion][3:].as_matrix()\n",
    "            data2 = t2[posicion][3:].as_matrix()\n",
    "            data3 = t3[posicion][3:].as_matrix()\n",
    "            \n",
    "            # filtra por cada beacon (cada 5)\n",
    "            take1 = [ [j for j in data1[i::5] ] for i in range(5)]\n",
    "            take2 = [ [j for j in data2[i::5] ] for i in range(5)]\n",
    "            take3 = [ [j for j in data3[i::5] ] for i in range(5)]\n",
    "            \n",
    "            #itera para cada Beacon\n",
    "            for beacon in range(5):\n",
    "                take1_df = pd.Series(take1[beacon])\n",
    "                take2_df = pd.Series(take2[beacon])\n",
    "                take3_df = pd.Series(take3[beacon])\n",
    "                \n",
    "                #Iguala tamaños\n",
    "                tam1 = take1_df.count()\n",
    "                tam2 = take2_df.count()\n",
    "                tam3 = take3_df.count()\n",
    "                tam_min = min(tam1,tam2,tam3)\n",
    "                take1_df = take1_df.head(tam_min)\n",
    "                take2_df = take2_df.head(tam_min)\n",
    "                take3_df = take3_df.head(tam_min)\n",
    "                plotBeaconRSSI(potencia, posicion, all_beacons[beacon], take1_df, take2_df, take3_df)\n",
    "                "
   ]
  },
  {
   "cell_type": "code",
   "execution_count": 29,
   "metadata": {
    "collapsed": true
   },
   "outputs": [],
   "source": [
    "def combineBeaconsProc2(): #Datos varianzas takes 1,2,3, dev std, mean , 0x04, Be07\n",
    "    potencias = list('4')\n",
    "    all_potencias = [ ('Tx_0x0'+potencia, 'Tx0'+potencia) for potencia in potencias]\n",
    "    all_beacons = ['Be07']\n",
    "    #Leer CSV  Tx 0x0A toma B\n",
    "    for potencia,archivo in all_potencias:\n",
    "        t1 = pd.read_csv('./Movil/'+potencia+'/'+archivo+'_1.csv', names=[i for i in range(1,3000)],skiprows=2).transpose()\n",
    "        t2 = pd.read_csv('./Movil/'+potencia+'/'+archivo+'_2.csv', names=[i for i in range(1,3000)],skiprows=2).transpose()\n",
    "        t3 = pd.read_csv('./Movil/'+potencia+'/'+archivo+'_3.csv', names=[i for i in range(1,3000)],skiprows=2).transpose()\n",
    "        for posicion in range(15):\n",
    "            # toma la posicion, desde la 3ra fila , las 2 primeras es basura, transforma a matrix y elimina NaNs\n",
    "            #data1 = [v for v in t1[posicion][3:].as_matrix() if not math.isnan(v)]\n",
    "            #data2 = [v for v in t2[posicion][3:].as_matrix() if not math.isnan(v)]\n",
    "            #data3 = [v for v in t3[posicion][3:].as_matrix() if not math.isnan(v)]\n",
    "            data1 = t1[posicion][3:].as_matrix()\n",
    "            data2 = t2[posicion][3:].as_matrix()\n",
    "            data3 = t3[posicion][3:].as_matrix()\n",
    "            \n",
    "            # filtra por cada beacon (cada 5)\n",
    "            k = 1\n",
    "            take1 = [ [j for j in data1[i::k] ] for i in range(k)]\n",
    "            take2 = [ [j for j in data2[i::k] ] for i in range(k)]\n",
    "            take3 = [ [j for j in data3[i::k] ] for i in range(k)]\n",
    "            \n",
    "            #itera para cada Beacon\n",
    "            for beacon in range(k):\n",
    "                take1_df = pd.Series(take1[beacon])\n",
    "                take2_df = pd.Series(take2[beacon])\n",
    "                take3_df = pd.Series(take3[beacon])\n",
    "                \n",
    "                #Iguala tamaños\n",
    "                tam1 = take1_df.count()\n",
    "                tam2 = take2_df.count()\n",
    "                tam3 = take3_df.count()\n",
    "                tam_min = min(tam1,tam2,tam3)\n",
    "                take1_df = take1_df.head(tam_min)\n",
    "                take2_df = take2_df.head(tam_min)\n",
    "                take3_df = take3_df.head(tam_min)\n",
    "                print(posicion+1)\n",
    "                #print([np.mean(take1_df), np.std(take1_df)])\n",
    "                #print([np.mean(take2_df), np.std(take2_df)])\n",
    "                #print([np.mean(take3_df), np.std(take3_df)])\n",
    "                print([np.min(take1_df), np.max(take1_df)])\n",
    "                print([np.min(take2_df), np.max(take2_df)])\n",
    "                print([np.min(take3_df), np.max(take3_df)])\n",
    "                "
   ]
  },
  {
   "cell_type": "code",
   "execution_count": 30,
   "metadata": {
    "collapsed": true
   },
   "outputs": [
    {
     "name": "stdout",
     "output_type": "stream",
     "text": [
      "1\n",
      "[-106.0, -72.0]\n",
      "[-109.0, -72.0]\n",
      "[-105.0, -73.0]\n",
      "2\n",
      "[-102.0, -72.0]\n",
      "[-99.0, -69.0]\n",
      "[-103.0, -70.0]\n",
      "3\n",
      "[-108.0, -76.0]\n",
      "[-108.0, -80.0]\n",
      "[-105.0, -74.0]\n",
      "4\n",
      "[-105.0, -68.0]\n",
      "[-97.0, -69.0]\n",
      "[-98.0, -69.0]\n",
      "5\n",
      "[-99.0, -67.0]\n",
      "[-100.0, -70.0]\n",
      "[-101.0, -72.0]\n",
      "6\n",
      "[-104.0, -74.0]\n",
      "[-108.0, -71.0]\n",
      "[-94.0, -72.0]\n",
      "7\n",
      "[-110.0, -66.0]\n",
      "[-105.0, -67.0]\n",
      "[-107.0, -69.0]\n",
      "8\n",
      "[-107.0, -68.0]\n",
      "[-106.0, -67.0]\n",
      "[-106.0, -68.0]\n",
      "9\n",
      "[-105.0, -73.0]\n",
      "[-110.0, -75.0]\n",
      "[-109.0, -68.0]\n",
      "10\n",
      "[-106.0, -64.0]\n",
      "[-105.0, -72.0]\n",
      "[-96.0, -71.0]\n",
      "11\n",
      "[-109.0, -71.0]\n",
      "[-104.0, -68.0]\n",
      "[-103.0, -70.0]\n",
      "12\n",
      "[-106.0, -67.0]\n",
      "[-110.0, -68.0]\n",
      "[-107.0, -67.0]\n",
      "13\n",
      "[-110.0, -64.0]\n",
      "[-106.0, -68.0]\n",
      "[-110.0, -68.0]\n",
      "14\n",
      "[-106.0, -65.0]\n",
      "[-108.0, -64.0]\n",
      "[-104.0, -65.0]\n",
      "15\n",
      "[-109.0, -70.0]\n",
      "[-101.0, -68.0]\n",
      "[-105.0, -70.0]\n"
     ]
    }
   ],
   "source": [
    "combineBeaconsProc2()"
   ]
  },
  {
   "cell_type": "markdown",
   "metadata": {
    "collapsed": true
   },
   "source": [
    "## Con raspberry Pi 2 , usando Datosde entrenamiento"
   ]
  },
  {
   "cell_type": "code",
   "execution_count": 3,
   "metadata": {
    "collapsed": true
   },
   "outputs": [],
   "source": [
    "#Leer CSV posicion 1 Tx 0x01 toma 1\n",
    "t01_t1 = pd.read_csv('./../nuevosManuelBeacons/Raspberri/Tx_0x04/test1.csv',names=['Pos','Be07','Be08','Be09','Be10','Be11'])"
   ]
  },
  {
   "cell_type": "code",
   "execution_count": 4,
   "metadata": {},
   "outputs": [
    {
     "data": {
      "text/plain": [
       "<matplotlib.axes._subplots.AxesSubplot at 0x7f1f382c8160>"
      ]
     },
     "execution_count": 4,
     "metadata": {},
     "output_type": "execute_result"
    },
    {
     "data": {
      "image/png": "[encoded data removed]",
      "text/plain": [
       "<matplotlib.figure.Figure at 0x7f1f0d0c67f0>"
      ]
     },
     "metadata": {},
     "output_type": "display_data"
    }
   ],
   "source": [
    "pd.Series(t01_t1['Be07']).plot()"
   ]
  },
  {
   "cell_type": "code",
   "execution_count": 7,
   "metadata": {
    "collapsed": true
   },
   "outputs": [],
   "source": [
    "def plotear(data,pos):\n",
    "    beacons = ['Be07','Be08','Be09','Be10','Be11']\n",
    "    for beacon in beacons:\n",
    "        data_f = data[beacon][0:250]\n",
    "        tkavg = pd.Series([data_f.mean() for i in range(250)])\n",
    "        df = pd.concat([data_f,tkavg], axis=1, keys=['Take 1','Take 1 avg'])\n",
    "        plt.figure()\n",
    "        \n",
    "        fig = df.plot(lw=0.5, markersize=0.4, title='RSSI Behaviour using '+beacon, style=['b','r-']);\n",
    "        fig2 = fig.get_figure()\n",
    "        fig.set_xlabel(\"# of samples\");\n",
    "        fig.set_ylabel(\"RSSI values (dBm)\");\n",
    "        fig.set_ylim(-94,-62)\n",
    "        #fig.set_xlim(0,225)\n",
    "        output_dir = 'resultsRPEntrenamiento/'+beacon+'/'+str(pos+1) \n",
    "        mkdir_p(output_dir)\n",
    "        plt.savefig(output_dir+'/'+beacon+'.eps',format='eps',dpi=1000)\n",
    "        plt.close(fig2)"
   ]
  },
  {
   "cell_type": "code",
   "execution_count": 8,
   "metadata": {},
   "outputs": [
    {
     "name": "stderr",
     "output_type": "stream",
     "text": [
      "/home/jeslev/anaconda3/lib/python3.6/site-packages/matplotlib/pyplot.py:524: RuntimeWarning: More than 20 figures have been opened. Figures created through the pyplot interface (`matplotlib.pyplot.figure`) are retained until explicitly closed and may consume too much memory. (To control this warning, see the rcParam `figure.max_open_warning`).\n",
      "  max_open_warning, RuntimeWarning)\n"
     ]
    },
    {
     "data": {
      "text/plain": [
       "<matplotlib.figure.Figure at 0x7f1df7cc9160>"
      ]
     },
     "metadata": {},
     "output_type": "display_data"
    },
    {
     "data": {
      "text/plain": [
       "<matplotlib.figure.Figure at 0x7f1df7cc9d30>"
      ]
     },
     "metadata": {},
     "output_type": "display_data"
    },
    {
     "data": {
      "text/plain": [
       "<matplotlib.figure.Figure at 0x7f1df93a1908>"
      ]
     },
     "metadata": {},
     "output_type": "display_data"
    },
    {
     "data": {
      "text/plain": [
       "<matplotlib.figure.Figure at 0x7f1df8dc7b00>"
      ]
     },
     "metadata": {},
     "output_type": "display_data"
    },
    {
     "data": {
      "text/plain": [
       "<matplotlib.figure.Figure at 0x7f1df8fbc2e8>"
      ]
     },
     "metadata": {},
     "output_type": "display_data"
    },
    {
     "data": {
      "text/plain": [
       "<matplotlib.figure.Figure at 0x7f1df83cb9e8>"
      ]
     },
     "metadata": {},
     "output_type": "display_data"
    },
    {
     "data": {
      "text/plain": [
       "<matplotlib.figure.Figure at 0x7f1df9378f28>"
      ]
     },
     "metadata": {},
     "output_type": "display_data"
    },
    {
     "data": {
      "text/plain": [
       "<matplotlib.figure.Figure at 0x7f1df83cb940>"
      ]
     },
     "metadata": {},
     "output_type": "display_data"
    },
    {
     "data": {
      "text/plain": [
       "<matplotlib.figure.Figure at 0x7f1df78deba8>"
      ]
     },
     "metadata": {},
     "output_type": "display_data"
    },
    {
     "data": {
      "text/plain": [
       "<matplotlib.figure.Figure at 0x7f1df78de160>"
      ]
     },
     "metadata": {},
     "output_type": "display_data"
    },
    {
     "data": {
      "text/plain": [
       "<matplotlib.figure.Figure at 0x7f1df6b071d0>"
      ]
     },
     "metadata": {},
     "output_type": "display_data"
    },
    {
     "data": {
      "text/plain": [
       "<matplotlib.figure.Figure at 0x7f1df7cc9320>"
      ]
     },
     "metadata": {},
     "output_type": "display_data"
    },
    {
     "data": {
      "text/plain": [
       "<matplotlib.figure.Figure at 0x7f1df92c2ba8>"
      ]
     },
     "metadata": {},
     "output_type": "display_data"
    },
    {
     "data": {
      "text/plain": [
       "<matplotlib.figure.Figure at 0x7f1dfbe5c048>"
      ]
     },
     "metadata": {},
     "output_type": "display_data"
    },
    {
     "data": {
      "text/plain": [
       "<matplotlib.figure.Figure at 0x7f1df67d7dd8>"
      ]
     },
     "metadata": {},
     "output_type": "display_data"
    },
    {
     "data": {
      "text/plain": [
       "<matplotlib.figure.Figure at 0x7f1df894fef0>"
      ]
     },
     "metadata": {},
     "output_type": "display_data"
    },
    {
     "data": {
      "text/plain": [
       "<matplotlib.figure.Figure at 0x7f1df894f240>"
      ]
     },
     "metadata": {},
     "output_type": "display_data"
    },
    {
     "data": {
      "text/plain": [
       "<matplotlib.figure.Figure at 0x7f1dfbe5c128>"
      ]
     },
     "metadata": {},
     "output_type": "display_data"
    },
    {
     "data": {
      "text/plain": [
       "<matplotlib.figure.Figure at 0x7f1df6c3d390>"
      ]
     },
     "metadata": {},
     "output_type": "display_data"
    },
    {
     "data": {
      "text/plain": [
       "<matplotlib.figure.Figure at 0x7f1df894f2b0>"
      ]
     },
     "metadata": {},
     "output_type": "display_data"
    },
    {
     "data": {
      "text/plain": [
       "<matplotlib.figure.Figure at 0x7f1df88f50b8>"
      ]
     },
     "metadata": {},
     "output_type": "display_data"
    },
    {
     "data": {
      "text/plain": [
       "<matplotlib.figure.Figure at 0x7f1df7d08320>"
      ]
     },
     "metadata": {},
     "output_type": "display_data"
    },
    {
     "data": {
      "text/plain": [
       "<matplotlib.figure.Figure at 0x7f1df88f5128>"
      ]
     },
     "metadata": {},
     "output_type": "display_data"
    },
    {
     "data": {
      "text/plain": [
       "<matplotlib.figure.Figure at 0x7f1df7aef5f8>"
      ]
     },
     "metadata": {},
     "output_type": "display_data"
    },
    {
     "data": {
      "text/plain": [
       "<matplotlib.figure.Figure at 0x7f1df78c8240>"
      ]
     },
     "metadata": {},
     "output_type": "display_data"
    },
    {
     "data": {
      "text/plain": [
       "<matplotlib.figure.Figure at 0x7f1df9420c50>"
      ]
     },
     "metadata": {},
     "output_type": "display_data"
    },
    {
     "data": {
      "text/plain": [
       "<matplotlib.figure.Figure at 0x7f1df8c7e320>"
      ]
     },
     "metadata": {},
     "output_type": "display_data"
    },
    {
     "data": {
      "text/plain": [
       "<matplotlib.figure.Figure at 0x7f1df6b46860>"
      ]
     },
     "metadata": {},
     "output_type": "display_data"
    },
    {
     "data": {
      "text/plain": [
       "<matplotlib.figure.Figure at 0x7f1df6b46b70>"
      ]
     },
     "metadata": {},
     "output_type": "display_data"
    },
    {
     "data": {
      "text/plain": [
       "<matplotlib.figure.Figure at 0x7f1df6513550>"
      ]
     },
     "metadata": {},
     "output_type": "display_data"
    },
    {
     "data": {
      "text/plain": [
       "<matplotlib.figure.Figure at 0x7f1df672f2b0>"
      ]
     },
     "metadata": {},
     "output_type": "display_data"
    },
    {
     "data": {
      "text/plain": [
       "<matplotlib.figure.Figure at 0x7f1df89c5390>"
      ]
     },
     "metadata": {},
     "output_type": "display_data"
    },
    {
     "data": {
      "text/plain": [
       "<matplotlib.figure.Figure at 0x7f1df672f0f0>"
      ]
     },
     "metadata": {},
     "output_type": "display_data"
    },
    {
     "data": {
      "text/plain": [
       "<matplotlib.figure.Figure at 0x7f1df7342f60>"
      ]
     },
     "metadata": {},
     "output_type": "display_data"
    },
    {
     "data": {
      "text/plain": [
       "<matplotlib.figure.Figure at 0x7f1df669f390>"
      ]
     },
     "metadata": {},
     "output_type": "display_data"
    },
    {
     "data": {
      "text/plain": [
       "<matplotlib.figure.Figure at 0x7f1df73d6e80>"
      ]
     },
     "metadata": {},
     "output_type": "display_data"
    },
    {
     "data": {
      "text/plain": [
       "<matplotlib.figure.Figure at 0x7f1df71f3630>"
      ]
     },
     "metadata": {},
     "output_type": "display_data"
    },
    {
     "data": {
      "text/plain": [
       "<matplotlib.figure.Figure at 0x7f1df7e6acc0>"
      ]
     },
     "metadata": {},
     "output_type": "display_data"
    },
    {
     "data": {
      "text/plain": [
       "<matplotlib.figure.Figure at 0x7f1df7fbe048>"
      ]
     },
     "metadata": {},
     "output_type": "display_data"
    },
    {
     "data": {
      "text/plain": [
       "<matplotlib.figure.Figure at 0x7f1df5f3a0b8>"
      ]
     },
     "metadata": {},
     "output_type": "display_data"
    },
    {
     "data": {
      "text/plain": [
       "<matplotlib.figure.Figure at 0x7f1df69e9f28>"
      ]
     },
     "metadata": {},
     "output_type": "display_data"
    },
    {
     "data": {
      "text/plain": [
       "<matplotlib.figure.Figure at 0x7f1dfc13d748>"
      ]
     },
     "metadata": {},
     "output_type": "display_data"
    },
    {
     "data": {
      "text/plain": [
       "<matplotlib.figure.Figure at 0x7f1df8dde978>"
      ]
     },
     "metadata": {},
     "output_type": "display_data"
    },
    {
     "data": {
      "text/plain": [
       "<matplotlib.figure.Figure at 0x7f1df8bd52b0>"
      ]
     },
     "metadata": {},
     "output_type": "display_data"
    },
    {
     "data": {
      "text/plain": [
       "<matplotlib.figure.Figure at 0x7f1df7126eb8>"
      ]
     },
     "metadata": {},
     "output_type": "display_data"
    },
    {
     "data": {
      "text/plain": [
       "<matplotlib.figure.Figure at 0x7f1df787ecf8>"
      ]
     },
     "metadata": {},
     "output_type": "display_data"
    },
    {
     "data": {
      "text/plain": [
       "<matplotlib.figure.Figure at 0x7f1df6178860>"
      ]
     },
     "metadata": {},
     "output_type": "display_data"
    },
    {
     "data": {
      "text/plain": [
       "<matplotlib.figure.Figure at 0x7f1df787edd8>"
      ]
     },
     "metadata": {},
     "output_type": "display_data"
    },
    {
     "data": {
      "text/plain": [
       "<matplotlib.figure.Figure at 0x7f1df7b8ac18>"
      ]
     },
     "metadata": {},
     "output_type": "display_data"
    },
    {
     "data": {
      "text/plain": [
       "<matplotlib.figure.Figure at 0x7f1df5c9f908>"
      ]
     },
     "metadata": {},
     "output_type": "display_data"
    },
    {
     "data": {
      "text/plain": [
       "<matplotlib.figure.Figure at 0x7f1df7283b38>"
      ]
     },
     "metadata": {},
     "output_type": "display_data"
    },
    {
     "data": {
      "text/plain": [
       "<matplotlib.figure.Figure at 0x7f1df79c2828>"
      ]
     },
     "metadata": {},
     "output_type": "display_data"
    },
    {
     "data": {
      "text/plain": [
       "<matplotlib.figure.Figure at 0x7f1df8bd0f28>"
      ]
     },
     "metadata": {},
     "output_type": "display_data"
    },
    {
     "data": {
      "text/plain": [
       "<matplotlib.figure.Figure at 0x7f1df5c40eb8>"
      ]
     },
     "metadata": {},
     "output_type": "display_data"
    },
    {
     "data": {
      "text/plain": [
       "<matplotlib.figure.Figure at 0x7f1df5c40ac8>"
      ]
     },
     "metadata": {},
     "output_type": "display_data"
    },
    {
     "data": {
      "text/plain": [
       "<matplotlib.figure.Figure at 0x7f1df5cdd9e8>"
      ]
     },
     "metadata": {},
     "output_type": "display_data"
    },
    {
     "data": {
      "text/plain": [
       "<matplotlib.figure.Figure at 0x7f1df6f29ef0>"
      ]
     },
     "metadata": {},
     "output_type": "display_data"
    },
    {
     "data": {
      "text/plain": [
       "<matplotlib.figure.Figure at 0x7f1df5c27898>"
      ]
     },
     "metadata": {},
     "output_type": "display_data"
    },
    {
     "data": {
      "text/plain": [
       "<matplotlib.figure.Figure at 0x7f1df6aa7550>"
      ]
     },
     "metadata": {},
     "output_type": "display_data"
    },
    {
     "data": {
      "text/plain": [
       "<matplotlib.figure.Figure at 0x7f1df6aa7780>"
      ]
     },
     "metadata": {},
     "output_type": "display_data"
    },
    {
     "data": {
      "text/plain": [
       "<matplotlib.figure.Figure at 0x7f1df869e518>"
      ]
     },
     "metadata": {},
     "output_type": "display_data"
    },
    {
     "data": {
      "text/plain": [
       "<matplotlib.figure.Figure at 0x7f1df64d1208>"
      ]
     },
     "metadata": {},
     "output_type": "display_data"
    },
    {
     "data": {
      "text/plain": [
       "<matplotlib.figure.Figure at 0x7f1df7a05f28>"
      ]
     },
     "metadata": {},
     "output_type": "display_data"
    },
    {
     "data": {
      "text/plain": [
       "<matplotlib.figure.Figure at 0x7f1df8a33710>"
      ]
     },
     "metadata": {},
     "output_type": "display_data"
    },
    {
     "data": {
      "text/plain": [
       "<matplotlib.figure.Figure at 0x7f1df61fb630>"
      ]
     },
     "metadata": {},
     "output_type": "display_data"
    },
    {
     "data": {
      "text/plain": [
       "<matplotlib.figure.Figure at 0x7f1df84c7128>"
      ]
     },
     "metadata": {},
     "output_type": "display_data"
    },
    {
     "data": {
      "text/plain": [
       "<matplotlib.figure.Figure at 0x7f1df8ccc2e8>"
      ]
     },
     "metadata": {},
     "output_type": "display_data"
    },
    {
     "data": {
      "text/plain": [
       "<matplotlib.figure.Figure at 0x7f1df74bb898>"
      ]
     },
     "metadata": {},
     "output_type": "display_data"
    },
    {
     "data": {
      "text/plain": [
       "<matplotlib.figure.Figure at 0x7f1df65b5748>"
      ]
     },
     "metadata": {},
     "output_type": "display_data"
    },
    {
     "data": {
      "text/plain": [
       "<matplotlib.figure.Figure at 0x7f1df6fbc048>"
      ]
     },
     "metadata": {},
     "output_type": "display_data"
    },
    {
     "data": {
      "text/plain": [
       "<matplotlib.figure.Figure at 0x7f1df60d7d68>"
      ]
     },
     "metadata": {},
     "output_type": "display_data"
    },
    {
     "data": {
      "text/plain": [
       "<matplotlib.figure.Figure at 0x7f1df6b50c88>"
      ]
     },
     "metadata": {},
     "output_type": "display_data"
    },
    {
     "data": {
      "text/plain": [
       "<matplotlib.figure.Figure at 0x7f1df9142898>"
      ]
     },
     "metadata": {},
     "output_type": "display_data"
    },
    {
     "data": {
      "text/plain": [
       "<matplotlib.figure.Figure at 0x7f1df9142a58>"
      ]
     },
     "metadata": {},
     "output_type": "display_data"
    },
    {
     "data": {
      "text/plain": [
       "<matplotlib.figure.Figure at 0x7f1df5e63c18>"
      ]
     },
     "metadata": {},
     "output_type": "display_data"
    }
   ],
   "source": [
    "ruta = './../nuevosManuelBeacons/Raspberri/Tx_0x04/test' # num+.csv\n",
    "for it in range(15):\n",
    "    ruta_f = ruta+str(it+1)+'.csv'\n",
    "    data = pd.read_csv(ruta_f,names=['Pos','Be07','Be08','Be09','Be10','Be11'])\n",
    "    plotear(data,it)"
   ]
  },
  {
   "cell_type": "markdown",
   "metadata": {
    "collapsed": true
   },
   "source": [
    "### Arma tabla de Raspberry Pi 2, Tx=4"
   ]
  },
  {
   "cell_type": "code",
   "execution_count": 11,
   "metadata": {
    "collapsed": true
   },
   "outputs": [],
   "source": [
    "def plotear2(data,pos):\n",
    "    beacons = ['Be07','Be08','Be09','Be10','Be11']\n",
    "    print('--- Sector '+str(pos+1))\n",
    "    for beacon in beacons:\n",
    "        data_f = data[beacon][0:250]\n",
    "        mn = data_f.mean()\n",
    "        std = data_f.std()\n",
    "        m = data_f.min()\n",
    "        M = data_f.max()\n",
    "        print('*'+beacon+': ')\n",
    "        print('Mean: '+str(mn))\n",
    "        print('Std: '+str(std))\n",
    "        print('Min: '+str(m))\n",
    "        print('Max: '+str(M))\n",
    "        "
   ]
  },
  {
   "cell_type": "code",
   "execution_count": 12,
   "metadata": {},
   "outputs": [
    {
     "name": "stdout",
     "output_type": "stream",
     "text": [
      "--- Sector 1\n",
      "*Be07: \n",
      "Mean: -65.184\n",
      "Std: 2.811005336888576\n",
      "Min: -78\n",
      "Max: -61\n",
      "*Be08: \n",
      "Mean: -59.628\n",
      "Std: 0.723678687936501\n",
      "Min: -62\n",
      "Max: -57\n",
      "*Be09: \n",
      "Mean: -72.608\n",
      "Std: 3.751082307000951\n",
      "Min: -88\n",
      "Max: -66\n",
      "*Be10: \n",
      "Mean: -62.552\n",
      "Std: 3.745853932916632\n",
      "Min: -74\n",
      "Max: -57\n",
      "*Be11: \n",
      "Mean: -68.724\n",
      "Std: 3.5363607550076432\n",
      "Min: -82\n",
      "Max: -63\n",
      "--- Sector 2\n",
      "*Be07: \n",
      "Mean: -60.172\n",
      "Std: 0.7325040948663596\n",
      "Min: -62\n",
      "Max: -58\n",
      "*Be08: \n",
      "Mean: -62.528\n",
      "Std: 3.2066096397170174\n",
      "Min: -68\n",
      "Max: -57\n",
      "*Be09: \n",
      "Mean: -74.952\n",
      "Std: 5.734915257616992\n",
      "Min: -88\n",
      "Max: -67\n",
      "*Be10: \n",
      "Mean: -63.376\n",
      "Std: 2.5449027723042614\n",
      "Min: -67\n",
      "Max: -58\n",
      "*Be11: \n",
      "Mean: -67.784\n",
      "Std: 0.846291223717558\n",
      "Min: -69\n",
      "Max: -65\n",
      "--- Sector 3\n",
      "*Be07: \n",
      "Mean: -68.736\n",
      "Std: 1.8525744596409786\n",
      "Min: -75\n",
      "Max: -64\n",
      "*Be08: \n",
      "Mean: -73.576\n",
      "Std: 3.719619102147457\n",
      "Min: -86\n",
      "Max: -68\n",
      "*Be09: \n",
      "Mean: -75.476\n",
      "Std: 3.840366866678584\n",
      "Min: -84\n",
      "Max: -68\n",
      "*Be10: \n",
      "Mean: -64.388\n",
      "Std: 2.8308143775529753\n",
      "Min: -74\n",
      "Max: -60\n",
      "*Be11: \n",
      "Mean: -73.576\n",
      "Std: 4.531485567204549\n",
      "Min: -89\n",
      "Max: -65\n",
      "--- Sector 4\n",
      "*Be07: \n",
      "Mean: -65.508\n",
      "Std: 3.0645557603072135\n",
      "Min: -71\n",
      "Max: -60\n",
      "*Be08: \n",
      "Mean: -59.856\n",
      "Std: 4.158900070835649\n",
      "Min: -66\n",
      "Max: -53\n",
      "*Be09: \n",
      "Mean: -71.732\n",
      "Std: 3.0609891568697045\n",
      "Min: -77\n",
      "Max: -67\n",
      "*Be10: \n",
      "Mean: -66.952\n",
      "Std: 3.0256095671801564\n",
      "Min: -71\n",
      "Max: -61\n",
      "*Be11: \n",
      "Mean: -66.948\n",
      "Std: 3.6417503183944535\n",
      "Min: -75\n",
      "Max: -62\n",
      "--- Sector 5\n",
      "*Be07: \n",
      "Mean: -66.744\n",
      "Std: 2.880216413109503\n",
      "Min: -71\n",
      "Max: -61\n",
      "*Be08: \n",
      "Mean: -66.428\n",
      "Std: 5.206269004555108\n",
      "Min: -79\n",
      "Max: -58\n",
      "*Be09: \n",
      "Mean: -69.616\n",
      "Std: 1.5692015722325745\n",
      "Min: -73\n",
      "Max: -67\n",
      "*Be10: \n",
      "Mean: -63.508\n",
      "Std: 1.3891200878519796\n",
      "Min: -66\n",
      "Max: -60\n",
      "*Be11: \n",
      "Mean: -70.116\n",
      "Std: 3.708037509070629\n",
      "Min: -76\n",
      "Max: -64\n",
      "--- Sector 6\n",
      "*Be07: \n",
      "Mean: -69.112\n",
      "Std: 4.323682797306819\n",
      "Min: -79\n",
      "Max: -62\n",
      "*Be08: \n",
      "Mean: -74.992\n",
      "Std: 4.854503146894937\n",
      "Min: -90\n",
      "Max: -68\n",
      "*Be09: \n",
      "Mean: -71.668\n",
      "Std: 2.475132546854412\n",
      "Min: -79\n",
      "Max: -67\n",
      "*Be10: \n",
      "Mean: -58.548\n",
      "Std: 2.279579331304539\n",
      "Min: -63\n",
      "Max: -55\n",
      "*Be11: \n",
      "Mean: -70.36\n",
      "Std: 3.8158410043240942\n",
      "Min: -77\n",
      "Max: -64\n",
      "--- Sector 7\n",
      "*Be07: \n",
      "Mean: -67.176\n",
      "Std: 1.7542329757855237\n",
      "Min: -71\n",
      "Max: -63\n",
      "*Be08: \n",
      "Mean: -67.076\n",
      "Std: 4.547631008686245\n",
      "Min: -76\n",
      "Max: -62\n",
      "*Be09: \n",
      "Mean: -54.252\n",
      "Std: 1.5589152855334611\n",
      "Min: -57\n",
      "Max: -52\n",
      "*Be10: \n",
      "Mean: -74.532\n",
      "Std: 1.8304036467512186\n",
      "Min: -80\n",
      "Max: -69\n",
      "*Be11: \n",
      "Mean: -67.88\n",
      "Std: 3.2316208772032504\n",
      "Min: -74\n",
      "Max: -63\n",
      "--- Sector 8\n",
      "*Be07: \n",
      "Mean: -57.804\n",
      "Std: 3.8928396837286847\n",
      "Min: -75\n",
      "Max: -54\n",
      "*Be08: \n",
      "Mean: -64.652\n",
      "Std: 3.532251861469027\n",
      "Min: -84\n",
      "Max: -59\n",
      "*Be09: \n",
      "Mean: -66.884\n",
      "Std: 2.247386701916653\n",
      "Min: -78\n",
      "Max: -63\n",
      "*Be10: \n",
      "Mean: -68.768\n",
      "Std: 2.1023452194363204\n",
      "Min: -80\n",
      "Max: -64\n",
      "*Be11: \n",
      "Mean: -66.896\n",
      "Std: 5.838968935773825\n",
      "Min: -87\n",
      "Max: -59\n",
      "--- Sector 9\n",
      "*Be07: \n",
      "Mean: -66.216\n",
      "Std: 1.903638452393132\n",
      "Min: -81\n",
      "Max: -62\n",
      "*Be08: \n",
      "Mean: -71.116\n",
      "Std: 1.6952994309686327\n",
      "Min: -79\n",
      "Max: -66\n",
      "*Be09: \n",
      "Mean: -68.844\n",
      "Std: 2.324063053427164\n",
      "Min: -77\n",
      "Max: -64\n",
      "*Be10: \n",
      "Mean: -72.36\n",
      "Std: 5.037848715346148\n",
      "Min: -92\n",
      "Max: -64\n",
      "*Be11: \n",
      "Mean: -74.432\n",
      "Std: 4.347987578631724\n",
      "Min: -87\n",
      "Max: -67\n",
      "--- Sector 10\n",
      "*Be07: \n",
      "Mean: -63.7\n",
      "Std: 3.113966465553919\n",
      "Min: -69\n",
      "Max: -57\n",
      "*Be08: \n",
      "Mean: -72.148\n",
      "Std: 2.0234806387960145\n",
      "Min: -77\n",
      "Max: -68\n",
      "*Be09: \n",
      "Mean: -70.656\n",
      "Std: 3.933389149423586\n",
      "Min: -81\n",
      "Max: -65\n",
      "*Be10: \n",
      "Mean: -69.636\n",
      "Std: 5.204985253191769\n",
      "Min: -86\n",
      "Max: -62\n",
      "*Be11: \n",
      "Mean: -72.804\n",
      "Std: 3.9338894168208527\n",
      "Min: -89\n",
      "Max: -66\n",
      "--- Sector 11\n",
      "*Be07: \n",
      "Mean: -58.472\n",
      "Std: 1.5758009374211916\n",
      "Min: -65\n",
      "Max: -55\n",
      "*Be08: \n",
      "Mean: -67.856\n",
      "Std: 2.1813521468930768\n",
      "Min: -74\n",
      "Max: -64\n",
      "*Be09: \n",
      "Mean: -68.52\n",
      "Std: 4.854675219408999\n",
      "Min: -81\n",
      "Max: -62\n",
      "*Be10: \n",
      "Mean: -70.06\n",
      "Std: 3.927096682463222\n",
      "Min: -79\n",
      "Max: -63\n",
      "*Be11: \n",
      "Mean: -66.856\n",
      "Std: 3.2169331100503373\n",
      "Min: -76\n",
      "Max: -61\n",
      "--- Sector 12\n",
      "*Be07: \n",
      "Mean: -64.584\n",
      "Std: 3.9192327746854625\n",
      "Min: -75\n",
      "Max: -57\n",
      "*Be08: \n",
      "Mean: -74.896\n",
      "Std: 4.627183517998496\n",
      "Min: -88\n",
      "Max: -67\n",
      "*Be09: \n",
      "Mean: -75.616\n",
      "Std: 1.9065897139524786\n",
      "Min: -85\n",
      "Max: -72\n",
      "*Be10: \n",
      "Mean: -73.58\n",
      "Std: 2.446947118513846\n",
      "Min: -83\n",
      "Max: -68\n",
      "*Be11: \n",
      "Mean: -63.616\n",
      "Std: 1.3987027839793718\n",
      "Min: -68\n",
      "Max: -61\n",
      "--- Sector 13\n",
      "*Be07: \n",
      "Mean: -57.824\n",
      "Std: 0.9405116952999498\n",
      "Min: -61\n",
      "Max: -55\n",
      "*Be08: \n",
      "Mean: -69.672\n",
      "Std: 2.032965270525951\n",
      "Min: -75\n",
      "Max: -65\n",
      "*Be09: \n",
      "Mean: -77.004\n",
      "Std: 4.158986978912419\n",
      "Min: -90\n",
      "Max: -71\n",
      "*Be10: \n",
      "Mean: -68.348\n",
      "Std: 3.0211596486266585\n",
      "Min: -74\n",
      "Max: -62\n",
      "*Be11: \n",
      "Mean: -67.588\n",
      "Std: 2.8274074576768924\n",
      "Min: -74\n",
      "Max: -62\n",
      "--- Sector 14\n",
      "*Be07: \n",
      "Mean: -58.32\n",
      "Std: 3.4270363746614936\n",
      "Min: -69\n",
      "Max: -52\n",
      "*Be08: \n",
      "Mean: -70.604\n",
      "Std: 4.206418885389026\n",
      "Min: -81\n",
      "Max: -65\n",
      "*Be09: \n",
      "Mean: -72.06\n",
      "Std: 3.147064674304773\n",
      "Min: -85\n",
      "Max: -67\n",
      "*Be10: \n",
      "Mean: -72.248\n",
      "Std: 5.346103186163582\n",
      "Min: -86\n",
      "Max: -61\n",
      "*Be11: \n",
      "Mean: -68.904\n",
      "Std: 1.8276062426883035\n",
      "Min: -76\n",
      "Max: -63\n",
      "--- Sector 15\n",
      "*Be07: \n",
      "Mean: -64.056\n",
      "Std: 4.700344343533908\n",
      "Min: -86\n",
      "Max: -57\n",
      "*Be08: \n",
      "Mean: -67.02\n",
      "Std: 3.9458686645746672\n",
      "Min: -76\n",
      "Max: -61\n",
      "*Be09: \n",
      "Mean: -74.52\n",
      "Std: 3.306559138036596\n",
      "Min: -87\n",
      "Max: -70\n",
      "*Be10: \n",
      "Mean: -70.988\n",
      "Std: 1.9021906627015757\n",
      "Min: -75\n",
      "Max: -67\n",
      "*Be11: \n",
      "Mean: -63.364\n",
      "Std: 4.856939721039914\n",
      "Min: -74\n",
      "Max: -56\n"
     ]
    }
   ],
   "source": [
    "ruta = './../nuevosManuelBeacons/Raspberri/Tx_0x04/test' # num+.csv\n",
    "for it in range(15):\n",
    "    ruta_f = ruta+str(it+1)+'.csv'\n",
    "    data = pd.read_csv(ruta_f,names=['Pos','Be07','Be08','Be09','Be10','Be11'])\n",
    "    plotear2(data,it)"
   ]
  },
  {
   "cell_type": "code",
   "execution_count": null,
   "metadata": {
    "collapsed": true
   },
   "outputs": [],
   "source": []
  }
 ],
 "metadata": {
  "kernelspec": {
   "display_name": "Python 3",
   "language": "python",
   "name": "python3"
  },
  "language_info": {
   "codemirror_mode": {
    "name": "ipython",
    "version": 3
   },
   "file_extension": ".py",
   "mimetype": "text/x-python",
   "name": "python",
   "nbconvert_exporter": "python",
   "pygments_lexer": "ipython3",
   "version": "3.6.1"
  }
 },
 "nbformat": 4,
 "nbformat_minor": 2
}
